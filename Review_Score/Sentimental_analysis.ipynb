{
 "cells": [
  {
   "cell_type": "code",
   "execution_count": 1,
   "id": "369746ea",
   "metadata": {},
   "outputs": [],
   "source": [
    "import pandas as pd\n",
    "import numpy as np\n",
    "import re\n",
    "import seaborn as sns\n",
    "import matplotlib.pyplot as plt\n",
    "import warnings\n",
    "warnings.filterwarnings('ignore')\n",
    "import scipy.stats\n",
    "from scipy.stats import chi2\n",
    "from tqdm import tqdm\n",
    "import nltk\n",
    "from nltk.tokenize import word_tokenize\n",
    "from nltk.stem.porter import PorterStemmer\n",
    "from nltk.stem import WordNetLemmatizer\n",
    "import swifter\n",
    "from sklearn.model_selection import train_test_split\n",
    "import gensim\n",
    "from gensim.parsing.preprocessing import STOPWORDS\n",
    "from gensim.models import Word2Vec"
   ]
  },
  {
   "cell_type": "code",
   "execution_count": 3,
   "id": "88ce3cb3",
   "metadata": {},
   "outputs": [],
   "source": [
    "# from tqdm import tqdm\n",
    "# import zipfile\n",
    "# with zipfile.ZipFile(\"txt_reviews.zip\", 'r') as zip_ref:\n",
    "#     zip_ref.extractall(\"data/\")\n"
   ]
  },
  {
   "cell_type": "code",
   "execution_count": 4,
   "id": "e819abf2",
   "metadata": {},
   "outputs": [],
   "source": [
    "# ProductId,UserId,ProfileName,HelpfulnessNumerator,HelpfulnessDenominator,Score,Time,ReviewSummary,ReviewText = [],[],[],[],[],[],[],[],[]\n",
    "# for file in glob.glob(\"data/txt_reviews/*.txt\"):\n",
    "#     configs = Properties(process_escapes_in_values=False)\n",
    "#     with open(file, 'rb') as config_file:\n",
    "#         configs.load(config_file)\n",
    "#         ProductId.append(configs.get(\"ProductId\").data)\n",
    "#         UserId.append(configs.get(\"UserId\").data)\n",
    "#         ProfileName.append(configs.get(\"ProfileName\").data)\n",
    "#         HelpfulnessNumerator.append(configs.get(\"HelpfulnessNumerator\").data)\n",
    "#         HelpfulnessDenominator.append(configs.get(\"HelpfulnessDenominator\").data)\n",
    "#         Score.append(configs.get(\"Score\").data)\n",
    "#         Time.append(configs.get(\"Time\").data)\n",
    "#         ReviewSummary.append(configs.get(\"ReviewSummary\").data)\n",
    "#         ReviewText.append(configs.get(\"ReviewText\",\"empty\").data)\n",
    "        \n",
    "# data = pd.DataFrame({'ProductId':ProductId,'UserId':UserId,'ProfileName':ProfileName,'HelpfulnessNumerator':HelpfulnessNumerator,'HelpfulnessDenominator':HelpfulnessDenominator,'Score':Score,'Time':Time,'ReviewSummary':ReviewSummary,'ReviewText':ReviewText})\n"
   ]
  },
  {
   "cell_type": "code",
   "execution_count": 5,
   "id": "dcece7f8",
   "metadata": {},
   "outputs": [],
   "source": [
    "df=pd.read_csv(r\"C:\\Users\\ceh\\Downloads\\txt_reviews.csv\")"
   ]
  },
  {
   "cell_type": "code",
   "execution_count": 6,
   "id": "15f97d6d",
   "metadata": {},
   "outputs": [
    {
     "data": {
      "text/html": [
       "<div>\n",
       "<style scoped>\n",
       "    .dataframe tbody tr th:only-of-type {\n",
       "        vertical-align: middle;\n",
       "    }\n",
       "\n",
       "    .dataframe tbody tr th {\n",
       "        vertical-align: top;\n",
       "    }\n",
       "\n",
       "    .dataframe thead th {\n",
       "        text-align: right;\n",
       "    }\n",
       "</style>\n",
       "<table border=\"1\" class=\"dataframe\">\n",
       "  <thead>\n",
       "    <tr style=\"text-align: right;\">\n",
       "      <th></th>\n",
       "      <th>ProductId</th>\n",
       "      <th>UserId</th>\n",
       "      <th>ProfileName</th>\n",
       "      <th>HelpfulnessNumerator</th>\n",
       "      <th>HelpfulnessDenominator</th>\n",
       "      <th>Score</th>\n",
       "      <th>Time</th>\n",
       "      <th>ReviewSummary</th>\n",
       "      <th>ReviewText</th>\n",
       "    </tr>\n",
       "  </thead>\n",
       "  <tbody>\n",
       "    <tr>\n",
       "      <th>0</th>\n",
       "      <td>B001E4KFG0</td>\n",
       "      <td>A3SGXH7AUHU8GW</td>\n",
       "      <td>delmartian</td>\n",
       "      <td>1</td>\n",
       "      <td>1</td>\n",
       "      <td>5</td>\n",
       "      <td>1303862400</td>\n",
       "      <td>Good Quality Dog Food</td>\n",
       "      <td>I have bought several of the Vitality canned d...</td>\n",
       "    </tr>\n",
       "    <tr>\n",
       "      <th>1</th>\n",
       "      <td>B00171APVA</td>\n",
       "      <td>A21BT40VZCCYT4</td>\n",
       "      <td>Carol A. Reed</td>\n",
       "      <td>0</td>\n",
       "      <td>0</td>\n",
       "      <td>5</td>\n",
       "      <td>1351209600</td>\n",
       "      <td>Healthy Dog Food</td>\n",
       "      <td>This is a very healthy dog food. Good for thei...</td>\n",
       "    </tr>\n",
       "    <tr>\n",
       "      <th>2</th>\n",
       "      <td>B0019CW0HE</td>\n",
       "      <td>A2P6ACFZ8FTNVV</td>\n",
       "      <td>Melissa Benjamin</td>\n",
       "      <td>0</td>\n",
       "      <td>1</td>\n",
       "      <td>1</td>\n",
       "      <td>1331164800</td>\n",
       "      <td>Bad</td>\n",
       "      <td>I fed this to my Golden Retriever and he hated...</td>\n",
       "    </tr>\n",
       "    <tr>\n",
       "      <th>3</th>\n",
       "      <td>B006F2NYI2</td>\n",
       "      <td>A132DJVI37RB4X</td>\n",
       "      <td>Scottdrum</td>\n",
       "      <td>2</td>\n",
       "      <td>5</td>\n",
       "      <td>2</td>\n",
       "      <td>1332374400</td>\n",
       "      <td>Not hot, not habanero</td>\n",
       "      <td>I have to admit, I was a sucker for the large ...</td>\n",
       "    </tr>\n",
       "    <tr>\n",
       "      <th>4</th>\n",
       "      <td>B000P41A28</td>\n",
       "      <td>A82WIMR4RSVLI</td>\n",
       "      <td>Emrose mom</td>\n",
       "      <td>0</td>\n",
       "      <td>1</td>\n",
       "      <td>4</td>\n",
       "      <td>1337472000</td>\n",
       "      <td>The best weve tried so far</td>\n",
       "      <td>We have a 7 week old... He had gas and constip...</td>\n",
       "    </tr>\n",
       "  </tbody>\n",
       "</table>\n",
       "</div>"
      ],
      "text/plain": [
       "    ProductId          UserId       ProfileName  HelpfulnessNumerator  \\\n",
       "0  B001E4KFG0  A3SGXH7AUHU8GW        delmartian                     1   \n",
       "1  B00171APVA  A21BT40VZCCYT4     Carol A. Reed                     0   \n",
       "2  B0019CW0HE  A2P6ACFZ8FTNVV  Melissa Benjamin                     0   \n",
       "3  B006F2NYI2  A132DJVI37RB4X         Scottdrum                     2   \n",
       "4  B000P41A28   A82WIMR4RSVLI        Emrose mom                     0   \n",
       "\n",
       "   HelpfulnessDenominator  Score        Time               ReviewSummary  \\\n",
       "0                       1      5  1303862400       Good Quality Dog Food   \n",
       "1                       0      5  1351209600            Healthy Dog Food   \n",
       "2                       1      1  1331164800                         Bad   \n",
       "3                       5      2  1332374400       Not hot, not habanero   \n",
       "4                       1      4  1337472000  The best weve tried so far   \n",
       "\n",
       "                                          ReviewText  \n",
       "0  I have bought several of the Vitality canned d...  \n",
       "1  This is a very healthy dog food. Good for thei...  \n",
       "2  I fed this to my Golden Retriever and he hated...  \n",
       "3  I have to admit, I was a sucker for the large ...  \n",
       "4  We have a 7 week old... He had gas and constip...  "
      ]
     },
     "execution_count": 6,
     "metadata": {},
     "output_type": "execute_result"
    }
   ],
   "source": [
    "df.head()"
   ]
  },
  {
   "cell_type": "code",
   "execution_count": 7,
   "id": "491ecc9d",
   "metadata": {},
   "outputs": [
    {
     "data": {
      "text/html": [
       "<div>\n",
       "<style scoped>\n",
       "    .dataframe tbody tr th:only-of-type {\n",
       "        vertical-align: middle;\n",
       "    }\n",
       "\n",
       "    .dataframe tbody tr th {\n",
       "        vertical-align: top;\n",
       "    }\n",
       "\n",
       "    .dataframe thead th {\n",
       "        text-align: right;\n",
       "    }\n",
       "</style>\n",
       "<table border=\"1\" class=\"dataframe\">\n",
       "  <thead>\n",
       "    <tr style=\"text-align: right;\">\n",
       "      <th></th>\n",
       "      <th>HelpfulnessNumerator</th>\n",
       "      <th>HelpfulnessDenominator</th>\n",
       "      <th>Score</th>\n",
       "      <th>Time</th>\n",
       "    </tr>\n",
       "  </thead>\n",
       "  <tbody>\n",
       "    <tr>\n",
       "      <th>count</th>\n",
       "      <td>568454.000000</td>\n",
       "      <td>568454.00000</td>\n",
       "      <td>568454.000000</td>\n",
       "      <td>5.684540e+05</td>\n",
       "    </tr>\n",
       "    <tr>\n",
       "      <th>mean</th>\n",
       "      <td>1.743817</td>\n",
       "      <td>2.22881</td>\n",
       "      <td>4.183199</td>\n",
       "      <td>1.296257e+09</td>\n",
       "    </tr>\n",
       "    <tr>\n",
       "      <th>std</th>\n",
       "      <td>7.636513</td>\n",
       "      <td>8.28974</td>\n",
       "      <td>1.310436</td>\n",
       "      <td>4.804331e+07</td>\n",
       "    </tr>\n",
       "    <tr>\n",
       "      <th>min</th>\n",
       "      <td>0.000000</td>\n",
       "      <td>0.00000</td>\n",
       "      <td>1.000000</td>\n",
       "      <td>9.393408e+08</td>\n",
       "    </tr>\n",
       "    <tr>\n",
       "      <th>25%</th>\n",
       "      <td>0.000000</td>\n",
       "      <td>0.00000</td>\n",
       "      <td>4.000000</td>\n",
       "      <td>1.271290e+09</td>\n",
       "    </tr>\n",
       "    <tr>\n",
       "      <th>50%</th>\n",
       "      <td>0.000000</td>\n",
       "      <td>1.00000</td>\n",
       "      <td>5.000000</td>\n",
       "      <td>1.311120e+09</td>\n",
       "    </tr>\n",
       "    <tr>\n",
       "      <th>75%</th>\n",
       "      <td>2.000000</td>\n",
       "      <td>2.00000</td>\n",
       "      <td>5.000000</td>\n",
       "      <td>1.332720e+09</td>\n",
       "    </tr>\n",
       "    <tr>\n",
       "      <th>max</th>\n",
       "      <td>866.000000</td>\n",
       "      <td>923.00000</td>\n",
       "      <td>5.000000</td>\n",
       "      <td>1.351210e+09</td>\n",
       "    </tr>\n",
       "  </tbody>\n",
       "</table>\n",
       "</div>"
      ],
      "text/plain": [
       "       HelpfulnessNumerator  HelpfulnessDenominator          Score  \\\n",
       "count         568454.000000            568454.00000  568454.000000   \n",
       "mean               1.743817                 2.22881       4.183199   \n",
       "std                7.636513                 8.28974       1.310436   \n",
       "min                0.000000                 0.00000       1.000000   \n",
       "25%                0.000000                 0.00000       4.000000   \n",
       "50%                0.000000                 1.00000       5.000000   \n",
       "75%                2.000000                 2.00000       5.000000   \n",
       "max              866.000000               923.00000       5.000000   \n",
       "\n",
       "               Time  \n",
       "count  5.684540e+05  \n",
       "mean   1.296257e+09  \n",
       "std    4.804331e+07  \n",
       "min    9.393408e+08  \n",
       "25%    1.271290e+09  \n",
       "50%    1.311120e+09  \n",
       "75%    1.332720e+09  \n",
       "max    1.351210e+09  "
      ]
     },
     "execution_count": 7,
     "metadata": {},
     "output_type": "execute_result"
    }
   ],
   "source": [
    "df.describe()"
   ]
  },
  {
   "cell_type": "markdown",
   "id": "fb1b4960",
   "metadata": {},
   "source": [
    "# Renaming columns"
   ]
  },
  {
   "cell_type": "code",
   "execution_count": 8,
   "id": "6745df3a",
   "metadata": {},
   "outputs": [],
   "source": [
    "new_names=[]\n",
    "for i in df.columns:\n",
    "    new_names.append(\" \".join((re.sub( r\"([A-Z])\", r\" \\1\", i).split())).replace(\" \",\"_\").lower())\n",
    "new_names\n",
    "df.set_axis(new_names,axis='columns' , inplace=True)"
   ]
  },
  {
   "cell_type": "code",
   "execution_count": 9,
   "id": "5cee9b1c",
   "metadata": {},
   "outputs": [
    {
     "data": {
      "text/html": [
       "<div>\n",
       "<style scoped>\n",
       "    .dataframe tbody tr th:only-of-type {\n",
       "        vertical-align: middle;\n",
       "    }\n",
       "\n",
       "    .dataframe tbody tr th {\n",
       "        vertical-align: top;\n",
       "    }\n",
       "\n",
       "    .dataframe thead th {\n",
       "        text-align: right;\n",
       "    }\n",
       "</style>\n",
       "<table border=\"1\" class=\"dataframe\">\n",
       "  <thead>\n",
       "    <tr style=\"text-align: right;\">\n",
       "      <th></th>\n",
       "      <th>product_id</th>\n",
       "      <th>user_id</th>\n",
       "      <th>profile_name</th>\n",
       "      <th>helpfulness_numerator</th>\n",
       "      <th>helpfulness_denominator</th>\n",
       "      <th>score</th>\n",
       "      <th>time</th>\n",
       "      <th>review_summary</th>\n",
       "      <th>review_text</th>\n",
       "    </tr>\n",
       "  </thead>\n",
       "  <tbody>\n",
       "    <tr>\n",
       "      <th>0</th>\n",
       "      <td>B001E4KFG0</td>\n",
       "      <td>A3SGXH7AUHU8GW</td>\n",
       "      <td>delmartian</td>\n",
       "      <td>1</td>\n",
       "      <td>1</td>\n",
       "      <td>5</td>\n",
       "      <td>1303862400</td>\n",
       "      <td>Good Quality Dog Food</td>\n",
       "      <td>I have bought several of the Vitality canned d...</td>\n",
       "    </tr>\n",
       "    <tr>\n",
       "      <th>1</th>\n",
       "      <td>B00171APVA</td>\n",
       "      <td>A21BT40VZCCYT4</td>\n",
       "      <td>Carol A. Reed</td>\n",
       "      <td>0</td>\n",
       "      <td>0</td>\n",
       "      <td>5</td>\n",
       "      <td>1351209600</td>\n",
       "      <td>Healthy Dog Food</td>\n",
       "      <td>This is a very healthy dog food. Good for thei...</td>\n",
       "    </tr>\n",
       "    <tr>\n",
       "      <th>2</th>\n",
       "      <td>B0019CW0HE</td>\n",
       "      <td>A2P6ACFZ8FTNVV</td>\n",
       "      <td>Melissa Benjamin</td>\n",
       "      <td>0</td>\n",
       "      <td>1</td>\n",
       "      <td>1</td>\n",
       "      <td>1331164800</td>\n",
       "      <td>Bad</td>\n",
       "      <td>I fed this to my Golden Retriever and he hated...</td>\n",
       "    </tr>\n",
       "    <tr>\n",
       "      <th>3</th>\n",
       "      <td>B006F2NYI2</td>\n",
       "      <td>A132DJVI37RB4X</td>\n",
       "      <td>Scottdrum</td>\n",
       "      <td>2</td>\n",
       "      <td>5</td>\n",
       "      <td>2</td>\n",
       "      <td>1332374400</td>\n",
       "      <td>Not hot, not habanero</td>\n",
       "      <td>I have to admit, I was a sucker for the large ...</td>\n",
       "    </tr>\n",
       "    <tr>\n",
       "      <th>4</th>\n",
       "      <td>B000P41A28</td>\n",
       "      <td>A82WIMR4RSVLI</td>\n",
       "      <td>Emrose mom</td>\n",
       "      <td>0</td>\n",
       "      <td>1</td>\n",
       "      <td>4</td>\n",
       "      <td>1337472000</td>\n",
       "      <td>The best weve tried so far</td>\n",
       "      <td>We have a 7 week old... He had gas and constip...</td>\n",
       "    </tr>\n",
       "  </tbody>\n",
       "</table>\n",
       "</div>"
      ],
      "text/plain": [
       "   product_id         user_id      profile_name  helpfulness_numerator  \\\n",
       "0  B001E4KFG0  A3SGXH7AUHU8GW        delmartian                      1   \n",
       "1  B00171APVA  A21BT40VZCCYT4     Carol A. Reed                      0   \n",
       "2  B0019CW0HE  A2P6ACFZ8FTNVV  Melissa Benjamin                      0   \n",
       "3  B006F2NYI2  A132DJVI37RB4X         Scottdrum                      2   \n",
       "4  B000P41A28   A82WIMR4RSVLI        Emrose mom                      0   \n",
       "\n",
       "   helpfulness_denominator  score        time              review_summary  \\\n",
       "0                        1      5  1303862400       Good Quality Dog Food   \n",
       "1                        0      5  1351209600            Healthy Dog Food   \n",
       "2                        1      1  1331164800                         Bad   \n",
       "3                        5      2  1332374400       Not hot, not habanero   \n",
       "4                        1      4  1337472000  The best weve tried so far   \n",
       "\n",
       "                                         review_text  \n",
       "0  I have bought several of the Vitality canned d...  \n",
       "1  This is a very healthy dog food. Good for thei...  \n",
       "2  I fed this to my Golden Retriever and he hated...  \n",
       "3  I have to admit, I was a sucker for the large ...  \n",
       "4  We have a 7 week old... He had gas and constip...  "
      ]
     },
     "execution_count": 9,
     "metadata": {},
     "output_type": "execute_result"
    }
   ],
   "source": [
    "df.head()"
   ]
  },
  {
   "cell_type": "code",
   "execution_count": 10,
   "id": "663521c3",
   "metadata": {},
   "outputs": [
    {
     "data": {
      "text/plain": [
       "(568454, 9)"
      ]
     },
     "execution_count": 10,
     "metadata": {},
     "output_type": "execute_result"
    }
   ],
   "source": [
    "df.shape"
   ]
  },
  {
   "cell_type": "markdown",
   "id": "add9f0ac",
   "metadata": {},
   "source": [
    "# Number of rows matched that is 568454"
   ]
  },
  {
   "cell_type": "markdown",
   "id": "543c2130",
   "metadata": {},
   "source": [
    "# Coverting column time from integer into datetime also renaming column time to date "
   ]
  },
  {
   "cell_type": "code",
   "execution_count": 11,
   "id": "0d72cb0e",
   "metadata": {},
   "outputs": [
    {
     "name": "stdout",
     "output_type": "stream",
     "text": [
      "1999-10-08 00:00:00 2012-10-26 00:00:00\n"
     ]
    }
   ],
   "source": [
    "df.time=pd.to_datetime(df.time, unit='s')\n",
    "df.rename(columns={'time':'date'},inplace=True)\n",
    "print(min(df.date),max(df.date))"
   ]
  },
  {
   "cell_type": "markdown",
   "id": "af147b42",
   "metadata": {},
   "source": [
    "# Date range from 08-october-1999 to 26-october-2012 "
   ]
  },
  {
   "cell_type": "code",
   "execution_count": 12,
   "id": "e6ed88e2",
   "metadata": {},
   "outputs": [
    {
     "name": "stdout",
     "output_type": "stream",
     "text": [
      "256059\n",
      "74258\n",
      "260\n"
     ]
    }
   ],
   "source": [
    "print(df.user_id.nunique())\n",
    "print(df.product_id.nunique())\n",
    "count=0\n",
    "for i in df.user_id.value_counts():\n",
    "    if i>50:\n",
    "        count+=1\n",
    "print(count)"
   ]
  },
  {
   "cell_type": "markdown",
   "id": "dd646b9c",
   "metadata": {},
   "source": [
    "# Total user_id and product_id are 256059 and 74258 also 260 user have more than 50 reviews"
   ]
  },
  {
   "cell_type": "markdown",
   "id": "525d190a",
   "metadata": {},
   "source": [
    "# Dropping duplicates"
   ]
  },
  {
   "cell_type": "code",
   "execution_count": 13,
   "id": "df7b513a",
   "metadata": {},
   "outputs": [
    {
     "name": "stdout",
     "output_type": "stream",
     "text": [
      "281\n"
     ]
    },
    {
     "data": {
      "text/html": [
       "<div>\n",
       "<style scoped>\n",
       "    .dataframe tbody tr th:only-of-type {\n",
       "        vertical-align: middle;\n",
       "    }\n",
       "\n",
       "    .dataframe tbody tr th {\n",
       "        vertical-align: top;\n",
       "    }\n",
       "\n",
       "    .dataframe thead th {\n",
       "        text-align: right;\n",
       "    }\n",
       "</style>\n",
       "<table border=\"1\" class=\"dataframe\">\n",
       "  <thead>\n",
       "    <tr style=\"text-align: right;\">\n",
       "      <th></th>\n",
       "      <th>product_id</th>\n",
       "      <th>user_id</th>\n",
       "      <th>profile_name</th>\n",
       "      <th>helpfulness_numerator</th>\n",
       "      <th>helpfulness_denominator</th>\n",
       "      <th>score</th>\n",
       "      <th>date</th>\n",
       "      <th>review_summary</th>\n",
       "      <th>review_text</th>\n",
       "    </tr>\n",
       "  </thead>\n",
       "  <tbody>\n",
       "    <tr>\n",
       "      <th>0</th>\n",
       "      <td>B001E4KFG0</td>\n",
       "      <td>A3SGXH7AUHU8GW</td>\n",
       "      <td>delmartian</td>\n",
       "      <td>1</td>\n",
       "      <td>1</td>\n",
       "      <td>5</td>\n",
       "      <td>2011-04-27</td>\n",
       "      <td>Good Quality Dog Food</td>\n",
       "      <td>I have bought several of the Vitality canned d...</td>\n",
       "    </tr>\n",
       "    <tr>\n",
       "      <th>1</th>\n",
       "      <td>B00171APVA</td>\n",
       "      <td>A21BT40VZCCYT4</td>\n",
       "      <td>Carol A. Reed</td>\n",
       "      <td>0</td>\n",
       "      <td>0</td>\n",
       "      <td>5</td>\n",
       "      <td>2012-10-26</td>\n",
       "      <td>Healthy Dog Food</td>\n",
       "      <td>This is a very healthy dog food. Good for thei...</td>\n",
       "    </tr>\n",
       "    <tr>\n",
       "      <th>2</th>\n",
       "      <td>B0019CW0HE</td>\n",
       "      <td>A2P6ACFZ8FTNVV</td>\n",
       "      <td>Melissa Benjamin</td>\n",
       "      <td>0</td>\n",
       "      <td>1</td>\n",
       "      <td>1</td>\n",
       "      <td>2012-03-08</td>\n",
       "      <td>Bad</td>\n",
       "      <td>I fed this to my Golden Retriever and he hated...</td>\n",
       "    </tr>\n",
       "    <tr>\n",
       "      <th>3</th>\n",
       "      <td>B006F2NYI2</td>\n",
       "      <td>A132DJVI37RB4X</td>\n",
       "      <td>Scottdrum</td>\n",
       "      <td>2</td>\n",
       "      <td>5</td>\n",
       "      <td>2</td>\n",
       "      <td>2012-03-22</td>\n",
       "      <td>Not hot, not habanero</td>\n",
       "      <td>I have to admit, I was a sucker for the large ...</td>\n",
       "    </tr>\n",
       "    <tr>\n",
       "      <th>4</th>\n",
       "      <td>B000P41A28</td>\n",
       "      <td>A82WIMR4RSVLI</td>\n",
       "      <td>Emrose mom</td>\n",
       "      <td>0</td>\n",
       "      <td>1</td>\n",
       "      <td>4</td>\n",
       "      <td>2012-05-20</td>\n",
       "      <td>The best weve tried so far</td>\n",
       "      <td>We have a 7 week old... He had gas and constip...</td>\n",
       "    </tr>\n",
       "    <tr>\n",
       "      <th>...</th>\n",
       "      <td>...</td>\n",
       "      <td>...</td>\n",
       "      <td>...</td>\n",
       "      <td>...</td>\n",
       "      <td>...</td>\n",
       "      <td>...</td>\n",
       "      <td>...</td>\n",
       "      <td>...</td>\n",
       "      <td>...</td>\n",
       "    </tr>\n",
       "    <tr>\n",
       "      <th>568449</th>\n",
       "      <td>B000LQORDE</td>\n",
       "      <td>AL22WN8RBBOW7</td>\n",
       "      <td>LifeInTheCity \"trogg\"</td>\n",
       "      <td>2</td>\n",
       "      <td>5</td>\n",
       "      <td>5</td>\n",
       "      <td>2009-10-25</td>\n",
       "      <td>Good Stuff</td>\n",
       "      <td>I love these noodle.  A little to spicy for th...</td>\n",
       "    </tr>\n",
       "    <tr>\n",
       "      <th>568450</th>\n",
       "      <td>B000LQORDE</td>\n",
       "      <td>A2P7HIRYYWVOBD</td>\n",
       "      <td>Mason</td>\n",
       "      <td>2</td>\n",
       "      <td>5</td>\n",
       "      <td>5</td>\n",
       "      <td>2009-09-28</td>\n",
       "      <td>yummy!</td>\n",
       "      <td>I just love it and will buy another box when I...</td>\n",
       "    </tr>\n",
       "    <tr>\n",
       "      <th>568451</th>\n",
       "      <td>B000LQORDE</td>\n",
       "      <td>A1K0ZH5MQFBA77</td>\n",
       "      <td>jennilight</td>\n",
       "      <td>2</td>\n",
       "      <td>5</td>\n",
       "      <td>4</td>\n",
       "      <td>2009-08-23</td>\n",
       "      <td>Tastes like More!</td>\n",
       "      <td>My late father in law used to have a rating sy...</td>\n",
       "    </tr>\n",
       "    <tr>\n",
       "      <th>568452</th>\n",
       "      <td>B000LQORDE</td>\n",
       "      <td>A29FRN2O7LWINL</td>\n",
       "      <td>T. Tsai</td>\n",
       "      <td>2</td>\n",
       "      <td>5</td>\n",
       "      <td>5</td>\n",
       "      <td>2009-03-23</td>\n",
       "      <td>Great ramen</td>\n",
       "      <td>This is my favorite brand of Korean ramen. It ...</td>\n",
       "    </tr>\n",
       "    <tr>\n",
       "      <th>568453</th>\n",
       "      <td>B000LQORDE</td>\n",
       "      <td>A9Q950IPXJR1D</td>\n",
       "      <td>Lynda \"casual customer\"</td>\n",
       "      <td>2</td>\n",
       "      <td>5</td>\n",
       "      <td>4</td>\n",
       "      <td>2009-03-16</td>\n",
       "      <td>Spicy!!</td>\n",
       "      <td>I do like these noodles although, to say they ...</td>\n",
       "    </tr>\n",
       "  </tbody>\n",
       "</table>\n",
       "<p>568173 rows × 9 columns</p>\n",
       "</div>"
      ],
      "text/plain": [
       "        product_id         user_id             profile_name  \\\n",
       "0       B001E4KFG0  A3SGXH7AUHU8GW               delmartian   \n",
       "1       B00171APVA  A21BT40VZCCYT4            Carol A. Reed   \n",
       "2       B0019CW0HE  A2P6ACFZ8FTNVV         Melissa Benjamin   \n",
       "3       B006F2NYI2  A132DJVI37RB4X                Scottdrum   \n",
       "4       B000P41A28   A82WIMR4RSVLI               Emrose mom   \n",
       "...            ...             ...                      ...   \n",
       "568449  B000LQORDE   AL22WN8RBBOW7    LifeInTheCity \"trogg\"   \n",
       "568450  B000LQORDE  A2P7HIRYYWVOBD                    Mason   \n",
       "568451  B000LQORDE  A1K0ZH5MQFBA77               jennilight   \n",
       "568452  B000LQORDE  A29FRN2O7LWINL                  T. Tsai   \n",
       "568453  B000LQORDE   A9Q950IPXJR1D  Lynda \"casual customer\"   \n",
       "\n",
       "        helpfulness_numerator  helpfulness_denominator  score       date  \\\n",
       "0                           1                        1      5 2011-04-27   \n",
       "1                           0                        0      5 2012-10-26   \n",
       "2                           0                        1      1 2012-03-08   \n",
       "3                           2                        5      2 2012-03-22   \n",
       "4                           0                        1      4 2012-05-20   \n",
       "...                       ...                      ...    ...        ...   \n",
       "568449                      2                        5      5 2009-10-25   \n",
       "568450                      2                        5      5 2009-09-28   \n",
       "568451                      2                        5      4 2009-08-23   \n",
       "568452                      2                        5      5 2009-03-23   \n",
       "568453                      2                        5      4 2009-03-16   \n",
       "\n",
       "                    review_summary  \\\n",
       "0            Good Quality Dog Food   \n",
       "1                 Healthy Dog Food   \n",
       "2                              Bad   \n",
       "3            Not hot, not habanero   \n",
       "4       The best weve tried so far   \n",
       "...                            ...   \n",
       "568449                  Good Stuff   \n",
       "568450                      yummy!   \n",
       "568451           Tastes like More!   \n",
       "568452                 Great ramen   \n",
       "568453                     Spicy!!   \n",
       "\n",
       "                                              review_text  \n",
       "0       I have bought several of the Vitality canned d...  \n",
       "1       This is a very healthy dog food. Good for thei...  \n",
       "2       I fed this to my Golden Retriever and he hated...  \n",
       "3       I have to admit, I was a sucker for the large ...  \n",
       "4       We have a 7 week old... He had gas and constip...  \n",
       "...                                                   ...  \n",
       "568449  I love these noodle.  A little to spicy for th...  \n",
       "568450  I just love it and will buy another box when I...  \n",
       "568451  My late father in law used to have a rating sy...  \n",
       "568452  This is my favorite brand of Korean ramen. It ...  \n",
       "568453  I do like these noodles although, to say they ...  \n",
       "\n",
       "[568173 rows x 9 columns]"
      ]
     },
     "execution_count": 13,
     "metadata": {},
     "output_type": "execute_result"
    }
   ],
   "source": [
    "print(df.duplicated().sum())\n",
    "df.drop_duplicates(inplace=True)\n",
    "df"
   ]
  },
  {
   "cell_type": "markdown",
   "id": "b41ba61b",
   "metadata": {},
   "source": [
    "# Working on Null values "
   ]
  },
  {
   "cell_type": "code",
   "execution_count": 14,
   "id": "5986dadc",
   "metadata": {},
   "outputs": [
    {
     "data": {
      "text/plain": [
       "product_id                  0\n",
       "user_id                     0\n",
       "profile_name               16\n",
       "helpfulness_numerator       0\n",
       "helpfulness_denominator     0\n",
       "score                       0\n",
       "date                        0\n",
       "review_summary             27\n",
       "review_text                 0\n",
       "dtype: int64"
      ]
     },
     "execution_count": 14,
     "metadata": {},
     "output_type": "execute_result"
    }
   ],
   "source": [
    "df.isnull().sum()"
   ]
  },
  {
   "cell_type": "code",
   "execution_count": 15,
   "id": "25428f2c",
   "metadata": {},
   "outputs": [
    {
     "data": {
      "text/html": [
       "<div>\n",
       "<style scoped>\n",
       "    .dataframe tbody tr th:only-of-type {\n",
       "        vertical-align: middle;\n",
       "    }\n",
       "\n",
       "    .dataframe tbody tr th {\n",
       "        vertical-align: top;\n",
       "    }\n",
       "\n",
       "    .dataframe thead th {\n",
       "        text-align: right;\n",
       "    }\n",
       "</style>\n",
       "<table border=\"1\" class=\"dataframe\">\n",
       "  <thead>\n",
       "    <tr style=\"text-align: right;\">\n",
       "      <th></th>\n",
       "      <th>product_id</th>\n",
       "      <th>user_id</th>\n",
       "      <th>profile_name</th>\n",
       "      <th>helpfulness_numerator</th>\n",
       "      <th>helpfulness_denominator</th>\n",
       "      <th>score</th>\n",
       "      <th>date</th>\n",
       "      <th>review_summary</th>\n",
       "      <th>review_text</th>\n",
       "    </tr>\n",
       "  </thead>\n",
       "  <tbody>\n",
       "    <tr>\n",
       "      <th>7282</th>\n",
       "      <td>B001EQ5DG0</td>\n",
       "      <td>A1P500QXEG3IUZ</td>\n",
       "      <td>NaN</td>\n",
       "      <td>0</td>\n",
       "      <td>0</td>\n",
       "      <td>5</td>\n",
       "      <td>2012-01-17</td>\n",
       "      <td>Finally!</td>\n",
       "      <td>You cannot find this in the stores anymore, it...</td>\n",
       "    </tr>\n",
       "    <tr>\n",
       "      <th>41796</th>\n",
       "      <td>B000CQE3HS</td>\n",
       "      <td>AGT3BYX5P9SLH</td>\n",
       "      <td>NaN</td>\n",
       "      <td>0</td>\n",
       "      <td>0</td>\n",
       "      <td>5</td>\n",
       "      <td>2011-12-24</td>\n",
       "      <td>awesome</td>\n",
       "      <td>i love them they are amazing I would eat them ...</td>\n",
       "    </tr>\n",
       "    <tr>\n",
       "      <th>70216</th>\n",
       "      <td>B000CQID1A</td>\n",
       "      <td>AGT3BYX5P9SLH</td>\n",
       "      <td>NaN</td>\n",
       "      <td>0</td>\n",
       "      <td>0</td>\n",
       "      <td>5</td>\n",
       "      <td>2011-12-24</td>\n",
       "      <td>awesome</td>\n",
       "      <td>i love them they are amazing I would eat them ...</td>\n",
       "    </tr>\n",
       "    <tr>\n",
       "      <th>80517</th>\n",
       "      <td>B001FA1L9I</td>\n",
       "      <td>AC9U70TRGPDGJ</td>\n",
       "      <td>NaN</td>\n",
       "      <td>0</td>\n",
       "      <td>0</td>\n",
       "      <td>5</td>\n",
       "      <td>2010-11-12</td>\n",
       "      <td>very good</td>\n",
       "      <td>came in proper packaging.  Have loved British ...</td>\n",
       "    </tr>\n",
       "    <tr>\n",
       "      <th>172336</th>\n",
       "      <td>B000LKZB4Y</td>\n",
       "      <td>A36BVYD0NT7Z0F</td>\n",
       "      <td>NaN</td>\n",
       "      <td>0</td>\n",
       "      <td>0</td>\n",
       "      <td>5</td>\n",
       "      <td>2011-08-29</td>\n",
       "      <td>These are the best mints and no aspartame or BHT</td>\n",
       "      <td>I was so shocked to find out that almost all g...</td>\n",
       "    </tr>\n",
       "  </tbody>\n",
       "</table>\n",
       "</div>"
      ],
      "text/plain": [
       "        product_id         user_id profile_name  helpfulness_numerator  \\\n",
       "7282    B001EQ5DG0  A1P500QXEG3IUZ          NaN                      0   \n",
       "41796   B000CQE3HS   AGT3BYX5P9SLH          NaN                      0   \n",
       "70216   B000CQID1A   AGT3BYX5P9SLH          NaN                      0   \n",
       "80517   B001FA1L9I   AC9U70TRGPDGJ          NaN                      0   \n",
       "172336  B000LKZB4Y  A36BVYD0NT7Z0F          NaN                      0   \n",
       "\n",
       "        helpfulness_denominator  score       date  \\\n",
       "7282                          0      5 2012-01-17   \n",
       "41796                         0      5 2011-12-24   \n",
       "70216                         0      5 2011-12-24   \n",
       "80517                         0      5 2010-11-12   \n",
       "172336                        0      5 2011-08-29   \n",
       "\n",
       "                                          review_summary  \\\n",
       "7282                                            Finally!   \n",
       "41796                                            awesome   \n",
       "70216                                            awesome   \n",
       "80517                                          very good   \n",
       "172336  These are the best mints and no aspartame or BHT   \n",
       "\n",
       "                                              review_text  \n",
       "7282    You cannot find this in the stores anymore, it...  \n",
       "41796   i love them they are amazing I would eat them ...  \n",
       "70216   i love them they are amazing I would eat them ...  \n",
       "80517   came in proper packaging.  Have loved British ...  \n",
       "172336  I was so shocked to find out that almost all g...  "
      ]
     },
     "execution_count": 15,
     "metadata": {},
     "output_type": "execute_result"
    }
   ],
   "source": [
    "df[df.profile_name.isnull()].head()"
   ]
  },
  {
   "cell_type": "code",
   "execution_count": 16,
   "id": "ecd1a880",
   "metadata": {},
   "outputs": [
    {
     "data": {
      "text/html": [
       "<div>\n",
       "<style scoped>\n",
       "    .dataframe tbody tr th:only-of-type {\n",
       "        vertical-align: middle;\n",
       "    }\n",
       "\n",
       "    .dataframe tbody tr th {\n",
       "        vertical-align: top;\n",
       "    }\n",
       "\n",
       "    .dataframe thead th {\n",
       "        text-align: right;\n",
       "    }\n",
       "</style>\n",
       "<table border=\"1\" class=\"dataframe\">\n",
       "  <thead>\n",
       "    <tr style=\"text-align: right;\">\n",
       "      <th></th>\n",
       "      <th>product_id</th>\n",
       "      <th>user_id</th>\n",
       "      <th>profile_name</th>\n",
       "      <th>helpfulness_numerator</th>\n",
       "      <th>helpfulness_denominator</th>\n",
       "      <th>score</th>\n",
       "      <th>date</th>\n",
       "      <th>review_summary</th>\n",
       "      <th>review_text</th>\n",
       "    </tr>\n",
       "  </thead>\n",
       "  <tbody>\n",
       "    <tr>\n",
       "      <th>172336</th>\n",
       "      <td>B000LKZB4Y</td>\n",
       "      <td>A36BVYD0NT7Z0F</td>\n",
       "      <td>NaN</td>\n",
       "      <td>0</td>\n",
       "      <td>0</td>\n",
       "      <td>5</td>\n",
       "      <td>2011-08-29</td>\n",
       "      <td>These are the best mints and no aspartame or BHT</td>\n",
       "      <td>I was so shocked to find out that almost all g...</td>\n",
       "    </tr>\n",
       "    <tr>\n",
       "      <th>320834</th>\n",
       "      <td>B000AYDGZ2</td>\n",
       "      <td>A36BVYD0NT7Z0F</td>\n",
       "      <td>NaN</td>\n",
       "      <td>2</td>\n",
       "      <td>3</td>\n",
       "      <td>1</td>\n",
       "      <td>2010-07-06</td>\n",
       "      <td>doesn't anyone care that they are putting BHT ...</td>\n",
       "      <td>I called Kellogg's to see why Special K red be...</td>\n",
       "    </tr>\n",
       "    <tr>\n",
       "      <th>368445</th>\n",
       "      <td>B000W5P0KI</td>\n",
       "      <td>A36BVYD0NT7Z0F</td>\n",
       "      <td>NaN</td>\n",
       "      <td>13</td>\n",
       "      <td>21</td>\n",
       "      <td>1</td>\n",
       "      <td>2011-03-01</td>\n",
       "      <td>WARNING:  Please read before feeding</td>\n",
       "      <td>WARNING:  I use to feed my dogs Orijen 75% pro...</td>\n",
       "    </tr>\n",
       "  </tbody>\n",
       "</table>\n",
       "</div>"
      ],
      "text/plain": [
       "        product_id         user_id profile_name  helpfulness_numerator  \\\n",
       "172336  B000LKZB4Y  A36BVYD0NT7Z0F          NaN                      0   \n",
       "320834  B000AYDGZ2  A36BVYD0NT7Z0F          NaN                      2   \n",
       "368445  B000W5P0KI  A36BVYD0NT7Z0F          NaN                     13   \n",
       "\n",
       "        helpfulness_denominator  score       date  \\\n",
       "172336                        0      5 2011-08-29   \n",
       "320834                        3      1 2010-07-06   \n",
       "368445                       21      1 2011-03-01   \n",
       "\n",
       "                                           review_summary  \\\n",
       "172336   These are the best mints and no aspartame or BHT   \n",
       "320834  doesn't anyone care that they are putting BHT ...   \n",
       "368445               WARNING:  Please read before feeding   \n",
       "\n",
       "                                              review_text  \n",
       "172336  I was so shocked to find out that almost all g...  \n",
       "320834  I called Kellogg's to see why Special K red be...  \n",
       "368445  WARNING:  I use to feed my dogs Orijen 75% pro...  "
      ]
     },
     "execution_count": 16,
     "metadata": {},
     "output_type": "execute_result"
    }
   ],
   "source": [
    "df[df.user_id=='A36BVYD0NT7Z0F']"
   ]
  },
  {
   "cell_type": "code",
   "execution_count": 17,
   "id": "4804a921",
   "metadata": {},
   "outputs": [
    {
     "data": {
      "text/html": [
       "<div>\n",
       "<style scoped>\n",
       "    .dataframe tbody tr th:only-of-type {\n",
       "        vertical-align: middle;\n",
       "    }\n",
       "\n",
       "    .dataframe tbody tr th {\n",
       "        vertical-align: top;\n",
       "    }\n",
       "\n",
       "    .dataframe thead th {\n",
       "        text-align: right;\n",
       "    }\n",
       "</style>\n",
       "<table border=\"1\" class=\"dataframe\">\n",
       "  <thead>\n",
       "    <tr style=\"text-align: right;\">\n",
       "      <th></th>\n",
       "      <th>product_id</th>\n",
       "      <th>user_id</th>\n",
       "      <th>profile_name</th>\n",
       "      <th>helpfulness_numerator</th>\n",
       "      <th>helpfulness_denominator</th>\n",
       "      <th>score</th>\n",
       "      <th>date</th>\n",
       "      <th>review_summary</th>\n",
       "      <th>review_text</th>\n",
       "    </tr>\n",
       "  </thead>\n",
       "  <tbody>\n",
       "    <tr>\n",
       "      <th>1234</th>\n",
       "      <td>B0014B0HWK</td>\n",
       "      <td>A3TJPSWY2HE4BS</td>\n",
       "      <td>S. Layton \"homeschool blogger\"</td>\n",
       "      <td>1</td>\n",
       "      <td>24</td>\n",
       "      <td>2</td>\n",
       "      <td>2007-03-08</td>\n",
       "      <td>NaN</td>\n",
       "      <td>I only used two maybe three tea bags and got p...</td>\n",
       "    </tr>\n",
       "    <tr>\n",
       "      <th>3314</th>\n",
       "      <td>B000FVDWU4</td>\n",
       "      <td>A3TJPSWY2HE4BS</td>\n",
       "      <td>S. Layton \"homeschool blogger\"</td>\n",
       "      <td>1</td>\n",
       "      <td>24</td>\n",
       "      <td>2</td>\n",
       "      <td>2007-03-08</td>\n",
       "      <td>NaN</td>\n",
       "      <td>I only used two maybe three tea bags and got p...</td>\n",
       "    </tr>\n",
       "    <tr>\n",
       "      <th>19465</th>\n",
       "      <td>B0016B7Z32</td>\n",
       "      <td>A3TJPSWY2HE4BS</td>\n",
       "      <td>S. Layton \"homeschool blogger\"</td>\n",
       "      <td>1</td>\n",
       "      <td>24</td>\n",
       "      <td>2</td>\n",
       "      <td>2007-03-08</td>\n",
       "      <td>NaN</td>\n",
       "      <td>I only used two maybe three tea bags and got p...</td>\n",
       "    </tr>\n",
       "    <tr>\n",
       "      <th>61906</th>\n",
       "      <td>B0009VO58S</td>\n",
       "      <td>A3TJPSWY2HE4BS</td>\n",
       "      <td>S. Layton \"homeschool blogger\"</td>\n",
       "      <td>1</td>\n",
       "      <td>24</td>\n",
       "      <td>2</td>\n",
       "      <td>2007-03-08</td>\n",
       "      <td>NaN</td>\n",
       "      <td>I only used two maybe three tea bags and got p...</td>\n",
       "    </tr>\n",
       "    <tr>\n",
       "      <th>86992</th>\n",
       "      <td>B00073IVAQ</td>\n",
       "      <td>A3TJPSWY2HE4BS</td>\n",
       "      <td>S. Layton \"homeschool blogger\"</td>\n",
       "      <td>1</td>\n",
       "      <td>24</td>\n",
       "      <td>2</td>\n",
       "      <td>2007-03-08</td>\n",
       "      <td>NaN</td>\n",
       "      <td>I only used two maybe three tea bags and got p...</td>\n",
       "    </tr>\n",
       "    <tr>\n",
       "      <th>109418</th>\n",
       "      <td>B000FVBYCW</td>\n",
       "      <td>A3TJPSWY2HE4BS</td>\n",
       "      <td>S. Layton \"homeschool blogger\"</td>\n",
       "      <td>1</td>\n",
       "      <td>24</td>\n",
       "      <td>2</td>\n",
       "      <td>2007-03-08</td>\n",
       "      <td>NaN</td>\n",
       "      <td>I only used two maybe three tea bags and got p...</td>\n",
       "    </tr>\n",
       "    <tr>\n",
       "      <th>125216</th>\n",
       "      <td>B00020HHAO</td>\n",
       "      <td>A3TJPSWY2HE4BS</td>\n",
       "      <td>S. Layton \"homeschool blogger\"</td>\n",
       "      <td>1</td>\n",
       "      <td>24</td>\n",
       "      <td>2</td>\n",
       "      <td>2007-03-08</td>\n",
       "      <td>NaN</td>\n",
       "      <td>I only used two maybe three tea bags and got p...</td>\n",
       "    </tr>\n",
       "    <tr>\n",
       "      <th>152853</th>\n",
       "      <td>B000ELGPAO</td>\n",
       "      <td>A15AMT9T9A1309</td>\n",
       "      <td>Film-Friend</td>\n",
       "      <td>1</td>\n",
       "      <td>1</td>\n",
       "      <td>3</td>\n",
       "      <td>2012-02-07</td>\n",
       "      <td>NaN</td>\n",
       "      <td>This is a cool system only problem is that the...</td>\n",
       "    </tr>\n",
       "    <tr>\n",
       "      <th>215454</th>\n",
       "      <td>B00020HHM2</td>\n",
       "      <td>A3TJPSWY2HE4BS</td>\n",
       "      <td>S. Layton \"homeschool blogger\"</td>\n",
       "      <td>1</td>\n",
       "      <td>24</td>\n",
       "      <td>2</td>\n",
       "      <td>2007-03-08</td>\n",
       "      <td>NaN</td>\n",
       "      <td>I only used two maybe three tea bags and got p...</td>\n",
       "    </tr>\n",
       "    <tr>\n",
       "      <th>221663</th>\n",
       "      <td>B00142BX68</td>\n",
       "      <td>A3TJPSWY2HE4BS</td>\n",
       "      <td>S. Layton \"homeschool blogger\"</td>\n",
       "      <td>1</td>\n",
       "      <td>24</td>\n",
       "      <td>2</td>\n",
       "      <td>2007-03-08</td>\n",
       "      <td>NaN</td>\n",
       "      <td>I only used two maybe three tea bags and got p...</td>\n",
       "    </tr>\n",
       "    <tr>\n",
       "      <th>223294</th>\n",
       "      <td>B000VJYTZM</td>\n",
       "      <td>A3TJPSWY2HE4BS</td>\n",
       "      <td>S. Layton \"homeschool blogger\"</td>\n",
       "      <td>1</td>\n",
       "      <td>24</td>\n",
       "      <td>2</td>\n",
       "      <td>2007-03-08</td>\n",
       "      <td>NaN</td>\n",
       "      <td>I only used two maybe three tea bags and got p...</td>\n",
       "    </tr>\n",
       "    <tr>\n",
       "      <th>259510</th>\n",
       "      <td>B00188S3PM</td>\n",
       "      <td>A3TJPSWY2HE4BS</td>\n",
       "      <td>S. Layton \"homeschool blogger\"</td>\n",
       "      <td>1</td>\n",
       "      <td>24</td>\n",
       "      <td>2</td>\n",
       "      <td>2007-03-08</td>\n",
       "      <td>NaN</td>\n",
       "      <td>I only used two maybe three tea bags and got p...</td>\n",
       "    </tr>\n",
       "    <tr>\n",
       "      <th>266212</th>\n",
       "      <td>B00412W76S</td>\n",
       "      <td>A3TJPSWY2HE4BS</td>\n",
       "      <td>S. Layton \"homeschool blogger\"</td>\n",
       "      <td>1</td>\n",
       "      <td>24</td>\n",
       "      <td>2</td>\n",
       "      <td>2007-03-08</td>\n",
       "      <td>NaN</td>\n",
       "      <td>I only used two maybe three tea bags and got p...</td>\n",
       "    </tr>\n",
       "    <tr>\n",
       "      <th>280052</th>\n",
       "      <td>B000M0F58U</td>\n",
       "      <td>A3TJPSWY2HE4BS</td>\n",
       "      <td>S. Layton \"homeschool blogger\"</td>\n",
       "      <td>1</td>\n",
       "      <td>24</td>\n",
       "      <td>2</td>\n",
       "      <td>2007-03-08</td>\n",
       "      <td>NaN</td>\n",
       "      <td>I only used two maybe three tea bags and got p...</td>\n",
       "    </tr>\n",
       "    <tr>\n",
       "      <th>285798</th>\n",
       "      <td>B0006I5M2M</td>\n",
       "      <td>A3TJPSWY2HE4BS</td>\n",
       "      <td>S. Layton \"homeschool blogger\"</td>\n",
       "      <td>1</td>\n",
       "      <td>24</td>\n",
       "      <td>2</td>\n",
       "      <td>2007-03-08</td>\n",
       "      <td>NaN</td>\n",
       "      <td>I only used two maybe three tea bags and got p...</td>\n",
       "    </tr>\n",
       "    <tr>\n",
       "      <th>286463</th>\n",
       "      <td>B001GCTTRQ</td>\n",
       "      <td>A3TJPSWY2HE4BS</td>\n",
       "      <td>S. Layton \"homeschool blogger\"</td>\n",
       "      <td>1</td>\n",
       "      <td>24</td>\n",
       "      <td>2</td>\n",
       "      <td>2007-03-08</td>\n",
       "      <td>NaN</td>\n",
       "      <td>I only used two maybe three tea bags and got p...</td>\n",
       "    </tr>\n",
       "    <tr>\n",
       "      <th>289761</th>\n",
       "      <td>B00020HHHC</td>\n",
       "      <td>A3TJPSWY2HE4BS</td>\n",
       "      <td>S. Layton \"homeschool blogger\"</td>\n",
       "      <td>1</td>\n",
       "      <td>24</td>\n",
       "      <td>2</td>\n",
       "      <td>2007-03-08</td>\n",
       "      <td>NaN</td>\n",
       "      <td>I only used two maybe three tea bags and got p...</td>\n",
       "    </tr>\n",
       "    <tr>\n",
       "      <th>310528</th>\n",
       "      <td>B007RLRCLK</td>\n",
       "      <td>A3TJPSWY2HE4BS</td>\n",
       "      <td>S. Layton \"homeschool blogger\"</td>\n",
       "      <td>1</td>\n",
       "      <td>24</td>\n",
       "      <td>2</td>\n",
       "      <td>2007-03-08</td>\n",
       "      <td>NaN</td>\n",
       "      <td>I only used two maybe three tea bags and got p...</td>\n",
       "    </tr>\n",
       "    <tr>\n",
       "      <th>311734</th>\n",
       "      <td>B00014DXCC</td>\n",
       "      <td>A3TJPSWY2HE4BS</td>\n",
       "      <td>S. Layton \"homeschool blogger\"</td>\n",
       "      <td>1</td>\n",
       "      <td>24</td>\n",
       "      <td>2</td>\n",
       "      <td>2007-03-08</td>\n",
       "      <td>NaN</td>\n",
       "      <td>I only used two maybe three tea bags and got p...</td>\n",
       "    </tr>\n",
       "    <tr>\n",
       "      <th>312574</th>\n",
       "      <td>B00020HHK4</td>\n",
       "      <td>A3TJPSWY2HE4BS</td>\n",
       "      <td>S. Layton \"homeschool blogger\"</td>\n",
       "      <td>1</td>\n",
       "      <td>24</td>\n",
       "      <td>2</td>\n",
       "      <td>2007-03-08</td>\n",
       "      <td>NaN</td>\n",
       "      <td>I only used two maybe three tea bags and got p...</td>\n",
       "    </tr>\n",
       "    <tr>\n",
       "      <th>318095</th>\n",
       "      <td>B00073JVFU</td>\n",
       "      <td>A3TJPSWY2HE4BS</td>\n",
       "      <td>S. Layton \"homeschool blogger\"</td>\n",
       "      <td>1</td>\n",
       "      <td>24</td>\n",
       "      <td>2</td>\n",
       "      <td>2007-03-08</td>\n",
       "      <td>NaN</td>\n",
       "      <td>I only used two maybe three tea bags and got p...</td>\n",
       "    </tr>\n",
       "    <tr>\n",
       "      <th>325036</th>\n",
       "      <td>B001H9XOEW</td>\n",
       "      <td>A22R17YPXEULEZ</td>\n",
       "      <td>Liz Wong</td>\n",
       "      <td>0</td>\n",
       "      <td>0</td>\n",
       "      <td>3</td>\n",
       "      <td>2012-04-16</td>\n",
       "      <td>NaN</td>\n",
       "      <td>I like the product and tried it before I pucha...</td>\n",
       "    </tr>\n",
       "    <tr>\n",
       "      <th>339435</th>\n",
       "      <td>B00020HHRW</td>\n",
       "      <td>A3TJPSWY2HE4BS</td>\n",
       "      <td>S. Layton \"homeschool blogger\"</td>\n",
       "      <td>1</td>\n",
       "      <td>24</td>\n",
       "      <td>2</td>\n",
       "      <td>2007-03-08</td>\n",
       "      <td>NaN</td>\n",
       "      <td>I only used two maybe three tea bags and got p...</td>\n",
       "    </tr>\n",
       "    <tr>\n",
       "      <th>427077</th>\n",
       "      <td>B00020HHGS</td>\n",
       "      <td>A3TJPSWY2HE4BS</td>\n",
       "      <td>S. Layton \"homeschool blogger\"</td>\n",
       "      <td>1</td>\n",
       "      <td>24</td>\n",
       "      <td>2</td>\n",
       "      <td>2007-03-08</td>\n",
       "      <td>NaN</td>\n",
       "      <td>I only used two maybe three tea bags and got p...</td>\n",
       "    </tr>\n",
       "    <tr>\n",
       "      <th>429603</th>\n",
       "      <td>B0014AUJII</td>\n",
       "      <td>A3TJPSWY2HE4BS</td>\n",
       "      <td>S. Layton \"homeschool blogger\"</td>\n",
       "      <td>1</td>\n",
       "      <td>24</td>\n",
       "      <td>2</td>\n",
       "      <td>2007-03-08</td>\n",
       "      <td>NaN</td>\n",
       "      <td>I only used two maybe three tea bags and got p...</td>\n",
       "    </tr>\n",
       "    <tr>\n",
       "      <th>448071</th>\n",
       "      <td>B00020HHE0</td>\n",
       "      <td>A3TJPSWY2HE4BS</td>\n",
       "      <td>S. Layton \"homeschool blogger\"</td>\n",
       "      <td>1</td>\n",
       "      <td>24</td>\n",
       "      <td>2</td>\n",
       "      <td>2007-03-08</td>\n",
       "      <td>NaN</td>\n",
       "      <td>I only used two maybe three tea bags and got p...</td>\n",
       "    </tr>\n",
       "    <tr>\n",
       "      <th>478577</th>\n",
       "      <td>B0014ATRV8</td>\n",
       "      <td>A3TJPSWY2HE4BS</td>\n",
       "      <td>S. Layton \"homeschool blogger\"</td>\n",
       "      <td>1</td>\n",
       "      <td>24</td>\n",
       "      <td>2</td>\n",
       "      <td>2007-03-08</td>\n",
       "      <td>NaN</td>\n",
       "      <td>I only used two maybe three tea bags and got p...</td>\n",
       "    </tr>\n",
       "  </tbody>\n",
       "</table>\n",
       "</div>"
      ],
      "text/plain": [
       "        product_id         user_id                    profile_name  \\\n",
       "1234    B0014B0HWK  A3TJPSWY2HE4BS  S. Layton \"homeschool blogger\"   \n",
       "3314    B000FVDWU4  A3TJPSWY2HE4BS  S. Layton \"homeschool blogger\"   \n",
       "19465   B0016B7Z32  A3TJPSWY2HE4BS  S. Layton \"homeschool blogger\"   \n",
       "61906   B0009VO58S  A3TJPSWY2HE4BS  S. Layton \"homeschool blogger\"   \n",
       "86992   B00073IVAQ  A3TJPSWY2HE4BS  S. Layton \"homeschool blogger\"   \n",
       "109418  B000FVBYCW  A3TJPSWY2HE4BS  S. Layton \"homeschool blogger\"   \n",
       "125216  B00020HHAO  A3TJPSWY2HE4BS  S. Layton \"homeschool blogger\"   \n",
       "152853  B000ELGPAO  A15AMT9T9A1309                     Film-Friend   \n",
       "215454  B00020HHM2  A3TJPSWY2HE4BS  S. Layton \"homeschool blogger\"   \n",
       "221663  B00142BX68  A3TJPSWY2HE4BS  S. Layton \"homeschool blogger\"   \n",
       "223294  B000VJYTZM  A3TJPSWY2HE4BS  S. Layton \"homeschool blogger\"   \n",
       "259510  B00188S3PM  A3TJPSWY2HE4BS  S. Layton \"homeschool blogger\"   \n",
       "266212  B00412W76S  A3TJPSWY2HE4BS  S. Layton \"homeschool blogger\"   \n",
       "280052  B000M0F58U  A3TJPSWY2HE4BS  S. Layton \"homeschool blogger\"   \n",
       "285798  B0006I5M2M  A3TJPSWY2HE4BS  S. Layton \"homeschool blogger\"   \n",
       "286463  B001GCTTRQ  A3TJPSWY2HE4BS  S. Layton \"homeschool blogger\"   \n",
       "289761  B00020HHHC  A3TJPSWY2HE4BS  S. Layton \"homeschool blogger\"   \n",
       "310528  B007RLRCLK  A3TJPSWY2HE4BS  S. Layton \"homeschool blogger\"   \n",
       "311734  B00014DXCC  A3TJPSWY2HE4BS  S. Layton \"homeschool blogger\"   \n",
       "312574  B00020HHK4  A3TJPSWY2HE4BS  S. Layton \"homeschool blogger\"   \n",
       "318095  B00073JVFU  A3TJPSWY2HE4BS  S. Layton \"homeschool blogger\"   \n",
       "325036  B001H9XOEW  A22R17YPXEULEZ                        Liz Wong   \n",
       "339435  B00020HHRW  A3TJPSWY2HE4BS  S. Layton \"homeschool blogger\"   \n",
       "427077  B00020HHGS  A3TJPSWY2HE4BS  S. Layton \"homeschool blogger\"   \n",
       "429603  B0014AUJII  A3TJPSWY2HE4BS  S. Layton \"homeschool blogger\"   \n",
       "448071  B00020HHE0  A3TJPSWY2HE4BS  S. Layton \"homeschool blogger\"   \n",
       "478577  B0014ATRV8  A3TJPSWY2HE4BS  S. Layton \"homeschool blogger\"   \n",
       "\n",
       "        helpfulness_numerator  helpfulness_denominator  score       date  \\\n",
       "1234                        1                       24      2 2007-03-08   \n",
       "3314                        1                       24      2 2007-03-08   \n",
       "19465                       1                       24      2 2007-03-08   \n",
       "61906                       1                       24      2 2007-03-08   \n",
       "86992                       1                       24      2 2007-03-08   \n",
       "109418                      1                       24      2 2007-03-08   \n",
       "125216                      1                       24      2 2007-03-08   \n",
       "152853                      1                        1      3 2012-02-07   \n",
       "215454                      1                       24      2 2007-03-08   \n",
       "221663                      1                       24      2 2007-03-08   \n",
       "223294                      1                       24      2 2007-03-08   \n",
       "259510                      1                       24      2 2007-03-08   \n",
       "266212                      1                       24      2 2007-03-08   \n",
       "280052                      1                       24      2 2007-03-08   \n",
       "285798                      1                       24      2 2007-03-08   \n",
       "286463                      1                       24      2 2007-03-08   \n",
       "289761                      1                       24      2 2007-03-08   \n",
       "310528                      1                       24      2 2007-03-08   \n",
       "311734                      1                       24      2 2007-03-08   \n",
       "312574                      1                       24      2 2007-03-08   \n",
       "318095                      1                       24      2 2007-03-08   \n",
       "325036                      0                        0      3 2012-04-16   \n",
       "339435                      1                       24      2 2007-03-08   \n",
       "427077                      1                       24      2 2007-03-08   \n",
       "429603                      1                       24      2 2007-03-08   \n",
       "448071                      1                       24      2 2007-03-08   \n",
       "478577                      1                       24      2 2007-03-08   \n",
       "\n",
       "       review_summary                                        review_text  \n",
       "1234              NaN  I only used two maybe three tea bags and got p...  \n",
       "3314              NaN  I only used two maybe three tea bags and got p...  \n",
       "19465             NaN  I only used two maybe three tea bags and got p...  \n",
       "61906             NaN  I only used two maybe three tea bags and got p...  \n",
       "86992             NaN  I only used two maybe three tea bags and got p...  \n",
       "109418            NaN  I only used two maybe three tea bags and got p...  \n",
       "125216            NaN  I only used two maybe three tea bags and got p...  \n",
       "152853            NaN  This is a cool system only problem is that the...  \n",
       "215454            NaN  I only used two maybe three tea bags and got p...  \n",
       "221663            NaN  I only used two maybe three tea bags and got p...  \n",
       "223294            NaN  I only used two maybe three tea bags and got p...  \n",
       "259510            NaN  I only used two maybe three tea bags and got p...  \n",
       "266212            NaN  I only used two maybe three tea bags and got p...  \n",
       "280052            NaN  I only used two maybe three tea bags and got p...  \n",
       "285798            NaN  I only used two maybe three tea bags and got p...  \n",
       "286463            NaN  I only used two maybe three tea bags and got p...  \n",
       "289761            NaN  I only used two maybe three tea bags and got p...  \n",
       "310528            NaN  I only used two maybe three tea bags and got p...  \n",
       "311734            NaN  I only used two maybe three tea bags and got p...  \n",
       "312574            NaN  I only used two maybe three tea bags and got p...  \n",
       "318095            NaN  I only used two maybe three tea bags and got p...  \n",
       "325036            NaN  I like the product and tried it before I pucha...  \n",
       "339435            NaN  I only used two maybe three tea bags and got p...  \n",
       "427077            NaN  I only used two maybe three tea bags and got p...  \n",
       "429603            NaN  I only used two maybe three tea bags and got p...  \n",
       "448071            NaN  I only used two maybe three tea bags and got p...  \n",
       "478577            NaN  I only used two maybe three tea bags and got p...  "
      ]
     },
     "execution_count": 17,
     "metadata": {},
     "output_type": "execute_result"
    }
   ],
   "source": [
    "df[df.review_summary.isnull()]"
   ]
  },
  {
   "cell_type": "code",
   "execution_count": 18,
   "id": "15170346",
   "metadata": {},
   "outputs": [
    {
     "data": {
      "text/html": [
       "<div>\n",
       "<style scoped>\n",
       "    .dataframe tbody tr th:only-of-type {\n",
       "        vertical-align: middle;\n",
       "    }\n",
       "\n",
       "    .dataframe tbody tr th {\n",
       "        vertical-align: top;\n",
       "    }\n",
       "\n",
       "    .dataframe thead th {\n",
       "        text-align: right;\n",
       "    }\n",
       "</style>\n",
       "<table border=\"1\" class=\"dataframe\">\n",
       "  <thead>\n",
       "    <tr style=\"text-align: right;\">\n",
       "      <th></th>\n",
       "      <th>product_id</th>\n",
       "      <th>user_id</th>\n",
       "      <th>profile_name</th>\n",
       "      <th>helpfulness_numerator</th>\n",
       "      <th>helpfulness_denominator</th>\n",
       "      <th>score</th>\n",
       "      <th>date</th>\n",
       "      <th>review_summary</th>\n",
       "      <th>review_text</th>\n",
       "    </tr>\n",
       "  </thead>\n",
       "  <tbody>\n",
       "    <tr>\n",
       "      <th>325036</th>\n",
       "      <td>B001H9XOEW</td>\n",
       "      <td>A22R17YPXEULEZ</td>\n",
       "      <td>Liz Wong</td>\n",
       "      <td>0</td>\n",
       "      <td>0</td>\n",
       "      <td>3</td>\n",
       "      <td>2012-04-16</td>\n",
       "      <td>NaN</td>\n",
       "      <td>I like the product and tried it before I pucha...</td>\n",
       "    </tr>\n",
       "  </tbody>\n",
       "</table>\n",
       "</div>"
      ],
      "text/plain": [
       "        product_id         user_id profile_name  helpfulness_numerator  \\\n",
       "325036  B001H9XOEW  A22R17YPXEULEZ     Liz Wong                      0   \n",
       "\n",
       "        helpfulness_denominator  score       date review_summary  \\\n",
       "325036                        0      3 2012-04-16            NaN   \n",
       "\n",
       "                                              review_text  \n",
       "325036  I like the product and tried it before I pucha...  "
      ]
     },
     "execution_count": 18,
     "metadata": {},
     "output_type": "execute_result"
    }
   ],
   "source": [
    "df[(df.user_id=='A22R17YPXEULEZ') & (df.product_id=='B001H9XOEW') & (df.profile_name=='Liz Wong')]"
   ]
  },
  {
   "cell_type": "markdown",
   "id": "9945071b",
   "metadata": {},
   "source": [
    "# Droppping Null values [No pattern found]"
   ]
  },
  {
   "cell_type": "code",
   "execution_count": 19,
   "id": "43726644",
   "metadata": {},
   "outputs": [],
   "source": [
    "df.dropna(inplace=True)"
   ]
  },
  {
   "cell_type": "code",
   "execution_count": 20,
   "id": "ee9614a4",
   "metadata": {},
   "outputs": [
    {
     "name": "stdout",
     "output_type": "stream",
     "text": [
      "<class 'pandas.core.frame.DataFrame'>\n",
      "Int64Index: 568130 entries, 0 to 568453\n",
      "Data columns (total 9 columns):\n",
      " #   Column                   Non-Null Count   Dtype         \n",
      "---  ------                   --------------   -----         \n",
      " 0   product_id               568130 non-null  object        \n",
      " 1   user_id                  568130 non-null  object        \n",
      " 2   profile_name             568130 non-null  object        \n",
      " 3   helpfulness_numerator    568130 non-null  int64         \n",
      " 4   helpfulness_denominator  568130 non-null  int64         \n",
      " 5   score                    568130 non-null  int64         \n",
      " 6   date                     568130 non-null  datetime64[ns]\n",
      " 7   review_summary           568130 non-null  object        \n",
      " 8   review_text              568130 non-null  object        \n",
      "dtypes: datetime64[ns](1), int64(3), object(5)\n",
      "memory usage: 43.3+ MB\n"
     ]
    }
   ],
   "source": [
    "df.info()"
   ]
  },
  {
   "cell_type": "markdown",
   "id": "3691c191",
   "metadata": {},
   "source": [
    "# Creating new column named Helpfulness resetting index"
   ]
  },
  {
   "cell_type": "code",
   "execution_count": 21,
   "id": "c8b13c83",
   "metadata": {},
   "outputs": [
    {
     "data": {
      "text/html": [
       "<div>\n",
       "<style scoped>\n",
       "    .dataframe tbody tr th:only-of-type {\n",
       "        vertical-align: middle;\n",
       "    }\n",
       "\n",
       "    .dataframe tbody tr th {\n",
       "        vertical-align: top;\n",
       "    }\n",
       "\n",
       "    .dataframe thead th {\n",
       "        text-align: right;\n",
       "    }\n",
       "</style>\n",
       "<table border=\"1\" class=\"dataframe\">\n",
       "  <thead>\n",
       "    <tr style=\"text-align: right;\">\n",
       "      <th></th>\n",
       "      <th>product_id</th>\n",
       "      <th>user_id</th>\n",
       "      <th>profile_name</th>\n",
       "      <th>helpfulness_numerator</th>\n",
       "      <th>helpfulness_denominator</th>\n",
       "      <th>score</th>\n",
       "      <th>date</th>\n",
       "      <th>review_summary</th>\n",
       "      <th>review_text</th>\n",
       "      <th>helpfulness</th>\n",
       "    </tr>\n",
       "  </thead>\n",
       "  <tbody>\n",
       "    <tr>\n",
       "      <th>0</th>\n",
       "      <td>B001E4KFG0</td>\n",
       "      <td>A3SGXH7AUHU8GW</td>\n",
       "      <td>delmartian</td>\n",
       "      <td>1</td>\n",
       "      <td>1</td>\n",
       "      <td>5</td>\n",
       "      <td>2011-04-27</td>\n",
       "      <td>Good Quality Dog Food</td>\n",
       "      <td>I have bought several of the Vitality canned d...</td>\n",
       "      <td>1.0</td>\n",
       "    </tr>\n",
       "    <tr>\n",
       "      <th>1</th>\n",
       "      <td>B00171APVA</td>\n",
       "      <td>A21BT40VZCCYT4</td>\n",
       "      <td>Carol A. Reed</td>\n",
       "      <td>0</td>\n",
       "      <td>0</td>\n",
       "      <td>5</td>\n",
       "      <td>2012-10-26</td>\n",
       "      <td>Healthy Dog Food</td>\n",
       "      <td>This is a very healthy dog food. Good for thei...</td>\n",
       "      <td>0.0</td>\n",
       "    </tr>\n",
       "    <tr>\n",
       "      <th>2</th>\n",
       "      <td>B0019CW0HE</td>\n",
       "      <td>A2P6ACFZ8FTNVV</td>\n",
       "      <td>Melissa Benjamin</td>\n",
       "      <td>0</td>\n",
       "      <td>1</td>\n",
       "      <td>1</td>\n",
       "      <td>2012-03-08</td>\n",
       "      <td>Bad</td>\n",
       "      <td>I fed this to my Golden Retriever and he hated...</td>\n",
       "      <td>0.0</td>\n",
       "    </tr>\n",
       "    <tr>\n",
       "      <th>3</th>\n",
       "      <td>B006F2NYI2</td>\n",
       "      <td>A132DJVI37RB4X</td>\n",
       "      <td>Scottdrum</td>\n",
       "      <td>2</td>\n",
       "      <td>5</td>\n",
       "      <td>2</td>\n",
       "      <td>2012-03-22</td>\n",
       "      <td>Not hot, not habanero</td>\n",
       "      <td>I have to admit, I was a sucker for the large ...</td>\n",
       "      <td>0.4</td>\n",
       "    </tr>\n",
       "    <tr>\n",
       "      <th>4</th>\n",
       "      <td>B000P41A28</td>\n",
       "      <td>A82WIMR4RSVLI</td>\n",
       "      <td>Emrose mom</td>\n",
       "      <td>0</td>\n",
       "      <td>1</td>\n",
       "      <td>4</td>\n",
       "      <td>2012-05-20</td>\n",
       "      <td>The best weve tried so far</td>\n",
       "      <td>We have a 7 week old... He had gas and constip...</td>\n",
       "      <td>0.0</td>\n",
       "    </tr>\n",
       "  </tbody>\n",
       "</table>\n",
       "</div>"
      ],
      "text/plain": [
       "   product_id         user_id      profile_name  helpfulness_numerator  \\\n",
       "0  B001E4KFG0  A3SGXH7AUHU8GW        delmartian                      1   \n",
       "1  B00171APVA  A21BT40VZCCYT4     Carol A. Reed                      0   \n",
       "2  B0019CW0HE  A2P6ACFZ8FTNVV  Melissa Benjamin                      0   \n",
       "3  B006F2NYI2  A132DJVI37RB4X         Scottdrum                      2   \n",
       "4  B000P41A28   A82WIMR4RSVLI        Emrose mom                      0   \n",
       "\n",
       "   helpfulness_denominator  score       date              review_summary  \\\n",
       "0                        1      5 2011-04-27       Good Quality Dog Food   \n",
       "1                        0      5 2012-10-26            Healthy Dog Food   \n",
       "2                        1      1 2012-03-08                         Bad   \n",
       "3                        5      2 2012-03-22       Not hot, not habanero   \n",
       "4                        1      4 2012-05-20  The best weve tried so far   \n",
       "\n",
       "                                         review_text  helpfulness  \n",
       "0  I have bought several of the Vitality canned d...          1.0  \n",
       "1  This is a very healthy dog food. Good for thei...          0.0  \n",
       "2  I fed this to my Golden Retriever and he hated...          0.0  \n",
       "3  I have to admit, I was a sucker for the large ...          0.4  \n",
       "4  We have a 7 week old... He had gas and constip...          0.0  "
      ]
     },
     "execution_count": 21,
     "metadata": {},
     "output_type": "execute_result"
    }
   ],
   "source": [
    "df['helpfulness']=df.helpfulness_numerator/df.helpfulness_denominator\n",
    "df.helpfulness.fillna(0,inplace=True)\n",
    "df.reset_index(drop=True,inplace=True)\n",
    "df.head()"
   ]
  },
  {
   "cell_type": "markdown",
   "id": "22d9a671",
   "metadata": {},
   "source": [
    "# Sorting data based on date in asceding"
   ]
  },
  {
   "cell_type": "code",
   "execution_count": 22,
   "id": "37df8bb3",
   "metadata": {},
   "outputs": [],
   "source": [
    "df = df.sort_values(by=['date'], ascending=True)\n",
    "df.reset_index(drop=True,inplace=True)"
   ]
  },
  {
   "cell_type": "markdown",
   "id": "8f7f9f2d",
   "metadata": {},
   "source": [
    "# Study of columns"
   ]
  },
  {
   "cell_type": "code",
   "execution_count": 23,
   "id": "076156cc",
   "metadata": {},
   "outputs": [
    {
     "name": "stdout",
     "output_type": "stream",
     "text": [
      "<class 'pandas.core.frame.DataFrame'>\n",
      "RangeIndex: 568130 entries, 0 to 568129\n",
      "Data columns (total 10 columns):\n",
      " #   Column                   Non-Null Count   Dtype         \n",
      "---  ------                   --------------   -----         \n",
      " 0   product_id               568130 non-null  object        \n",
      " 1   user_id                  568130 non-null  object        \n",
      " 2   profile_name             568130 non-null  object        \n",
      " 3   helpfulness_numerator    568130 non-null  int64         \n",
      " 4   helpfulness_denominator  568130 non-null  int64         \n",
      " 5   score                    568130 non-null  int64         \n",
      " 6   date                     568130 non-null  datetime64[ns]\n",
      " 7   review_summary           568130 non-null  object        \n",
      " 8   review_text              568130 non-null  object        \n",
      " 9   helpfulness              568130 non-null  float64       \n",
      "dtypes: datetime64[ns](1), float64(1), int64(3), object(5)\n",
      "memory usage: 43.3+ MB\n"
     ]
    }
   ],
   "source": [
    "df.info()"
   ]
  },
  {
   "cell_type": "code",
   "execution_count": 24,
   "id": "26fd1a7b",
   "metadata": {},
   "outputs": [
    {
     "data": {
      "text/html": [
       "<div>\n",
       "<style scoped>\n",
       "    .dataframe tbody tr th:only-of-type {\n",
       "        vertical-align: middle;\n",
       "    }\n",
       "\n",
       "    .dataframe tbody tr th {\n",
       "        vertical-align: top;\n",
       "    }\n",
       "\n",
       "    .dataframe thead th {\n",
       "        text-align: right;\n",
       "    }\n",
       "</style>\n",
       "<table border=\"1\" class=\"dataframe\">\n",
       "  <thead>\n",
       "    <tr style=\"text-align: right;\">\n",
       "      <th></th>\n",
       "      <th>helpfulness_numerator</th>\n",
       "      <th>helpfulness_denominator</th>\n",
       "      <th>score</th>\n",
       "      <th>helpfulness</th>\n",
       "    </tr>\n",
       "  </thead>\n",
       "  <tbody>\n",
       "    <tr>\n",
       "      <th>count</th>\n",
       "      <td>568130.000000</td>\n",
       "      <td>568130.000000</td>\n",
       "      <td>568130.000000</td>\n",
       "      <td>568130.000000</td>\n",
       "    </tr>\n",
       "    <tr>\n",
       "      <th>mean</th>\n",
       "      <td>1.744263</td>\n",
       "      <td>2.228305</td>\n",
       "      <td>4.183328</td>\n",
       "      <td>0.407996</td>\n",
       "    </tr>\n",
       "    <tr>\n",
       "      <th>std</th>\n",
       "      <td>7.638418</td>\n",
       "      <td>8.290395</td>\n",
       "      <td>1.310319</td>\n",
       "      <td>0.462087</td>\n",
       "    </tr>\n",
       "    <tr>\n",
       "      <th>min</th>\n",
       "      <td>0.000000</td>\n",
       "      <td>0.000000</td>\n",
       "      <td>1.000000</td>\n",
       "      <td>0.000000</td>\n",
       "    </tr>\n",
       "    <tr>\n",
       "      <th>25%</th>\n",
       "      <td>0.000000</td>\n",
       "      <td>0.000000</td>\n",
       "      <td>4.000000</td>\n",
       "      <td>0.000000</td>\n",
       "    </tr>\n",
       "    <tr>\n",
       "      <th>50%</th>\n",
       "      <td>0.000000</td>\n",
       "      <td>1.000000</td>\n",
       "      <td>5.000000</td>\n",
       "      <td>0.000000</td>\n",
       "    </tr>\n",
       "    <tr>\n",
       "      <th>75%</th>\n",
       "      <td>2.000000</td>\n",
       "      <td>2.000000</td>\n",
       "      <td>5.000000</td>\n",
       "      <td>1.000000</td>\n",
       "    </tr>\n",
       "    <tr>\n",
       "      <th>max</th>\n",
       "      <td>866.000000</td>\n",
       "      <td>923.000000</td>\n",
       "      <td>5.000000</td>\n",
       "      <td>3.000000</td>\n",
       "    </tr>\n",
       "  </tbody>\n",
       "</table>\n",
       "</div>"
      ],
      "text/plain": [
       "       helpfulness_numerator  helpfulness_denominator          score  \\\n",
       "count          568130.000000            568130.000000  568130.000000   \n",
       "mean                1.744263                 2.228305       4.183328   \n",
       "std                 7.638418                 8.290395       1.310319   \n",
       "min                 0.000000                 0.000000       1.000000   \n",
       "25%                 0.000000                 0.000000       4.000000   \n",
       "50%                 0.000000                 1.000000       5.000000   \n",
       "75%                 2.000000                 2.000000       5.000000   \n",
       "max               866.000000               923.000000       5.000000   \n",
       "\n",
       "         helpfulness  \n",
       "count  568130.000000  \n",
       "mean        0.407996  \n",
       "std         0.462087  \n",
       "min         0.000000  \n",
       "25%         0.000000  \n",
       "50%         0.000000  \n",
       "75%         1.000000  \n",
       "max         3.000000  "
      ]
     },
     "execution_count": 24,
     "metadata": {},
     "output_type": "execute_result"
    }
   ],
   "source": [
    "df.describe()"
   ]
  },
  {
   "cell_type": "markdown",
   "id": "57ee2810",
   "metadata": {},
   "source": [
    "# Total number of products is 74258 and top 5 products"
   ]
  },
  {
   "cell_type": "code",
   "execution_count": 284,
   "id": "bde9d220",
   "metadata": {},
   "outputs": [
    {
     "name": "stdout",
     "output_type": "stream",
     "text": [
      "74258\n",
      "B007JFMH8M    913\n",
      "B002QWHJOU    631\n",
      "B0026RQTGE    631\n",
      "B002QWP8H0    631\n",
      "B002QWP89S    631\n",
      "B003B3OOPA    623\n",
      "B001EO5Q64    567\n",
      "B001RVFERK    564\n",
      "B000VK8AVK    564\n",
      "B0026KPDG8    564\n",
      "Name: product_id, dtype: int64\n"
     ]
    }
   ],
   "source": [
    "print(df.product_id.nunique())\n",
    "print(df.product_id.value_counts()[:10])"
   ]
  },
  {
   "cell_type": "markdown",
   "id": "fadf0fd5",
   "metadata": {},
   "source": [
    "# Total number of user"
   ]
  },
  {
   "cell_type": "code",
   "execution_count": 26,
   "id": "d2cc38c9",
   "metadata": {},
   "outputs": [
    {
     "data": {
      "text/plain": [
       "256047"
      ]
     },
     "execution_count": 26,
     "metadata": {},
     "output_type": "execute_result"
    }
   ],
   "source": [
    "df.user_id.nunique()"
   ]
  },
  {
   "cell_type": "markdown",
   "id": "e7b607d9",
   "metadata": {},
   "source": [
    "# Range of score is 1 - 5\n",
    "# Range of helpfulness is 0 - 3"
   ]
  },
  {
   "cell_type": "markdown",
   "id": "51b9477a",
   "metadata": {},
   "source": [
    "# Creating news column from given columns"
   ]
  },
  {
   "cell_type": "code",
   "execution_count": 27,
   "id": "27073537",
   "metadata": {},
   "outputs": [
    {
     "data": {
      "text/html": [
       "<div>\n",
       "<style scoped>\n",
       "    .dataframe tbody tr th:only-of-type {\n",
       "        vertical-align: middle;\n",
       "    }\n",
       "\n",
       "    .dataframe tbody tr th {\n",
       "        vertical-align: top;\n",
       "    }\n",
       "\n",
       "    .dataframe thead th {\n",
       "        text-align: right;\n",
       "    }\n",
       "</style>\n",
       "<table border=\"1\" class=\"dataframe\">\n",
       "  <thead>\n",
       "    <tr style=\"text-align: right;\">\n",
       "      <th></th>\n",
       "      <th>product_id</th>\n",
       "      <th>user_id</th>\n",
       "      <th>profile_name</th>\n",
       "      <th>helpfulness_numerator</th>\n",
       "      <th>helpfulness_denominator</th>\n",
       "      <th>score</th>\n",
       "      <th>date</th>\n",
       "      <th>review_summary</th>\n",
       "      <th>review_text</th>\n",
       "      <th>helpfulness</th>\n",
       "      <th>len_review_text</th>\n",
       "    </tr>\n",
       "  </thead>\n",
       "  <tbody>\n",
       "    <tr>\n",
       "      <th>0</th>\n",
       "      <td>0006641040</td>\n",
       "      <td>ACITT7DI6IDDL</td>\n",
       "      <td>shari zychinski</td>\n",
       "      <td>0</td>\n",
       "      <td>0</td>\n",
       "      <td>5</td>\n",
       "      <td>1999-10-08</td>\n",
       "      <td>EVERY book is educational</td>\n",
       "      <td>this witty little book makes my son laugh at l...</td>\n",
       "      <td>0.0</td>\n",
       "      <td>74</td>\n",
       "    </tr>\n",
       "    <tr>\n",
       "      <th>1</th>\n",
       "      <td>0006641040</td>\n",
       "      <td>AJ46FKXOVC7NR</td>\n",
       "      <td>Nicholas A Mesiano</td>\n",
       "      <td>2</td>\n",
       "      <td>2</td>\n",
       "      <td>5</td>\n",
       "      <td>1999-10-25</td>\n",
       "      <td>This whole series is great way to spend time w...</td>\n",
       "      <td>I can remember seeing the show when it aired o...</td>\n",
       "      <td>1.0</td>\n",
       "      <td>78</td>\n",
       "    </tr>\n",
       "    <tr>\n",
       "      <th>2</th>\n",
       "      <td>B00004CXX9</td>\n",
       "      <td>AIUWLEQ1ADEG5</td>\n",
       "      <td>Elizabeth Medina</td>\n",
       "      <td>0</td>\n",
       "      <td>0</td>\n",
       "      <td>5</td>\n",
       "      <td>1999-12-02</td>\n",
       "      <td>Entertainingl Funny!</td>\n",
       "      <td>Beetlejuice is a well written movie ..... ever...</td>\n",
       "      <td>0.0</td>\n",
       "      <td>29</td>\n",
       "    </tr>\n",
       "    <tr>\n",
       "      <th>3</th>\n",
       "      <td>B00004CXX9</td>\n",
       "      <td>A344SMIA5JECGM</td>\n",
       "      <td>Vincent P. Ross</td>\n",
       "      <td>1</td>\n",
       "      <td>2</td>\n",
       "      <td>5</td>\n",
       "      <td>1999-12-06</td>\n",
       "      <td>A modern day fairy tale</td>\n",
       "      <td>A twist of rumplestiskin captured on film, sta...</td>\n",
       "      <td>0.5</td>\n",
       "      <td>36</td>\n",
       "    </tr>\n",
       "    <tr>\n",
       "      <th>4</th>\n",
       "      <td>B00004CI84</td>\n",
       "      <td>A344SMIA5JECGM</td>\n",
       "      <td>Vincent P. Ross</td>\n",
       "      <td>1</td>\n",
       "      <td>2</td>\n",
       "      <td>5</td>\n",
       "      <td>1999-12-06</td>\n",
       "      <td>A modern day fairy tale</td>\n",
       "      <td>A twist of rumplestiskin captured on film, sta...</td>\n",
       "      <td>0.5</td>\n",
       "      <td>36</td>\n",
       "    </tr>\n",
       "  </tbody>\n",
       "</table>\n",
       "</div>"
      ],
      "text/plain": [
       "   product_id         user_id        profile_name  helpfulness_numerator  \\\n",
       "0  0006641040   ACITT7DI6IDDL     shari zychinski                      0   \n",
       "1  0006641040   AJ46FKXOVC7NR  Nicholas A Mesiano                      2   \n",
       "2  B00004CXX9   AIUWLEQ1ADEG5    Elizabeth Medina                      0   \n",
       "3  B00004CXX9  A344SMIA5JECGM     Vincent P. Ross                      1   \n",
       "4  B00004CI84  A344SMIA5JECGM     Vincent P. Ross                      1   \n",
       "\n",
       "   helpfulness_denominator  score       date  \\\n",
       "0                        0      5 1999-10-08   \n",
       "1                        2      5 1999-10-25   \n",
       "2                        0      5 1999-12-02   \n",
       "3                        2      5 1999-12-06   \n",
       "4                        2      5 1999-12-06   \n",
       "\n",
       "                                      review_summary  \\\n",
       "0                          EVERY book is educational   \n",
       "1  This whole series is great way to spend time w...   \n",
       "2                               Entertainingl Funny!   \n",
       "3                            A modern day fairy tale   \n",
       "4                            A modern day fairy tale   \n",
       "\n",
       "                                         review_text  helpfulness  \\\n",
       "0  this witty little book makes my son laugh at l...          0.0   \n",
       "1  I can remember seeing the show when it aired o...          1.0   \n",
       "2  Beetlejuice is a well written movie ..... ever...          0.0   \n",
       "3  A twist of rumplestiskin captured on film, sta...          0.5   \n",
       "4  A twist of rumplestiskin captured on film, sta...          0.5   \n",
       "\n",
       "   len_review_text  \n",
       "0               74  \n",
       "1               78  \n",
       "2               29  \n",
       "3               36  \n",
       "4               36  "
      ]
     },
     "execution_count": 27,
     "metadata": {},
     "output_type": "execute_result"
    }
   ],
   "source": [
    "df['len_review_text']=df.review_text.apply(lambda x : len(x.split()))\n",
    "df.head()"
   ]
  },
  {
   "cell_type": "code",
   "execution_count": 264,
   "id": "b076cc03",
   "metadata": {},
   "outputs": [
    {
     "data": {
      "text/html": [
       "<div>\n",
       "<style scoped>\n",
       "    .dataframe tbody tr th:only-of-type {\n",
       "        vertical-align: middle;\n",
       "    }\n",
       "\n",
       "    .dataframe tbody tr th {\n",
       "        vertical-align: top;\n",
       "    }\n",
       "\n",
       "    .dataframe thead th {\n",
       "        text-align: right;\n",
       "    }\n",
       "</style>\n",
       "<table border=\"1\" class=\"dataframe\">\n",
       "  <thead>\n",
       "    <tr style=\"text-align: right;\">\n",
       "      <th></th>\n",
       "      <th>product_id</th>\n",
       "      <th>user_id</th>\n",
       "      <th>profile_name</th>\n",
       "      <th>helpfulness_numerator</th>\n",
       "      <th>helpfulness_denominator</th>\n",
       "      <th>score</th>\n",
       "      <th>date</th>\n",
       "      <th>review_summary</th>\n",
       "      <th>review_text</th>\n",
       "      <th>helpfulness</th>\n",
       "      <th>len_review_text</th>\n",
       "      <th>usefulness</th>\n",
       "      <th>sentiment</th>\n",
       "      <th>len_review_summary</th>\n",
       "    </tr>\n",
       "  </thead>\n",
       "  <tbody>\n",
       "    <tr>\n",
       "      <th>0</th>\n",
       "      <td>0006641040</td>\n",
       "      <td>ACITT7DI6IDDL</td>\n",
       "      <td>shari zychinski</td>\n",
       "      <td>0</td>\n",
       "      <td>0</td>\n",
       "      <td>5</td>\n",
       "      <td>1999-10-08</td>\n",
       "      <td>EVERY book is educational</td>\n",
       "      <td>this witty little book makes my son laugh at l...</td>\n",
       "      <td>0.0</td>\n",
       "      <td>74</td>\n",
       "      <td>useless</td>\n",
       "      <td>positive</td>\n",
       "      <td>4</td>\n",
       "    </tr>\n",
       "    <tr>\n",
       "      <th>1</th>\n",
       "      <td>0006641040</td>\n",
       "      <td>AJ46FKXOVC7NR</td>\n",
       "      <td>Nicholas A Mesiano</td>\n",
       "      <td>2</td>\n",
       "      <td>2</td>\n",
       "      <td>5</td>\n",
       "      <td>1999-10-25</td>\n",
       "      <td>This whole series is great way to spend time w...</td>\n",
       "      <td>I can remember seeing the show when it aired o...</td>\n",
       "      <td>1.0</td>\n",
       "      <td>78</td>\n",
       "      <td>very useful</td>\n",
       "      <td>positive</td>\n",
       "      <td>12</td>\n",
       "    </tr>\n",
       "    <tr>\n",
       "      <th>2</th>\n",
       "      <td>B00004CXX9</td>\n",
       "      <td>AIUWLEQ1ADEG5</td>\n",
       "      <td>Elizabeth Medina</td>\n",
       "      <td>0</td>\n",
       "      <td>0</td>\n",
       "      <td>5</td>\n",
       "      <td>1999-12-02</td>\n",
       "      <td>Entertainingl Funny!</td>\n",
       "      <td>Beetlejuice is a well written movie ..... ever...</td>\n",
       "      <td>0.0</td>\n",
       "      <td>29</td>\n",
       "      <td>useless</td>\n",
       "      <td>positive</td>\n",
       "      <td>2</td>\n",
       "    </tr>\n",
       "    <tr>\n",
       "      <th>3</th>\n",
       "      <td>B00004CXX9</td>\n",
       "      <td>A344SMIA5JECGM</td>\n",
       "      <td>Vincent P. Ross</td>\n",
       "      <td>1</td>\n",
       "      <td>2</td>\n",
       "      <td>5</td>\n",
       "      <td>1999-12-06</td>\n",
       "      <td>A modern day fairy tale</td>\n",
       "      <td>A twist of rumplestiskin captured on film, sta...</td>\n",
       "      <td>0.5</td>\n",
       "      <td>36</td>\n",
       "      <td>moderate useful</td>\n",
       "      <td>positive</td>\n",
       "      <td>5</td>\n",
       "    </tr>\n",
       "    <tr>\n",
       "      <th>4</th>\n",
       "      <td>B00004CI84</td>\n",
       "      <td>A344SMIA5JECGM</td>\n",
       "      <td>Vincent P. Ross</td>\n",
       "      <td>1</td>\n",
       "      <td>2</td>\n",
       "      <td>5</td>\n",
       "      <td>1999-12-06</td>\n",
       "      <td>A modern day fairy tale</td>\n",
       "      <td>A twist of rumplestiskin captured on film, sta...</td>\n",
       "      <td>0.5</td>\n",
       "      <td>36</td>\n",
       "      <td>moderate useful</td>\n",
       "      <td>positive</td>\n",
       "      <td>5</td>\n",
       "    </tr>\n",
       "  </tbody>\n",
       "</table>\n",
       "</div>"
      ],
      "text/plain": [
       "   product_id         user_id        profile_name  helpfulness_numerator  \\\n",
       "0  0006641040   ACITT7DI6IDDL     shari zychinski                      0   \n",
       "1  0006641040   AJ46FKXOVC7NR  Nicholas A Mesiano                      2   \n",
       "2  B00004CXX9   AIUWLEQ1ADEG5    Elizabeth Medina                      0   \n",
       "3  B00004CXX9  A344SMIA5JECGM     Vincent P. Ross                      1   \n",
       "4  B00004CI84  A344SMIA5JECGM     Vincent P. Ross                      1   \n",
       "\n",
       "   helpfulness_denominator  score       date  \\\n",
       "0                        0      5 1999-10-08   \n",
       "1                        2      5 1999-10-25   \n",
       "2                        0      5 1999-12-02   \n",
       "3                        2      5 1999-12-06   \n",
       "4                        2      5 1999-12-06   \n",
       "\n",
       "                                      review_summary  \\\n",
       "0                          EVERY book is educational   \n",
       "1  This whole series is great way to spend time w...   \n",
       "2                               Entertainingl Funny!   \n",
       "3                            A modern day fairy tale   \n",
       "4                            A modern day fairy tale   \n",
       "\n",
       "                                         review_text  helpfulness  \\\n",
       "0  this witty little book makes my son laugh at l...          0.0   \n",
       "1  I can remember seeing the show when it aired o...          1.0   \n",
       "2  Beetlejuice is a well written movie ..... ever...          0.0   \n",
       "3  A twist of rumplestiskin captured on film, sta...          0.5   \n",
       "4  A twist of rumplestiskin captured on film, sta...          0.5   \n",
       "\n",
       "   len_review_text       usefulness sentiment  len_review_summary  \n",
       "0               74          useless  positive                   4  \n",
       "1               78      very useful  positive                  12  \n",
       "2               29          useless  positive                   2  \n",
       "3               36  moderate useful  positive                   5  \n",
       "4               36  moderate useful  positive                   5  "
      ]
     },
     "execution_count": 264,
     "metadata": {},
     "output_type": "execute_result"
    }
   ],
   "source": [
    "df['len_review_summary']=df.review_summary.apply(lambda x : len(x.split()))\n",
    "df.head()"
   ]
  },
  {
   "cell_type": "code",
   "execution_count": 228,
   "id": "ab111a57",
   "metadata": {},
   "outputs": [
    {
     "data": {
      "text/html": [
       "<div>\n",
       "<style scoped>\n",
       "    .dataframe tbody tr th:only-of-type {\n",
       "        vertical-align: middle;\n",
       "    }\n",
       "\n",
       "    .dataframe tbody tr th {\n",
       "        vertical-align: top;\n",
       "    }\n",
       "\n",
       "    .dataframe thead th {\n",
       "        text-align: right;\n",
       "    }\n",
       "</style>\n",
       "<table border=\"1\" class=\"dataframe\">\n",
       "  <thead>\n",
       "    <tr style=\"text-align: right;\">\n",
       "      <th></th>\n",
       "      <th>product_id</th>\n",
       "      <th>user_id</th>\n",
       "      <th>profile_name</th>\n",
       "      <th>helpfulness_numerator</th>\n",
       "      <th>helpfulness_denominator</th>\n",
       "      <th>score</th>\n",
       "      <th>date</th>\n",
       "      <th>review_summary</th>\n",
       "      <th>review_text</th>\n",
       "      <th>helpfulness</th>\n",
       "      <th>len_review_text</th>\n",
       "      <th>usefulness</th>\n",
       "      <th>sentiment</th>\n",
       "    </tr>\n",
       "  </thead>\n",
       "  <tbody>\n",
       "    <tr>\n",
       "      <th>0</th>\n",
       "      <td>0006641040</td>\n",
       "      <td>ACITT7DI6IDDL</td>\n",
       "      <td>shari zychinski</td>\n",
       "      <td>0</td>\n",
       "      <td>0</td>\n",
       "      <td>5</td>\n",
       "      <td>1999-10-08</td>\n",
       "      <td>EVERY book is educational</td>\n",
       "      <td>this witty little book makes my son laugh at l...</td>\n",
       "      <td>0.0</td>\n",
       "      <td>74</td>\n",
       "      <td>useless</td>\n",
       "      <td>positive</td>\n",
       "    </tr>\n",
       "    <tr>\n",
       "      <th>1</th>\n",
       "      <td>0006641040</td>\n",
       "      <td>AJ46FKXOVC7NR</td>\n",
       "      <td>Nicholas A Mesiano</td>\n",
       "      <td>2</td>\n",
       "      <td>2</td>\n",
       "      <td>5</td>\n",
       "      <td>1999-10-25</td>\n",
       "      <td>This whole series is great way to spend time w...</td>\n",
       "      <td>I can remember seeing the show when it aired o...</td>\n",
       "      <td>1.0</td>\n",
       "      <td>78</td>\n",
       "      <td>very useful</td>\n",
       "      <td>positive</td>\n",
       "    </tr>\n",
       "    <tr>\n",
       "      <th>2</th>\n",
       "      <td>B00004CXX9</td>\n",
       "      <td>AIUWLEQ1ADEG5</td>\n",
       "      <td>Elizabeth Medina</td>\n",
       "      <td>0</td>\n",
       "      <td>0</td>\n",
       "      <td>5</td>\n",
       "      <td>1999-12-02</td>\n",
       "      <td>Entertainingl Funny!</td>\n",
       "      <td>Beetlejuice is a well written movie ..... ever...</td>\n",
       "      <td>0.0</td>\n",
       "      <td>29</td>\n",
       "      <td>useless</td>\n",
       "      <td>positive</td>\n",
       "    </tr>\n",
       "    <tr>\n",
       "      <th>3</th>\n",
       "      <td>B00004CXX9</td>\n",
       "      <td>A344SMIA5JECGM</td>\n",
       "      <td>Vincent P. Ross</td>\n",
       "      <td>1</td>\n",
       "      <td>2</td>\n",
       "      <td>5</td>\n",
       "      <td>1999-12-06</td>\n",
       "      <td>A modern day fairy tale</td>\n",
       "      <td>A twist of rumplestiskin captured on film, sta...</td>\n",
       "      <td>0.5</td>\n",
       "      <td>36</td>\n",
       "      <td>moderate useful</td>\n",
       "      <td>positive</td>\n",
       "    </tr>\n",
       "    <tr>\n",
       "      <th>4</th>\n",
       "      <td>B00004CI84</td>\n",
       "      <td>A344SMIA5JECGM</td>\n",
       "      <td>Vincent P. Ross</td>\n",
       "      <td>1</td>\n",
       "      <td>2</td>\n",
       "      <td>5</td>\n",
       "      <td>1999-12-06</td>\n",
       "      <td>A modern day fairy tale</td>\n",
       "      <td>A twist of rumplestiskin captured on film, sta...</td>\n",
       "      <td>0.5</td>\n",
       "      <td>36</td>\n",
       "      <td>moderate useful</td>\n",
       "      <td>positive</td>\n",
       "    </tr>\n",
       "  </tbody>\n",
       "</table>\n",
       "</div>"
      ],
      "text/plain": [
       "   product_id         user_id        profile_name  helpfulness_numerator  \\\n",
       "0  0006641040   ACITT7DI6IDDL     shari zychinski                      0   \n",
       "1  0006641040   AJ46FKXOVC7NR  Nicholas A Mesiano                      2   \n",
       "2  B00004CXX9   AIUWLEQ1ADEG5    Elizabeth Medina                      0   \n",
       "3  B00004CXX9  A344SMIA5JECGM     Vincent P. Ross                      1   \n",
       "4  B00004CI84  A344SMIA5JECGM     Vincent P. Ross                      1   \n",
       "\n",
       "   helpfulness_denominator  score       date  \\\n",
       "0                        0      5 1999-10-08   \n",
       "1                        2      5 1999-10-25   \n",
       "2                        0      5 1999-12-02   \n",
       "3                        2      5 1999-12-06   \n",
       "4                        2      5 1999-12-06   \n",
       "\n",
       "                                      review_summary  \\\n",
       "0                          EVERY book is educational   \n",
       "1  This whole series is great way to spend time w...   \n",
       "2                               Entertainingl Funny!   \n",
       "3                            A modern day fairy tale   \n",
       "4                            A modern day fairy tale   \n",
       "\n",
       "                                         review_text  helpfulness  \\\n",
       "0  this witty little book makes my son laugh at l...          0.0   \n",
       "1  I can remember seeing the show when it aired o...          1.0   \n",
       "2  Beetlejuice is a well written movie ..... ever...          0.0   \n",
       "3  A twist of rumplestiskin captured on film, sta...          0.5   \n",
       "4  A twist of rumplestiskin captured on film, sta...          0.5   \n",
       "\n",
       "   len_review_text       usefulness sentiment  \n",
       "0               74          useless  positive  \n",
       "1               78      very useful  positive  \n",
       "2               29          useless  positive  \n",
       "3               36  moderate useful  positive  \n",
       "4               36  moderate useful  positive  "
      ]
     },
     "execution_count": 228,
     "metadata": {},
     "output_type": "execute_result"
    }
   ],
   "source": [
    "df['usefulness']=df.helpfulness.apply(lambda x: 'very useful' if (x>=0.75) else ('moderate useful' if (0.25<x<0.75) else 'useless'))\n",
    "df.head()"
   ]
  },
  {
   "cell_type": "code",
   "execution_count": 29,
   "id": "3d19f914",
   "metadata": {},
   "outputs": [
    {
     "data": {
      "text/html": [
       "<div>\n",
       "<style scoped>\n",
       "    .dataframe tbody tr th:only-of-type {\n",
       "        vertical-align: middle;\n",
       "    }\n",
       "\n",
       "    .dataframe tbody tr th {\n",
       "        vertical-align: top;\n",
       "    }\n",
       "\n",
       "    .dataframe thead th {\n",
       "        text-align: right;\n",
       "    }\n",
       "</style>\n",
       "<table border=\"1\" class=\"dataframe\">\n",
       "  <thead>\n",
       "    <tr style=\"text-align: right;\">\n",
       "      <th></th>\n",
       "      <th>product_id</th>\n",
       "      <th>user_id</th>\n",
       "      <th>profile_name</th>\n",
       "      <th>helpfulness_numerator</th>\n",
       "      <th>helpfulness_denominator</th>\n",
       "      <th>score</th>\n",
       "      <th>date</th>\n",
       "      <th>review_summary</th>\n",
       "      <th>review_text</th>\n",
       "      <th>helpfulness</th>\n",
       "      <th>len_review_text</th>\n",
       "      <th>usefulness</th>\n",
       "      <th>sentiment</th>\n",
       "    </tr>\n",
       "  </thead>\n",
       "  <tbody>\n",
       "    <tr>\n",
       "      <th>0</th>\n",
       "      <td>0006641040</td>\n",
       "      <td>ACITT7DI6IDDL</td>\n",
       "      <td>shari zychinski</td>\n",
       "      <td>0</td>\n",
       "      <td>0</td>\n",
       "      <td>5</td>\n",
       "      <td>1999-10-08</td>\n",
       "      <td>EVERY book is educational</td>\n",
       "      <td>this witty little book makes my son laugh at l...</td>\n",
       "      <td>0.0</td>\n",
       "      <td>74</td>\n",
       "      <td>useless</td>\n",
       "      <td>positive</td>\n",
       "    </tr>\n",
       "    <tr>\n",
       "      <th>1</th>\n",
       "      <td>0006641040</td>\n",
       "      <td>AJ46FKXOVC7NR</td>\n",
       "      <td>Nicholas A Mesiano</td>\n",
       "      <td>2</td>\n",
       "      <td>2</td>\n",
       "      <td>5</td>\n",
       "      <td>1999-10-25</td>\n",
       "      <td>This whole series is great way to spend time w...</td>\n",
       "      <td>I can remember seeing the show when it aired o...</td>\n",
       "      <td>1.0</td>\n",
       "      <td>78</td>\n",
       "      <td>very useful</td>\n",
       "      <td>positive</td>\n",
       "    </tr>\n",
       "    <tr>\n",
       "      <th>2</th>\n",
       "      <td>B00004CXX9</td>\n",
       "      <td>AIUWLEQ1ADEG5</td>\n",
       "      <td>Elizabeth Medina</td>\n",
       "      <td>0</td>\n",
       "      <td>0</td>\n",
       "      <td>5</td>\n",
       "      <td>1999-12-02</td>\n",
       "      <td>Entertainingl Funny!</td>\n",
       "      <td>Beetlejuice is a well written movie ..... ever...</td>\n",
       "      <td>0.0</td>\n",
       "      <td>29</td>\n",
       "      <td>useless</td>\n",
       "      <td>positive</td>\n",
       "    </tr>\n",
       "    <tr>\n",
       "      <th>3</th>\n",
       "      <td>B00004CXX9</td>\n",
       "      <td>A344SMIA5JECGM</td>\n",
       "      <td>Vincent P. Ross</td>\n",
       "      <td>1</td>\n",
       "      <td>2</td>\n",
       "      <td>5</td>\n",
       "      <td>1999-12-06</td>\n",
       "      <td>A modern day fairy tale</td>\n",
       "      <td>A twist of rumplestiskin captured on film, sta...</td>\n",
       "      <td>0.5</td>\n",
       "      <td>36</td>\n",
       "      <td>useful</td>\n",
       "      <td>positive</td>\n",
       "    </tr>\n",
       "    <tr>\n",
       "      <th>4</th>\n",
       "      <td>B00004CI84</td>\n",
       "      <td>A344SMIA5JECGM</td>\n",
       "      <td>Vincent P. Ross</td>\n",
       "      <td>1</td>\n",
       "      <td>2</td>\n",
       "      <td>5</td>\n",
       "      <td>1999-12-06</td>\n",
       "      <td>A modern day fairy tale</td>\n",
       "      <td>A twist of rumplestiskin captured on film, sta...</td>\n",
       "      <td>0.5</td>\n",
       "      <td>36</td>\n",
       "      <td>useful</td>\n",
       "      <td>positive</td>\n",
       "    </tr>\n",
       "  </tbody>\n",
       "</table>\n",
       "</div>"
      ],
      "text/plain": [
       "   product_id         user_id        profile_name  helpfulness_numerator  \\\n",
       "0  0006641040   ACITT7DI6IDDL     shari zychinski                      0   \n",
       "1  0006641040   AJ46FKXOVC7NR  Nicholas A Mesiano                      2   \n",
       "2  B00004CXX9   AIUWLEQ1ADEG5    Elizabeth Medina                      0   \n",
       "3  B00004CXX9  A344SMIA5JECGM     Vincent P. Ross                      1   \n",
       "4  B00004CI84  A344SMIA5JECGM     Vincent P. Ross                      1   \n",
       "\n",
       "   helpfulness_denominator  score       date  \\\n",
       "0                        0      5 1999-10-08   \n",
       "1                        2      5 1999-10-25   \n",
       "2                        0      5 1999-12-02   \n",
       "3                        2      5 1999-12-06   \n",
       "4                        2      5 1999-12-06   \n",
       "\n",
       "                                      review_summary  \\\n",
       "0                          EVERY book is educational   \n",
       "1  This whole series is great way to spend time w...   \n",
       "2                               Entertainingl Funny!   \n",
       "3                            A modern day fairy tale   \n",
       "4                            A modern day fairy tale   \n",
       "\n",
       "                                         review_text  helpfulness  \\\n",
       "0  this witty little book makes my son laugh at l...          0.0   \n",
       "1  I can remember seeing the show when it aired o...          1.0   \n",
       "2  Beetlejuice is a well written movie ..... ever...          0.0   \n",
       "3  A twist of rumplestiskin captured on film, sta...          0.5   \n",
       "4  A twist of rumplestiskin captured on film, sta...          0.5   \n",
       "\n",
       "   len_review_text   usefulness sentiment  \n",
       "0               74      useless  positive  \n",
       "1               78  very useful  positive  \n",
       "2               29      useless  positive  \n",
       "3               36       useful  positive  \n",
       "4               36       useful  positive  "
      ]
     },
     "execution_count": 29,
     "metadata": {},
     "output_type": "execute_result"
    }
   ],
   "source": [
    "df['sentiment']=df.score.apply(lambda x: 'positive' if ((x==5) or (x==4)) else ('neutral' if (x==3) else 'negative'))\n",
    "df.head()"
   ]
  },
  {
   "cell_type": "markdown",
   "id": "b3297c16",
   "metadata": {},
   "source": [
    "# top 10 person with number of positive reviews given by him/her"
   ]
  },
  {
   "cell_type": "code",
   "execution_count": 268,
   "id": "664d6240",
   "metadata": {},
   "outputs": [
    {
     "data": {
      "text/html": [
       "<div>\n",
       "<style scoped>\n",
       "    .dataframe tbody tr th:only-of-type {\n",
       "        vertical-align: middle;\n",
       "    }\n",
       "\n",
       "    .dataframe tbody tr th {\n",
       "        vertical-align: top;\n",
       "    }\n",
       "\n",
       "    .dataframe thead th {\n",
       "        text-align: right;\n",
       "    }\n",
       "</style>\n",
       "<table border=\"1\" class=\"dataframe\">\n",
       "  <thead>\n",
       "    <tr style=\"text-align: right;\">\n",
       "      <th></th>\n",
       "      <th>product_id</th>\n",
       "      <th>user_id</th>\n",
       "      <th>profile_name</th>\n",
       "      <th>helpfulness_numerator</th>\n",
       "      <th>helpfulness_denominator</th>\n",
       "      <th>score</th>\n",
       "      <th>date</th>\n",
       "      <th>review_summary</th>\n",
       "      <th>review_text</th>\n",
       "      <th>helpfulness</th>\n",
       "      <th>len_review_text</th>\n",
       "      <th>usefulness</th>\n",
       "      <th>sentiment</th>\n",
       "      <th>len_review_summary</th>\n",
       "    </tr>\n",
       "  </thead>\n",
       "  <tbody>\n",
       "    <tr>\n",
       "      <th>0</th>\n",
       "      <td>0006641040</td>\n",
       "      <td>ACITT7DI6IDDL</td>\n",
       "      <td>shari zychinski</td>\n",
       "      <td>0</td>\n",
       "      <td>0</td>\n",
       "      <td>5</td>\n",
       "      <td>1999-10-08</td>\n",
       "      <td>EVERY book is educational</td>\n",
       "      <td>this witty little book makes my son laugh at l...</td>\n",
       "      <td>0.0</td>\n",
       "      <td>74</td>\n",
       "      <td>useless</td>\n",
       "      <td>positive</td>\n",
       "      <td>4</td>\n",
       "    </tr>\n",
       "    <tr>\n",
       "      <th>1</th>\n",
       "      <td>0006641040</td>\n",
       "      <td>AJ46FKXOVC7NR</td>\n",
       "      <td>Nicholas A Mesiano</td>\n",
       "      <td>2</td>\n",
       "      <td>2</td>\n",
       "      <td>5</td>\n",
       "      <td>1999-10-25</td>\n",
       "      <td>This whole series is great way to spend time w...</td>\n",
       "      <td>I can remember seeing the show when it aired o...</td>\n",
       "      <td>1.0</td>\n",
       "      <td>78</td>\n",
       "      <td>very useful</td>\n",
       "      <td>positive</td>\n",
       "      <td>12</td>\n",
       "    </tr>\n",
       "    <tr>\n",
       "      <th>2</th>\n",
       "      <td>B00004CXX9</td>\n",
       "      <td>AIUWLEQ1ADEG5</td>\n",
       "      <td>Elizabeth Medina</td>\n",
       "      <td>0</td>\n",
       "      <td>0</td>\n",
       "      <td>5</td>\n",
       "      <td>1999-12-02</td>\n",
       "      <td>Entertainingl Funny!</td>\n",
       "      <td>Beetlejuice is a well written movie ..... ever...</td>\n",
       "      <td>0.0</td>\n",
       "      <td>29</td>\n",
       "      <td>useless</td>\n",
       "      <td>positive</td>\n",
       "      <td>2</td>\n",
       "    </tr>\n",
       "    <tr>\n",
       "      <th>3</th>\n",
       "      <td>B00004CXX9</td>\n",
       "      <td>A344SMIA5JECGM</td>\n",
       "      <td>Vincent P. Ross</td>\n",
       "      <td>1</td>\n",
       "      <td>2</td>\n",
       "      <td>5</td>\n",
       "      <td>1999-12-06</td>\n",
       "      <td>A modern day fairy tale</td>\n",
       "      <td>A twist of rumplestiskin captured on film, sta...</td>\n",
       "      <td>0.5</td>\n",
       "      <td>36</td>\n",
       "      <td>moderate useful</td>\n",
       "      <td>positive</td>\n",
       "      <td>5</td>\n",
       "    </tr>\n",
       "    <tr>\n",
       "      <th>4</th>\n",
       "      <td>B00004CI84</td>\n",
       "      <td>A344SMIA5JECGM</td>\n",
       "      <td>Vincent P. Ross</td>\n",
       "      <td>1</td>\n",
       "      <td>2</td>\n",
       "      <td>5</td>\n",
       "      <td>1999-12-06</td>\n",
       "      <td>A modern day fairy tale</td>\n",
       "      <td>A twist of rumplestiskin captured on film, sta...</td>\n",
       "      <td>0.5</td>\n",
       "      <td>36</td>\n",
       "      <td>moderate useful</td>\n",
       "      <td>positive</td>\n",
       "      <td>5</td>\n",
       "    </tr>\n",
       "  </tbody>\n",
       "</table>\n",
       "</div>"
      ],
      "text/plain": [
       "   product_id         user_id        profile_name  helpfulness_numerator  \\\n",
       "0  0006641040   ACITT7DI6IDDL     shari zychinski                      0   \n",
       "1  0006641040   AJ46FKXOVC7NR  Nicholas A Mesiano                      2   \n",
       "2  B00004CXX9   AIUWLEQ1ADEG5    Elizabeth Medina                      0   \n",
       "3  B00004CXX9  A344SMIA5JECGM     Vincent P. Ross                      1   \n",
       "4  B00004CI84  A344SMIA5JECGM     Vincent P. Ross                      1   \n",
       "\n",
       "   helpfulness_denominator  score       date  \\\n",
       "0                        0      5 1999-10-08   \n",
       "1                        2      5 1999-10-25   \n",
       "2                        0      5 1999-12-02   \n",
       "3                        2      5 1999-12-06   \n",
       "4                        2      5 1999-12-06   \n",
       "\n",
       "                                      review_summary  \\\n",
       "0                          EVERY book is educational   \n",
       "1  This whole series is great way to spend time w...   \n",
       "2                               Entertainingl Funny!   \n",
       "3                            A modern day fairy tale   \n",
       "4                            A modern day fairy tale   \n",
       "\n",
       "                                         review_text  helpfulness  \\\n",
       "0  this witty little book makes my son laugh at l...          0.0   \n",
       "1  I can remember seeing the show when it aired o...          1.0   \n",
       "2  Beetlejuice is a well written movie ..... ever...          0.0   \n",
       "3  A twist of rumplestiskin captured on film, sta...          0.5   \n",
       "4  A twist of rumplestiskin captured on film, sta...          0.5   \n",
       "\n",
       "   len_review_text       usefulness sentiment  len_review_summary  \n",
       "0               74          useless  positive                   4  \n",
       "1               78      very useful  positive                  12  \n",
       "2               29          useless  positive                   2  \n",
       "3               36  moderate useful  positive                   5  \n",
       "4               36  moderate useful  positive                   5  "
      ]
     },
     "execution_count": 268,
     "metadata": {},
     "output_type": "execute_result"
    }
   ],
   "source": [
    "pos_df=df[df.score==5]\n",
    "pos_df.head()"
   ]
  },
  {
   "cell_type": "code",
   "execution_count": 271,
   "id": "5a9fe831",
   "metadata": {},
   "outputs": [
    {
     "data": {
      "text/plain": [
       "(Index(['Rebecca of Amazon \"The Rebecca Review\"', 'Gary Peterson',\n",
       "        'C. F. Hill \"CFH\"', 'Chris', 'O. Brown \"Ms. O. Khannah-Brown\"', 'Linda',\n",
       "        'John', 'Karen', 'Gunner', 'c2'],\n",
       "       dtype='object'),\n",
       " array([326, 286, 270, 237, 237, 195, 187, 185, 184, 172], dtype=int64))"
      ]
     },
     "execution_count": 271,
     "metadata": {},
     "output_type": "execute_result"
    }
   ],
   "source": [
    "person_with_most_pos_num_of_review,pos_reviews_count=pos_df.profile_name.value_counts()[:10].index,pos_df.profile_name.value_counts()[:10].values\n",
    "person_with_most_pos_num_of_review,pos_reviews_count"
   ]
  },
  {
   "cell_type": "code",
   "execution_count": 276,
   "id": "cb83c322",
   "metadata": {},
   "outputs": [
    {
     "data": {
      "text/plain": [
       "Text(0.5, 1.0, 'Top 10 person vs pos_reviews_count')"
      ]
     },
     "execution_count": 276,
     "metadata": {},
     "output_type": "execute_result"
    },
    {
     "data": {
      "image/png": "[encoded data removed]",
      "text/plain": [
       "<Figure size 720x720 with 1 Axes>"
      ]
     },
     "metadata": {
      "needs_background": "light"
     },
     "output_type": "display_data"
    }
   ],
   "source": [
    "plt.figure(figsize=(10,10))\n",
    "sns.barplot(y=person_with_most_pos_num_of_review,x=pos_reviews_count);\n",
    "plt.title('Top 10 person vs pos_reviews_count')"
   ]
  },
  {
   "cell_type": "markdown",
   "id": "677557ae",
   "metadata": {},
   "source": [
    "# products vs reviews count when score=5"
   ]
  },
  {
   "cell_type": "code",
   "execution_count": 275,
   "id": "adfe8804",
   "metadata": {},
   "outputs": [
    {
     "data": {
      "text/plain": [
       "B007JFMH8M    624\n",
       "B003B3OOPA    517\n",
       "B000NMJWZO    502\n",
       "B0026RQTGE    497\n",
       "B002QWP8H0    497\n",
       "             ... \n",
       "B004U3QX6I      1\n",
       "B001AN1CRQ      1\n",
       "B003AYEHVQ      1\n",
       "B003XQINIY      1\n",
       "B005C7R8HE      1\n",
       "Name: product_id, Length: 60718, dtype: int64"
      ]
     },
     "execution_count": 275,
     "metadata": {},
     "output_type": "execute_result"
    }
   ],
   "source": [
    "pos_df.product_id.value_counts()"
   ]
  },
  {
   "cell_type": "code",
   "execution_count": 281,
   "id": "6d9cc383",
   "metadata": {},
   "outputs": [
    {
     "data": {
      "text/plain": [
       "(Index(['B007JFMH8M', 'B003B3OOPA', 'B000NMJWZO', 'B0026RQTGE', 'B002QWP8H0',\n",
       "        'B002QWHJOU', 'B002QWP89S', 'B001EO5Q64', 'B000VK8AVK', 'B007M83302'],\n",
       "       dtype='object'),\n",
       " array([624, 517, 502, 497, 497, 497, 497, 474, 369, 369], dtype=int64))"
      ]
     },
     "execution_count": 281,
     "metadata": {},
     "output_type": "execute_result"
    }
   ],
   "source": [
    "product_with_most_pos_num_of_review,pos_reviews_count_product=pos_df.product_id.value_counts()[:10].index,pos_df.product_id.value_counts()[:10].values\n",
    "product_with_most_pos_num_of_review,pos_reviews_count_product"
   ]
  },
  {
   "cell_type": "code",
   "execution_count": 292,
   "id": "5cb57960",
   "metadata": {},
   "outputs": [
    {
     "data": {
      "image/png": "[encoded data removed]",
      "text/plain": [
       "<Figure size 720x720 with 1 Axes>"
      ]
     },
     "metadata": {
      "needs_background": "light"
     },
     "output_type": "display_data"
    }
   ],
   "source": [
    "plt.figure(figsize=(10,10))\n",
    "sns.barplot(y=product_with_most_pos_num_of_review,x=pos_reviews_count_product);\n",
    "plt.title('Top 10 product with positive reviews count');"
   ]
  },
  {
   "cell_type": "markdown",
   "id": "84afcc06",
   "metadata": {},
   "source": [
    "# top 10 person with number of negative reviews given by him/her"
   ]
  },
  {
   "cell_type": "code",
   "execution_count": 265,
   "id": "5471b44f",
   "metadata": {},
   "outputs": [
    {
     "data": {
      "text/html": [
       "<div>\n",
       "<style scoped>\n",
       "    .dataframe tbody tr th:only-of-type {\n",
       "        vertical-align: middle;\n",
       "    }\n",
       "\n",
       "    .dataframe tbody tr th {\n",
       "        vertical-align: top;\n",
       "    }\n",
       "\n",
       "    .dataframe thead th {\n",
       "        text-align: right;\n",
       "    }\n",
       "</style>\n",
       "<table border=\"1\" class=\"dataframe\">\n",
       "  <thead>\n",
       "    <tr style=\"text-align: right;\">\n",
       "      <th></th>\n",
       "      <th>product_id</th>\n",
       "      <th>user_id</th>\n",
       "      <th>profile_name</th>\n",
       "      <th>helpfulness_numerator</th>\n",
       "      <th>helpfulness_denominator</th>\n",
       "      <th>score</th>\n",
       "      <th>date</th>\n",
       "      <th>review_summary</th>\n",
       "      <th>review_text</th>\n",
       "      <th>helpfulness</th>\n",
       "      <th>len_review_text</th>\n",
       "      <th>usefulness</th>\n",
       "      <th>sentiment</th>\n",
       "      <th>len_review_summary</th>\n",
       "    </tr>\n",
       "  </thead>\n",
       "  <tbody>\n",
       "    <tr>\n",
       "      <th>10</th>\n",
       "      <td>B00004CXX9</td>\n",
       "      <td>A1B2IZU1JLZA6</td>\n",
       "      <td>Wes</td>\n",
       "      <td>19</td>\n",
       "      <td>23</td>\n",
       "      <td>1</td>\n",
       "      <td>2000-01-19</td>\n",
       "      <td>WARNING: CLAMSHELL EDITION IS EDITED TV VERSION</td>\n",
       "      <td>I, myself always enjoyed this movie, it's very...</td>\n",
       "      <td>0.826087</td>\n",
       "      <td>68</td>\n",
       "      <td>very useful</td>\n",
       "      <td>negative</td>\n",
       "      <td>7</td>\n",
       "    </tr>\n",
       "    <tr>\n",
       "      <th>11</th>\n",
       "      <td>B00004CI84</td>\n",
       "      <td>A1B2IZU1JLZA6</td>\n",
       "      <td>Wes</td>\n",
       "      <td>19</td>\n",
       "      <td>23</td>\n",
       "      <td>1</td>\n",
       "      <td>2000-01-19</td>\n",
       "      <td>WARNING: CLAMSHELL EDITION IS EDITED TV VERSION</td>\n",
       "      <td>I, myself always enjoyed this movie, it's very...</td>\n",
       "      <td>0.826087</td>\n",
       "      <td>68</td>\n",
       "      <td>very useful</td>\n",
       "      <td>negative</td>\n",
       "      <td>7</td>\n",
       "    </tr>\n",
       "    <tr>\n",
       "      <th>12</th>\n",
       "      <td>B00004RYGX</td>\n",
       "      <td>A1B2IZU1JLZA6</td>\n",
       "      <td>Wes</td>\n",
       "      <td>19</td>\n",
       "      <td>23</td>\n",
       "      <td>1</td>\n",
       "      <td>2000-01-19</td>\n",
       "      <td>WARNING: CLAMSHELL EDITION IS EDITED TV VERSION</td>\n",
       "      <td>I, myself always enjoyed this movie, it's very...</td>\n",
       "      <td>0.826087</td>\n",
       "      <td>68</td>\n",
       "      <td>very useful</td>\n",
       "      <td>negative</td>\n",
       "      <td>7</td>\n",
       "    </tr>\n",
       "    <tr>\n",
       "      <th>41</th>\n",
       "      <td>B00004RYGX</td>\n",
       "      <td>AZRJH4JFB59VC</td>\n",
       "      <td>Lynwood E. Hines</td>\n",
       "      <td>21</td>\n",
       "      <td>23</td>\n",
       "      <td>1</td>\n",
       "      <td>2001-08-08</td>\n",
       "      <td>Great movie, terrible DVD</td>\n",
       "      <td>I am continually amazed at the shoddy treatmen...</td>\n",
       "      <td>0.913043</td>\n",
       "      <td>138</td>\n",
       "      <td>very useful</td>\n",
       "      <td>negative</td>\n",
       "      <td>4</td>\n",
       "    </tr>\n",
       "    <tr>\n",
       "      <th>42</th>\n",
       "      <td>B00004CI84</td>\n",
       "      <td>AZRJH4JFB59VC</td>\n",
       "      <td>Lynwood E. Hines</td>\n",
       "      <td>21</td>\n",
       "      <td>23</td>\n",
       "      <td>1</td>\n",
       "      <td>2001-08-08</td>\n",
       "      <td>Great movie, terrible DVD</td>\n",
       "      <td>I am continually amazed at the shoddy treatmen...</td>\n",
       "      <td>0.913043</td>\n",
       "      <td>138</td>\n",
       "      <td>very useful</td>\n",
       "      <td>negative</td>\n",
       "      <td>4</td>\n",
       "    </tr>\n",
       "  </tbody>\n",
       "</table>\n",
       "</div>"
      ],
      "text/plain": [
       "    product_id        user_id      profile_name  helpfulness_numerator  \\\n",
       "10  B00004CXX9  A1B2IZU1JLZA6               Wes                     19   \n",
       "11  B00004CI84  A1B2IZU1JLZA6               Wes                     19   \n",
       "12  B00004RYGX  A1B2IZU1JLZA6               Wes                     19   \n",
       "41  B00004RYGX  AZRJH4JFB59VC  Lynwood E. Hines                     21   \n",
       "42  B00004CI84  AZRJH4JFB59VC  Lynwood E. Hines                     21   \n",
       "\n",
       "    helpfulness_denominator  score       date  \\\n",
       "10                       23      1 2000-01-19   \n",
       "11                       23      1 2000-01-19   \n",
       "12                       23      1 2000-01-19   \n",
       "41                       23      1 2001-08-08   \n",
       "42                       23      1 2001-08-08   \n",
       "\n",
       "                                     review_summary  \\\n",
       "10  WARNING: CLAMSHELL EDITION IS EDITED TV VERSION   \n",
       "11  WARNING: CLAMSHELL EDITION IS EDITED TV VERSION   \n",
       "12  WARNING: CLAMSHELL EDITION IS EDITED TV VERSION   \n",
       "41                        Great movie, terrible DVD   \n",
       "42                        Great movie, terrible DVD   \n",
       "\n",
       "                                          review_text  helpfulness  \\\n",
       "10  I, myself always enjoyed this movie, it's very...     0.826087   \n",
       "11  I, myself always enjoyed this movie, it's very...     0.826087   \n",
       "12  I, myself always enjoyed this movie, it's very...     0.826087   \n",
       "41  I am continually amazed at the shoddy treatmen...     0.913043   \n",
       "42  I am continually amazed at the shoddy treatmen...     0.913043   \n",
       "\n",
       "    len_review_text   usefulness sentiment  len_review_summary  \n",
       "10               68  very useful  negative                   7  \n",
       "11               68  very useful  negative                   7  \n",
       "12               68  very useful  negative                   7  \n",
       "41              138  very useful  negative                   4  \n",
       "42              138  very useful  negative                   4  "
      ]
     },
     "execution_count": 265,
     "metadata": {},
     "output_type": "execute_result"
    }
   ],
   "source": [
    "neg_df=df[df.score==1]\n",
    "neg_df.head()"
   ]
  },
  {
   "cell_type": "code",
   "execution_count": 291,
   "id": "5b8cb7d3",
   "metadata": {},
   "outputs": [
    {
     "data": {
      "text/html": [
       "<div>\n",
       "<style scoped>\n",
       "    .dataframe tbody tr th:only-of-type {\n",
       "        vertical-align: middle;\n",
       "    }\n",
       "\n",
       "    .dataframe tbody tr th {\n",
       "        vertical-align: top;\n",
       "    }\n",
       "\n",
       "    .dataframe thead th {\n",
       "        text-align: right;\n",
       "    }\n",
       "</style>\n",
       "<table border=\"1\" class=\"dataframe\">\n",
       "  <thead>\n",
       "    <tr style=\"text-align: right;\">\n",
       "      <th></th>\n",
       "      <th>product_id</th>\n",
       "      <th>user_id</th>\n",
       "      <th>profile_name</th>\n",
       "      <th>helpfulness_numerator</th>\n",
       "      <th>helpfulness_denominator</th>\n",
       "      <th>score</th>\n",
       "      <th>date</th>\n",
       "      <th>review_summary</th>\n",
       "      <th>review_text</th>\n",
       "      <th>helpfulness</th>\n",
       "      <th>len_review_text</th>\n",
       "      <th>usefulness</th>\n",
       "      <th>sentiment</th>\n",
       "      <th>len_review_summary</th>\n",
       "    </tr>\n",
       "  </thead>\n",
       "  <tbody>\n",
       "    <tr>\n",
       "      <th>197135</th>\n",
       "      <td>B003MA8P02</td>\n",
       "      <td>A3TVZM3ZIXG8YW</td>\n",
       "      <td>christopher hayes</td>\n",
       "      <td>19</td>\n",
       "      <td>21</td>\n",
       "      <td>1</td>\n",
       "      <td>2010-12-04</td>\n",
       "      <td>Filler food is empty, leaves your cat always n...</td>\n",
       "      <td>This review will make me sound really stupid, ...</td>\n",
       "      <td>0.904762</td>\n",
       "      <td>864</td>\n",
       "      <td>very useful</td>\n",
       "      <td>negative</td>\n",
       "      <td>10</td>\n",
       "    </tr>\n",
       "    <tr>\n",
       "      <th>197136</th>\n",
       "      <td>B009GHI5Q4</td>\n",
       "      <td>A3TVZM3ZIXG8YW</td>\n",
       "      <td>christopher hayes</td>\n",
       "      <td>3</td>\n",
       "      <td>3</td>\n",
       "      <td>1</td>\n",
       "      <td>2010-12-04</td>\n",
       "      <td>Filler food is empty, leaves your cat always n...</td>\n",
       "      <td>This review will make me sound really stupid, ...</td>\n",
       "      <td>1.000000</td>\n",
       "      <td>864</td>\n",
       "      <td>very useful</td>\n",
       "      <td>negative</td>\n",
       "      <td>10</td>\n",
       "    </tr>\n",
       "    <tr>\n",
       "      <th>197140</th>\n",
       "      <td>B003M5TG28</td>\n",
       "      <td>A3TVZM3ZIXG8YW</td>\n",
       "      <td>christopher hayes</td>\n",
       "      <td>3</td>\n",
       "      <td>3</td>\n",
       "      <td>1</td>\n",
       "      <td>2010-12-04</td>\n",
       "      <td>Filler food is empty, leaves your cat always n...</td>\n",
       "      <td>This review will make me sound really stupid, ...</td>\n",
       "      <td>1.000000</td>\n",
       "      <td>864</td>\n",
       "      <td>very useful</td>\n",
       "      <td>negative</td>\n",
       "      <td>10</td>\n",
       "    </tr>\n",
       "    <tr>\n",
       "      <th>197142</th>\n",
       "      <td>B0006345PW</td>\n",
       "      <td>A3TVZM3ZIXG8YW</td>\n",
       "      <td>christopher hayes</td>\n",
       "      <td>19</td>\n",
       "      <td>21</td>\n",
       "      <td>1</td>\n",
       "      <td>2010-12-04</td>\n",
       "      <td>Filler food is empty, leaves your cat always n...</td>\n",
       "      <td>This review will make me sound really stupid, ...</td>\n",
       "      <td>0.904762</td>\n",
       "      <td>864</td>\n",
       "      <td>very useful</td>\n",
       "      <td>negative</td>\n",
       "      <td>10</td>\n",
       "    </tr>\n",
       "    <tr>\n",
       "      <th>197143</th>\n",
       "      <td>B009GHI5Q4</td>\n",
       "      <td>A3TVZM3ZIXG8YW</td>\n",
       "      <td>christopher hayes</td>\n",
       "      <td>7</td>\n",
       "      <td>9</td>\n",
       "      <td>1</td>\n",
       "      <td>2010-12-04</td>\n",
       "      <td>Filler food is empty, leaves your cat always n...</td>\n",
       "      <td>This review will make me sound really stupid, ...</td>\n",
       "      <td>0.777778</td>\n",
       "      <td>864</td>\n",
       "      <td>very useful</td>\n",
       "      <td>negative</td>\n",
       "      <td>10</td>\n",
       "    </tr>\n",
       "    <tr>\n",
       "      <th>...</th>\n",
       "      <td>...</td>\n",
       "      <td>...</td>\n",
       "      <td>...</td>\n",
       "      <td>...</td>\n",
       "      <td>...</td>\n",
       "      <td>...</td>\n",
       "      <td>...</td>\n",
       "      <td>...</td>\n",
       "      <td>...</td>\n",
       "      <td>...</td>\n",
       "      <td>...</td>\n",
       "      <td>...</td>\n",
       "      <td>...</td>\n",
       "      <td>...</td>\n",
       "    </tr>\n",
       "    <tr>\n",
       "      <th>197633</th>\n",
       "      <td>B000633QVG</td>\n",
       "      <td>A3TVZM3ZIXG8YW</td>\n",
       "      <td>christopher hayes</td>\n",
       "      <td>0</td>\n",
       "      <td>2</td>\n",
       "      <td>1</td>\n",
       "      <td>2010-12-04</td>\n",
       "      <td>Filler food is empty, leaves your cat always n...</td>\n",
       "      <td>This review will make me sound really stupid, ...</td>\n",
       "      <td>0.000000</td>\n",
       "      <td>864</td>\n",
       "      <td>useless</td>\n",
       "      <td>negative</td>\n",
       "      <td>10</td>\n",
       "    </tr>\n",
       "    <tr>\n",
       "      <th>197635</th>\n",
       "      <td>B003M60K54</td>\n",
       "      <td>A3TVZM3ZIXG8YW</td>\n",
       "      <td>christopher hayes</td>\n",
       "      <td>19</td>\n",
       "      <td>21</td>\n",
       "      <td>1</td>\n",
       "      <td>2010-12-04</td>\n",
       "      <td>Filler food is empty, leaves your cat always n...</td>\n",
       "      <td>This review will make me sound really stupid, ...</td>\n",
       "      <td>0.904762</td>\n",
       "      <td>864</td>\n",
       "      <td>very useful</td>\n",
       "      <td>negative</td>\n",
       "      <td>10</td>\n",
       "    </tr>\n",
       "    <tr>\n",
       "      <th>197637</th>\n",
       "      <td>B003MWBFMK</td>\n",
       "      <td>A3TVZM3ZIXG8YW</td>\n",
       "      <td>christopher hayes</td>\n",
       "      <td>2</td>\n",
       "      <td>4</td>\n",
       "      <td>1</td>\n",
       "      <td>2010-12-04</td>\n",
       "      <td>Filler food is empty, leaves your cat always n...</td>\n",
       "      <td>This review will make me sound really stupid, ...</td>\n",
       "      <td>0.500000</td>\n",
       "      <td>864</td>\n",
       "      <td>moderate useful</td>\n",
       "      <td>negative</td>\n",
       "      <td>10</td>\n",
       "    </tr>\n",
       "    <tr>\n",
       "      <th>197638</th>\n",
       "      <td>B003ANFMY8</td>\n",
       "      <td>A3TVZM3ZIXG8YW</td>\n",
       "      <td>christopher hayes</td>\n",
       "      <td>19</td>\n",
       "      <td>21</td>\n",
       "      <td>1</td>\n",
       "      <td>2010-12-04</td>\n",
       "      <td>Filler food is empty, leaves your cat always n...</td>\n",
       "      <td>This review will make me sound really stupid, ...</td>\n",
       "      <td>0.904762</td>\n",
       "      <td>864</td>\n",
       "      <td>very useful</td>\n",
       "      <td>negative</td>\n",
       "      <td>10</td>\n",
       "    </tr>\n",
       "    <tr>\n",
       "      <th>197639</th>\n",
       "      <td>B0002MLA5K</td>\n",
       "      <td>A3TVZM3ZIXG8YW</td>\n",
       "      <td>christopher hayes</td>\n",
       "      <td>7</td>\n",
       "      <td>9</td>\n",
       "      <td>1</td>\n",
       "      <td>2010-12-04</td>\n",
       "      <td>Filler food is empty, leaves your cat always n...</td>\n",
       "      <td>This review will make me sound really stupid, ...</td>\n",
       "      <td>0.777778</td>\n",
       "      <td>864</td>\n",
       "      <td>very useful</td>\n",
       "      <td>negative</td>\n",
       "      <td>10</td>\n",
       "    </tr>\n",
       "  </tbody>\n",
       "</table>\n",
       "<p>182 rows × 14 columns</p>\n",
       "</div>"
      ],
      "text/plain": [
       "        product_id         user_id       profile_name  helpfulness_numerator  \\\n",
       "197135  B003MA8P02  A3TVZM3ZIXG8YW  christopher hayes                     19   \n",
       "197136  B009GHI5Q4  A3TVZM3ZIXG8YW  christopher hayes                      3   \n",
       "197140  B003M5TG28  A3TVZM3ZIXG8YW  christopher hayes                      3   \n",
       "197142  B0006345PW  A3TVZM3ZIXG8YW  christopher hayes                     19   \n",
       "197143  B009GHI5Q4  A3TVZM3ZIXG8YW  christopher hayes                      7   \n",
       "...            ...             ...                ...                    ...   \n",
       "197633  B000633QVG  A3TVZM3ZIXG8YW  christopher hayes                      0   \n",
       "197635  B003M60K54  A3TVZM3ZIXG8YW  christopher hayes                     19   \n",
       "197637  B003MWBFMK  A3TVZM3ZIXG8YW  christopher hayes                      2   \n",
       "197638  B003ANFMY8  A3TVZM3ZIXG8YW  christopher hayes                     19   \n",
       "197639  B0002MLA5K  A3TVZM3ZIXG8YW  christopher hayes                      7   \n",
       "\n",
       "        helpfulness_denominator  score       date  \\\n",
       "197135                       21      1 2010-12-04   \n",
       "197136                        3      1 2010-12-04   \n",
       "197140                        3      1 2010-12-04   \n",
       "197142                       21      1 2010-12-04   \n",
       "197143                        9      1 2010-12-04   \n",
       "...                         ...    ...        ...   \n",
       "197633                        2      1 2010-12-04   \n",
       "197635                       21      1 2010-12-04   \n",
       "197637                        4      1 2010-12-04   \n",
       "197638                       21      1 2010-12-04   \n",
       "197639                        9      1 2010-12-04   \n",
       "\n",
       "                                           review_summary  \\\n",
       "197135  Filler food is empty, leaves your cat always n...   \n",
       "197136  Filler food is empty, leaves your cat always n...   \n",
       "197140  Filler food is empty, leaves your cat always n...   \n",
       "197142  Filler food is empty, leaves your cat always n...   \n",
       "197143  Filler food is empty, leaves your cat always n...   \n",
       "...                                                   ...   \n",
       "197633  Filler food is empty, leaves your cat always n...   \n",
       "197635  Filler food is empty, leaves your cat always n...   \n",
       "197637  Filler food is empty, leaves your cat always n...   \n",
       "197638  Filler food is empty, leaves your cat always n...   \n",
       "197639  Filler food is empty, leaves your cat always n...   \n",
       "\n",
       "                                              review_text  helpfulness  \\\n",
       "197135  This review will make me sound really stupid, ...     0.904762   \n",
       "197136  This review will make me sound really stupid, ...     1.000000   \n",
       "197140  This review will make me sound really stupid, ...     1.000000   \n",
       "197142  This review will make me sound really stupid, ...     0.904762   \n",
       "197143  This review will make me sound really stupid, ...     0.777778   \n",
       "...                                                   ...          ...   \n",
       "197633  This review will make me sound really stupid, ...     0.000000   \n",
       "197635  This review will make me sound really stupid, ...     0.904762   \n",
       "197637  This review will make me sound really stupid, ...     0.500000   \n",
       "197638  This review will make me sound really stupid, ...     0.904762   \n",
       "197639  This review will make me sound really stupid, ...     0.777778   \n",
       "\n",
       "        len_review_text       usefulness sentiment  len_review_summary  \n",
       "197135              864      very useful  negative                  10  \n",
       "197136              864      very useful  negative                  10  \n",
       "197140              864      very useful  negative                  10  \n",
       "197142              864      very useful  negative                  10  \n",
       "197143              864      very useful  negative                  10  \n",
       "...                 ...              ...       ...                 ...  \n",
       "197633              864          useless  negative                  10  \n",
       "197635              864      very useful  negative                  10  \n",
       "197637              864  moderate useful  negative                  10  \n",
       "197638              864      very useful  negative                  10  \n",
       "197639              864      very useful  negative                  10  \n",
       "\n",
       "[182 rows x 14 columns]"
      ]
     },
     "execution_count": 291,
     "metadata": {},
     "output_type": "execute_result"
    }
   ],
   "source": [
    "df[df.profile_name=='christopher hayes']"
   ]
  },
  {
   "cell_type": "code",
   "execution_count": 266,
   "id": "cacb3ebe",
   "metadata": {},
   "outputs": [
    {
     "data": {
      "text/plain": [
       "(Index(['christopher hayes', 'BreezyPaige', 'Amanda', 'Linda', 'Disappointed',\n",
       "        'Chris', 'Ryan Johnson', 'David', 'Bigmac', 'Joe MacBu'],\n",
       "       dtype='object'),\n",
       " array([182,  65,  55,  47,  44,  42,  42,  41,  39,  38], dtype=int64))"
      ]
     },
     "execution_count": 266,
     "metadata": {},
     "output_type": "execute_result"
    }
   ],
   "source": [
    "person_with_most_neg_num_of_review,neg_reviews_count=neg_df.profile_name.value_counts()[:10].index,neg_df.profile_name.value_counts()[:10].values\n",
    "person_with_most_neg_num_of_review,neg_reviews_count"
   ]
  },
  {
   "cell_type": "code",
   "execution_count": 267,
   "id": "ec6fb1c3",
   "metadata": {},
   "outputs": [
    {
     "data": {
      "text/plain": [
       "Text(0.5, 1.0, 'Top 10 person vs neg_reviews_count')"
      ]
     },
     "execution_count": 267,
     "metadata": {},
     "output_type": "execute_result"
    },
    {
     "data": {
      "image/png": "[encoded data removed]",
      "text/plain": [
       "<Figure size 720x720 with 1 Axes>"
      ]
     },
     "metadata": {
      "needs_background": "light"
     },
     "output_type": "display_data"
    }
   ],
   "source": [
    "plt.figure(figsize=(10,10))\n",
    "sns.barplot(y=person_with_most_neg_num_of_review,x=neg_reviews_count);\n",
    "plt.title('Top 10 person vs neg_reviews_count')"
   ]
  },
  {
   "cell_type": "markdown",
   "id": "0dab874f",
   "metadata": {},
   "source": [
    "# distribution of number of reviews is right tailed"
   ]
  },
  {
   "cell_type": "code",
   "execution_count": 252,
   "id": "8d530904",
   "metadata": {},
   "outputs": [
    {
     "data": {
      "image/png": "[encoded data removed]",
      "text/plain": [
       "<Figure size 720x720 with 1 Axes>"
      ]
     },
     "metadata": {
      "needs_background": "light"
     },
     "output_type": "display_data"
    }
   ],
   "source": [
    "plt.figure(figsize=(10,10))\n",
    "sns.kdeplot(x=df.profile_name.value_counts().values);"
   ]
  },
  {
   "cell_type": "markdown",
   "id": "b79a3962",
   "metadata": {},
   "source": [
    "# most reviews recevied from customer name"
   ]
  },
  {
   "cell_type": "code",
   "execution_count": 247,
   "id": "78d23aa4",
   "metadata": {},
   "outputs": [
    {
     "data": {
      "text/plain": [
       "(Index(['C. F. Hill \"CFH\"', 'O. Brown \"Ms. O. Khannah-Brown\"', 'Gary Peterson',\n",
       "        'Rebecca of Amazon \"The Rebecca Review\"', 'Chris', 'Linda', 'John',\n",
       "        'Mike', 'c2', 'Laura'],\n",
       "       dtype='object'),\n",
       " array([450, 418, 389, 365, 363, 290, 261, 260, 256, 253], dtype=int64))"
      ]
     },
     "execution_count": 247,
     "metadata": {},
     "output_type": "execute_result"
    }
   ],
   "source": [
    "person_with_most_num_of_review,reviews_count=df.profile_name.value_counts()[:10].index,df.profile_name.value_counts()[:10].values\n",
    "person_with_most_num_of_review,reviews_count"
   ]
  },
  {
   "cell_type": "code",
   "execution_count": 251,
   "id": "8b7c55cd",
   "metadata": {},
   "outputs": [
    {
     "data": {
      "text/plain": [
       "Text(0.5, 1.0, 'Top 10 person vs reviews_count')"
      ]
     },
     "execution_count": 251,
     "metadata": {},
     "output_type": "execute_result"
    },
    {
     "data": {
      "image/png": "[encoded data removed]",
      "text/plain": [
       "<Figure size 720x720 with 1 Axes>"
      ]
     },
     "metadata": {
      "needs_background": "light"
     },
     "output_type": "display_data"
    }
   ],
   "source": [
    "plt.figure(figsize=(10,10))\n",
    "sns.barplot(y=person_with_most_num_of_review,x=reviews_count);\n",
    "plt.title('Top 10 person vs reviews_count')"
   ]
  },
  {
   "cell_type": "markdown",
   "id": "aad6220b",
   "metadata": {},
   "source": [
    "# top most frequent words of review_text "
   ]
  },
  {
   "cell_type": "code",
   "execution_count": 224,
   "id": "d5cb25be",
   "metadata": {},
   "outputs": [
    {
     "name": "stdout",
     "output_type": "stream",
     "text": [
      "45579027 ['this', 'witty', 'little', 'book', 'makes', 'my', 'son', 'laugh', 'at', 'loud.', 'i', 'recite', 'it', 'in', 'the', 'car', 'as', \"we're\", 'driving', 'along', 'and', 'he', 'always', 'can', 'sing', 'the', 'refrain.', \"he's\", 'learned', 'about', 'whales,', 'India,', 'drooping', 'roses:', 'i', 'love', 'all', 'the', 'new', 'words', 'this', 'book', 'introduces', 'and', 'the', 'silliness', 'of', 'it', 'all.', 'this'] 586931\n"
     ]
    }
   ],
   "source": [
    "all_words = []\n",
    "for t in df['review_text']:\n",
    "    all_words.extend(t.split())\n",
    "set_all_words = set(all_words)\n",
    "print(len(all_words),all_words[:50],len(set_all_words))"
   ]
  },
  {
   "cell_type": "code",
   "execution_count": 225,
   "id": "a0b8f79e",
   "metadata": {},
   "outputs": [
    {
     "data": {
      "image/png": "[encoded data removed]",
      "text/plain": [
       "<Figure size 864x360 with 1 Axes>"
      ]
     },
     "metadata": {
      "needs_background": "light"
     },
     "output_type": "display_data"
    }
   ],
   "source": [
    "#Frequency Distribution\n",
    "freq_dist = nltk.FreqDist(all_words)\n",
    "\n",
    "plt.figure(figsize=(12,5))\n",
    "plt.title('Top 25 most common words')\n",
    "plt.xticks(fontsize=15)\n",
    "\n",
    "freq_dist.plot(25, cumulative=False)\n",
    "\n",
    "plt.show()"
   ]
  },
  {
   "cell_type": "markdown",
   "id": "db4b1e99",
   "metadata": {},
   "source": [
    "# top most frequent words of review_summary"
   ]
  },
  {
   "cell_type": "code",
   "execution_count": 226,
   "id": "e5911149",
   "metadata": {},
   "outputs": [
    {
     "name": "stdout",
     "output_type": "stream",
     "text": [
      "2336774 ['EVERY', 'book', 'is', 'educational', 'This', 'whole', 'series', 'is', 'great', 'way', 'to', 'spend', 'time', 'with', 'your', 'child', 'Entertainingl', 'Funny!', 'A', 'modern', 'day', 'fairy', 'tale', 'A', 'modern', 'day', 'fairy', 'tale', 'A', 'modern', 'day', 'fairy', 'tale', 'FANTASTIC!', 'GREAT', 'GREAT', 'GREAT', 'WARNING:', 'CLAMSHELL', 'EDITION', 'IS', 'EDITED', 'TV', 'VERSION', 'WARNING:', 'CLAMSHELL', 'EDITION', 'IS', 'EDITED', 'TV'] 104043\n"
     ]
    }
   ],
   "source": [
    "all_words_summ = []\n",
    "for t in df['review_summary']:\n",
    "    all_words_summ.extend(t.split())\n",
    "set_all_words_summ = set(all_words_summ)\n",
    "print(len(all_words_summ),all_words_summ[:50],len(set_all_words_summ))"
   ]
  },
  {
   "cell_type": "code",
   "execution_count": 227,
   "id": "98ea2314",
   "metadata": {},
   "outputs": [
    {
     "data": {
      "image/png": "[encoded data removed]",
      "text/plain": [
       "<Figure size 864x360 with 1 Axes>"
      ]
     },
     "metadata": {
      "needs_background": "light"
     },
     "output_type": "display_data"
    }
   ],
   "source": [
    "freq_dist = nltk.FreqDist(all_words_summ)\n",
    "\n",
    "plt.figure(figsize=(12,5))\n",
    "plt.title('Top 25 most common words')\n",
    "plt.xticks(fontsize=15)\n",
    "\n",
    "freq_dist.plot(25, cumulative=False)\n",
    "\n",
    "plt.show()"
   ]
  },
  {
   "cell_type": "markdown",
   "id": "1a027a29",
   "metadata": {},
   "source": [
    "# even useless data has score range of 1 to 4"
   ]
  },
  {
   "cell_type": "code",
   "execution_count": 229,
   "id": "048c23dd",
   "metadata": {},
   "outputs": [
    {
     "data": {
      "image/png": "[encoded data removed]",
      "text/plain": [
       "<Figure size 720x720 with 1 Axes>"
      ]
     },
     "metadata": {
      "needs_background": "light"
     },
     "output_type": "display_data"
    }
   ],
   "source": [
    "plt.figure(figsize=(10,10))\n",
    "sns.barplot(y=df.score,x=df.usefulness);"
   ]
  },
  {
   "cell_type": "markdown",
   "id": "e6e5a325",
   "metadata": {},
   "source": [
    "# data not equally distributed"
   ]
  },
  {
   "cell_type": "code",
   "execution_count": 256,
   "id": "abfda1d0",
   "metadata": {},
   "outputs": [
    {
     "data": {
      "image/png": "[encoded data removed]",
      "text/plain": [
       "<Figure size 432x432 with 1 Axes>"
      ]
     },
     "metadata": {
      "needs_background": "light"
     },
     "output_type": "display_data"
    }
   ],
   "source": [
    "plt.figure(figsize=(6,6))\n",
    "sns.countplot(x=df.usefulness);"
   ]
  },
  {
   "cell_type": "code",
   "execution_count": 293,
   "id": "3ed6d200",
   "metadata": {},
   "outputs": [],
   "source": [
    "# plt.figure(figsize=(6,6))\n",
    "#sns.countplot(x=df.usefulness[df.usefulness!='useless']);"
   ]
  },
  {
   "cell_type": "markdown",
   "id": "627a7d40",
   "metadata": {},
   "source": [
    "# frequency of score 5 that is positive revivew is alot more than negative reviews "
   ]
  },
  {
   "cell_type": "code",
   "execution_count": 257,
   "id": "880d5e6c",
   "metadata": {},
   "outputs": [
    {
     "data": {
      "image/png": "[encoded data removed]",
      "text/plain": [
       "<Figure size 432x432 with 1 Axes>"
      ]
     },
     "metadata": {
      "needs_background": "light"
     },
     "output_type": "display_data"
    }
   ],
   "source": [
    "plt.figure(figsize=(6,6))\n",
    "sns.countplot(x=df.score);"
   ]
  },
  {
   "cell_type": "markdown",
   "id": "3a068aa8",
   "metadata": {},
   "source": [
    "# number of reviews evrey year are exponentially increasing "
   ]
  },
  {
   "cell_type": "code",
   "execution_count": 35,
   "id": "e7f2d265",
   "metadata": {},
   "outputs": [
    {
     "data": {
      "image/png": "[encoded data removed]",
      "text/plain": [
       "<Figure size 720x720 with 1 Axes>"
      ]
     },
     "metadata": {
      "needs_background": "light"
     },
     "output_type": "display_data"
    }
   ],
   "source": [
    "cnt = df.date.dt.year.value_counts()\n",
    "cnt = cnt.sort_index()\n",
    "plt.figure(figsize=(10,10))\n",
    "sns.barplot(cnt.index, cnt.values)\n",
    "plt.title('Reviews per year');"
   ]
  },
  {
   "cell_type": "markdown",
   "id": "ef0fd6ca",
   "metadata": {},
   "source": [
    "# on an average of 4000+ reviews are posted every month"
   ]
  },
  {
   "cell_type": "code",
   "execution_count": 36,
   "id": "265d0cd1",
   "metadata": {},
   "outputs": [
    {
     "data": {
      "image/png": "[encoded data removed]",
      "text/plain": [
       "<Figure size 720x720 with 1 Axes>"
      ]
     },
     "metadata": {
      "needs_background": "light"
     },
     "output_type": "display_data"
    }
   ],
   "source": [
    "cnt = df.date.dt.month.value_counts()\n",
    "cnt = cnt.sort_index()\n",
    "plt.figure(figsize=(10,10))\n",
    "sns.barplot(cnt.index, cnt.values)\n",
    "plt.title('Reviews per month');"
   ]
  },
  {
   "cell_type": "code",
   "execution_count": 37,
   "id": "529a078d",
   "metadata": {},
   "outputs": [],
   "source": [
    "# cnt = df.date.dt.day.value_counts()\n",
    "# cnt = cnt.sort_index()\n",
    "# plt.figure(figsize=(10,10))\n",
    "# sns.barplot(cnt.index, cnt.values)\n",
    "# plt.title('Reviews per day');"
   ]
  },
  {
   "cell_type": "markdown",
   "id": "3fae1c2a",
   "metadata": {},
   "source": [
    "# good reviews are overwhelmingly beating negative and neutral reviews"
   ]
  },
  {
   "cell_type": "code",
   "execution_count": 258,
   "id": "a6ae7adb",
   "metadata": {},
   "outputs": [
    {
     "data": {
      "image/png": "[encoded data removed]",
      "text/plain": [
       "<Figure size 432x432 with 1 Axes>"
      ]
     },
     "metadata": {
      "needs_background": "light"
     },
     "output_type": "display_data"
    }
   ],
   "source": [
    "plt.figure(figsize=(6,6))\n",
    "sns.countplot(x=df.sentiment);\n",
    "plt.title('Sentiment based on score');"
   ]
  },
  {
   "cell_type": "markdown",
   "id": "c28a880c",
   "metadata": {},
   "source": [
    "# heatmap"
   ]
  },
  {
   "cell_type": "code",
   "execution_count": 294,
   "id": "626d5128",
   "metadata": {},
   "outputs": [
    {
     "data": {
      "image/png": "[encoded data removed]",
      "text/plain": [
       "<Figure size 504x432 with 2 Axes>"
      ]
     },
     "metadata": {
      "needs_background": "light"
     },
     "output_type": "display_data"
    }
   ],
   "source": [
    "plt.figure(figsize=(7,6))\n",
    "sns.heatmap(df.corr(),annot=True);"
   ]
  },
  {
   "cell_type": "markdown",
   "id": "c39b75dd",
   "metadata": {},
   "source": [
    "# from above graph score and helpfulness has positive very weak relationship"
   ]
  },
  {
   "cell_type": "code",
   "execution_count": 299,
   "id": "42d2e26c",
   "metadata": {},
   "outputs": [
    {
     "data": {
      "image/png": "[encoded data removed]",
      "text/plain": [
       "<Figure size 432x288 with 1 Axes>"
      ]
     },
     "metadata": {
      "needs_background": "light"
     },
     "output_type": "display_data"
    }
   ],
   "source": [
    "sns.barplot(y=df.len_review_text,x=df.score);"
   ]
  },
  {
   "cell_type": "markdown",
   "id": "e0d61d80",
   "metadata": {},
   "source": [
    "# sentiment vs len of review text"
   ]
  },
  {
   "cell_type": "code",
   "execution_count": 300,
   "id": "b2901588",
   "metadata": {},
   "outputs": [
    {
     "data": {
      "image/png": "[encoded data removed]",
      "text/plain": [
       "<Figure size 432x288 with 1 Axes>"
      ]
     },
     "metadata": {
      "needs_background": "light"
     },
     "output_type": "display_data"
    }
   ],
   "source": [
    "sns.barplot(y=df.len_review_text,x=df.sentiment);"
   ]
  },
  {
   "cell_type": "code",
   "execution_count": 301,
   "id": "cb7caa42",
   "metadata": {},
   "outputs": [
    {
     "data": {
      "image/png": "[encoded data removed]",
      "text/plain": [
       "<Figure size 432x288 with 1 Axes>"
      ]
     },
     "metadata": {
      "needs_background": "light"
     },
     "output_type": "display_data"
    }
   ],
   "source": [
    "sns.barplot(y=df.len_review_summary,x=df.score);"
   ]
  },
  {
   "cell_type": "code",
   "execution_count": 304,
   "id": "9238301e",
   "metadata": {},
   "outputs": [
    {
     "data": {
      "image/png": "[encoded data removed]",
      "text/plain": [
       "<Figure size 432x288 with 1 Axes>"
      ]
     },
     "metadata": {
      "needs_background": "light"
     },
     "output_type": "display_data"
    }
   ],
   "source": [
    "sns.barplot(y=df.len_review_summary,x=df.sentiment);"
   ]
  },
  {
   "cell_type": "code",
   "execution_count": 306,
   "id": "2c73cf0a",
   "metadata": {},
   "outputs": [
    {
     "data": {
      "image/png": "[encoded data removed]",
      "text/plain": [
       "<Figure size 432x288 with 1 Axes>"
      ]
     },
     "metadata": {
      "needs_background": "light"
     },
     "output_type": "display_data"
    }
   ],
   "source": [
    "sns.barplot(y=df.len_review_summary,x=df.usefulness);"
   ]
  },
  {
   "cell_type": "code",
   "execution_count": 307,
   "id": "83b4fcf3",
   "metadata": {},
   "outputs": [
    {
     "data": {
      "image/png": "[encoded data removed]",
      "text/plain": [
       "<Figure size 432x288 with 1 Axes>"
      ]
     },
     "metadata": {
      "needs_background": "light"
     },
     "output_type": "display_data"
    }
   ],
   "source": [
    "sns.barplot(y=df.len_review_text,x=df.usefulness);"
   ]
  },
  {
   "cell_type": "markdown",
   "id": "5b33593e",
   "metadata": {},
   "source": [
    "# chi saqure testing"
   ]
  },
  {
   "cell_type": "code",
   "execution_count": 40,
   "id": "8240542f",
   "metadata": {},
   "outputs": [
    {
     "name": "stdout",
     "output_type": "stream",
     "text": [
      "contingency_table :\n",
      " score                                               1  2  3  4  5\n",
      "review_text                                                      \n",
      "! think I just ruined my dish. open this and po...  1  0  0  0  0\n",
      "!!! PRODUCT HAS NOTHING TO DO WITH MARVEL!!! FA...  1  0  0  0  0\n",
      "!!!<br />Animal digest? She does that on her ow...  0  0  1  0  0\n",
      "!!HEY, these are BIG! There are actually two ca...  0  0  0  0  1\n",
      "\"  WITH  \" ... Olive Oil.  What does this mean?...  0  0  1  0  0\n",
      "...                                                .. .. .. .. ..\n",
      "~<br /><br />These are sooooooooooooooooooooooo...  0  0  0  0  1\n",
      "~<br />This is a `3 for the price of 1' review ...  0  0  0  1  0\n",
      "~<br />This would be a great coffee drink to gr...  0  0  1  0  0\n",
      "~Earth's Best Infant Formula Soy Iron, 13.2-Oun...  0  0  0  0  1\n",
      "~Taste..... I was expecting it to taste pretty ...  0  1  0  0  0\n",
      "\n",
      "[393565 rows x 5 columns]\n"
     ]
    }
   ],
   "source": [
    "ct_table_ind=pd.crosstab(df[\"review_text\"],df[\"score\"])\n",
    "print('contingency_table :\\n',ct_table_ind)"
   ]
  },
  {
   "cell_type": "code",
   "execution_count": 41,
   "id": "2b786e33",
   "metadata": {},
   "outputs": [
    {
     "name": "stdout",
     "output_type": "stream",
     "text": [
      "chi2 statistic:     2.2715e+06\n",
      "p-value:            0\n",
      "degrees of freedom: 1574256\n"
     ]
    }
   ],
   "source": [
    "chi2_stat, p, dof, expected = scipy.stats.chi2_contingency(ct_table_ind)\n",
    " \n",
    "print(f\"chi2 statistic:     {chi2_stat:.5g}\")\n",
    "print(f\"p-value:            {p:.5g}\")\n",
    "print(f\"degrees of freedom: {dof}\")\n",
    "# print(\"expected frequencies:\\n\",expected)"
   ]
  },
  {
   "cell_type": "code",
   "execution_count": 42,
   "id": "4b08971c",
   "metadata": {},
   "outputs": [
    {
     "name": "stdout",
     "output_type": "stream",
     "text": [
      "contingency_table :\n",
      " score                                               1  2  3  4  5\n",
      "review_summary                                                   \n",
      "! It's HOT !                                        0  0  0  0  1\n",
      "! Mmmmmmmmmm !                                      0  0  0  0  6\n",
      "! WARNING !  Not for those who can't handle the...  0  0  0  0  1\n",
      "!! NASTY !!                                         1  0  0  0  0\n",
      "!!!                                                 0  0  0  0  1\n",
      "...                                                .. .. .. .. ..\n",
      "~~~TRIO OF ALL TIME FAVORITES~~~                    0  0  0  0  1\n",
      "Â«:::D:::Â» Â«:::E:::Â» Â«:::L:::Â» Â«:::I:::Â»...  0  0  0  0  1\n",
      "Â«:::G:::Â» Â«:::R:::Â» Â«:::E:::Â» Â«:::A:::Â»...  0  0  0  0  1\n",
      "Â½ pounds, not 1.5                                  0  0  1  0  0\n",
      "Ã",
      "wesome Coffee!!!                                  0  0  0  0  1\n",
      "\n",
      "[295736 rows x 5 columns]\n"
     ]
    }
   ],
   "source": [
    "ct_table_ind=pd.crosstab(df[\"review_summary\"],df[\"score\"])\n",
    "print('contingency_table :\\n',ct_table_ind)"
   ]
  },
  {
   "cell_type": "code",
   "execution_count": 43,
   "id": "04be04b9",
   "metadata": {},
   "outputs": [
    {
     "name": "stdout",
     "output_type": "stream",
     "text": [
      "chi2 statistic:     2.0068e+06\n",
      "p-value:            0\n",
      "degrees of freedom: 1182940\n"
     ]
    }
   ],
   "source": [
    "chi2_stat, p, dof, expected = scipy.stats.chi2_contingency(ct_table_ind)\n",
    " \n",
    "print(f\"chi2 statistic:     {chi2_stat:.5g}\")\n",
    "print(f\"p-value:            {p:.5g}\")\n",
    "print(f\"degrees of freedom: {dof}\")\n",
    "# print(\"expected frequencies:\\n\",expected)"
   ]
  },
  {
   "cell_type": "markdown",
   "id": "ef1d5cbd",
   "metadata": {},
   "source": [
    "# Conclusion"
   ]
  },
  {
   "cell_type": "code",
   "execution_count": null,
   "id": "2f44c604",
   "metadata": {},
   "outputs": [],
   "source": [
    "# the created data frame justify all the synopsis mentioned in given project[date,number of user vs reviews etc]\n",
    "# score has almost zero impact on helpfulness\n",
    "# # 'Rebecca of Amazon \"The Rebecca Review\"' gave most number of positive reviews\n",
    "# 'B007JFMH8M' has most number of positive reviews\n",
    "# 'christopher hayes' gave 182 reviews where all the reviews are negative\n",
    "# 'C. F. Hill \"CFH\"' has most number of reviews given\n",
    "# frequency of score 5 that is positive revivew is alot more than negative reviews\n",
    "# positive reviews has lesser number of text compare to other\n",
    "# longer text reviews doesn't always convey positivity / helpfulness\n",
    "# every year number of reviews are higher than the previous year\n",
    "# around 4000+ reviews got posted every month and september and october got highest number of reviews"
   ]
  },
  {
   "cell_type": "code",
   "execution_count": null,
   "id": "eba8e796",
   "metadata": {},
   "outputs": [],
   "source": []
  }
 ],
 "metadata": {
  "kernelspec": {
   "display_name": "Python 3 (ipykernel)",
   "language": "python",
   "name": "python3"
  },
  "language_info": {
   "codemirror_mode": {
    "name": "ipython",
    "version": 3
   },
   "file_extension": ".py",
   "mimetype": "text/x-python",
   "name": "python",
   "nbconvert_exporter": "python",
   "pygments_lexer": "ipython3",
   "version": "3.9.13"
  }
 },
 "nbformat": 4,
 "nbformat_minor": 5
}
