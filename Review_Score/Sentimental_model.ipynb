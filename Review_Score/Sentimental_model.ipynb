{
 "cells": [
  {
   "cell_type": "code",
   "execution_count": 1,
   "id": "5c7f8a1f",
   "metadata": {
    "ExecuteTime": {
     "end_time": "2022-12-23T01:43:16.492718Z",
     "start_time": "2022-12-23T01:43:15.971498Z"
    }
   },
   "outputs": [],
   "source": [
    "import pandas as pd\n",
    "import numpy as np"
   ]
  },
  {
   "cell_type": "code",
   "execution_count": 90,
   "id": "dea8325f",
   "metadata": {
    "ExecuteTime": {
     "end_time": "2022-12-23T11:35:20.283037Z",
     "start_time": "2022-12-23T11:35:15.400942Z"
    }
   },
   "outputs": [],
   "source": [
    "data = pd.read_csv(\"data/txt_reviews_Cleaned.csv\")"
   ]
  },
  {
   "cell_type": "markdown",
   "id": "89b8e2a9",
   "metadata": {},
   "source": [
    "## Feature Selection"
   ]
  },
  {
   "cell_type": "code",
   "execution_count": 3,
   "id": "1b876c64",
   "metadata": {
    "ExecuteTime": {
     "end_time": "2022-12-23T01:46:46.593343Z",
     "start_time": "2022-12-23T01:46:46.569042Z"
    }
   },
   "outputs": [
    {
     "data": {
      "text/plain": [
       "Index(['ProductId', 'UserId', 'ProfileName', 'HelpfulnessNumerator',\n",
       "       'HelpfulnessDenominator', 'Score', 'Time', 'ReviewSummary',\n",
       "       'ReviewText', 'Review_Date', 'Helpfulness'],\n",
       "      dtype='object')"
      ]
     },
     "execution_count": 3,
     "metadata": {},
     "output_type": "execute_result"
    }
   ],
   "source": [
    "data.columns"
   ]
  },
  {
   "cell_type": "code",
   "execution_count": 91,
   "id": "050bcc56",
   "metadata": {
    "ExecuteTime": {
     "end_time": "2022-12-23T11:35:20.330954Z",
     "start_time": "2022-12-23T11:35:20.285545Z"
    }
   },
   "outputs": [],
   "source": [
    "## out of all columns, required only Score,ReviewSummary and ReviewText\n",
    "\n",
    "data_ml = data[['ReviewSummary','ReviewText','Score']]"
   ]
  },
  {
   "cell_type": "code",
   "execution_count": 5,
   "id": "39eb04f6",
   "metadata": {
    "ExecuteTime": {
     "end_time": "2022-12-23T01:46:50.382301Z",
     "start_time": "2022-12-23T01:46:50.353361Z"
    }
   },
   "outputs": [
    {
     "data": {
      "text/html": [
       "<div>\n",
       "<style scoped>\n",
       "    .dataframe tbody tr th:only-of-type {\n",
       "        vertical-align: middle;\n",
       "    }\n",
       "\n",
       "    .dataframe tbody tr th {\n",
       "        vertical-align: top;\n",
       "    }\n",
       "\n",
       "    .dataframe thead th {\n",
       "        text-align: right;\n",
       "    }\n",
       "</style>\n",
       "<table border=\"1\" class=\"dataframe\">\n",
       "  <thead>\n",
       "    <tr style=\"text-align: right;\">\n",
       "      <th></th>\n",
       "      <th>ReviewSummary</th>\n",
       "      <th>ReviewText</th>\n",
       "      <th>Score</th>\n",
       "    </tr>\n",
       "  </thead>\n",
       "  <tbody>\n",
       "    <tr>\n",
       "      <th>0</th>\n",
       "      <td>Good Quality Dog Food</td>\n",
       "      <td>I have bought several of the Vitality canned d...</td>\n",
       "      <td>5</td>\n",
       "    </tr>\n",
       "    <tr>\n",
       "      <th>1</th>\n",
       "      <td>Healthy Dog Food</td>\n",
       "      <td>This is a very healthy dog food. Good for thei...</td>\n",
       "      <td>5</td>\n",
       "    </tr>\n",
       "    <tr>\n",
       "      <th>2</th>\n",
       "      <td>Bad</td>\n",
       "      <td>I fed this to my Golden Retriever and he hated...</td>\n",
       "      <td>1</td>\n",
       "    </tr>\n",
       "    <tr>\n",
       "      <th>3</th>\n",
       "      <td>Not hot, not habanero</td>\n",
       "      <td>I have to admit, I was a sucker for the large ...</td>\n",
       "      <td>2</td>\n",
       "    </tr>\n",
       "    <tr>\n",
       "      <th>4</th>\n",
       "      <td>The best weve tried so far</td>\n",
       "      <td>We have a 7 week old... He had gas and constip...</td>\n",
       "      <td>4</td>\n",
       "    </tr>\n",
       "  </tbody>\n",
       "</table>\n",
       "</div>"
      ],
      "text/plain": [
       "                ReviewSummary  \\\n",
       "0       Good Quality Dog Food   \n",
       "1            Healthy Dog Food   \n",
       "2                         Bad   \n",
       "3       Not hot, not habanero   \n",
       "4  The best weve tried so far   \n",
       "\n",
       "                                          ReviewText  Score  \n",
       "0  I have bought several of the Vitality canned d...      5  \n",
       "1  This is a very healthy dog food. Good for thei...      5  \n",
       "2  I fed this to my Golden Retriever and he hated...      1  \n",
       "3  I have to admit, I was a sucker for the large ...      2  \n",
       "4  We have a 7 week old... He had gas and constip...      4  "
      ]
     },
     "execution_count": 5,
     "metadata": {},
     "output_type": "execute_result"
    }
   ],
   "source": [
    "data_ml.head()"
   ]
  },
  {
   "cell_type": "code",
   "execution_count": 6,
   "id": "c76e2d81",
   "metadata": {
    "ExecuteTime": {
     "end_time": "2022-12-23T01:46:53.323396Z",
     "start_time": "2022-12-23T01:46:53.301904Z"
    }
   },
   "outputs": [
    {
     "data": {
      "text/html": [
       "<div>\n",
       "<style scoped>\n",
       "    .dataframe tbody tr th:only-of-type {\n",
       "        vertical-align: middle;\n",
       "    }\n",
       "\n",
       "    .dataframe tbody tr th {\n",
       "        vertical-align: top;\n",
       "    }\n",
       "\n",
       "    .dataframe thead th {\n",
       "        text-align: right;\n",
       "    }\n",
       "</style>\n",
       "<table border=\"1\" class=\"dataframe\">\n",
       "  <thead>\n",
       "    <tr style=\"text-align: right;\">\n",
       "      <th></th>\n",
       "      <th>ReviewSummary</th>\n",
       "      <th>ReviewText</th>\n",
       "      <th>Score</th>\n",
       "    </tr>\n",
       "  </thead>\n",
       "  <tbody>\n",
       "    <tr>\n",
       "      <th>0</th>\n",
       "      <td>Good Quality Dog Food</td>\n",
       "      <td>I have bought several of the Vitality canned d...</td>\n",
       "      <td>5</td>\n",
       "    </tr>\n",
       "    <tr>\n",
       "      <th>1</th>\n",
       "      <td>Healthy Dog Food</td>\n",
       "      <td>This is a very healthy dog food. Good for thei...</td>\n",
       "      <td>5</td>\n",
       "    </tr>\n",
       "    <tr>\n",
       "      <th>2</th>\n",
       "      <td>Bad</td>\n",
       "      <td>I fed this to my Golden Retriever and he hated...</td>\n",
       "      <td>1</td>\n",
       "    </tr>\n",
       "    <tr>\n",
       "      <th>3</th>\n",
       "      <td>Not hot, not habanero</td>\n",
       "      <td>I have to admit, I was a sucker for the large ...</td>\n",
       "      <td>2</td>\n",
       "    </tr>\n",
       "    <tr>\n",
       "      <th>4</th>\n",
       "      <td>The best weve tried so far</td>\n",
       "      <td>We have a 7 week old... He had gas and constip...</td>\n",
       "      <td>4</td>\n",
       "    </tr>\n",
       "  </tbody>\n",
       "</table>\n",
       "</div>"
      ],
      "text/plain": [
       "                ReviewSummary  \\\n",
       "0       Good Quality Dog Food   \n",
       "1            Healthy Dog Food   \n",
       "2                         Bad   \n",
       "3       Not hot, not habanero   \n",
       "4  The best weve tried so far   \n",
       "\n",
       "                                          ReviewText  Score  \n",
       "0  I have bought several of the Vitality canned d...      5  \n",
       "1  This is a very healthy dog food. Good for thei...      5  \n",
       "2  I fed this to my Golden Retriever and he hated...      1  \n",
       "3  I have to admit, I was a sucker for the large ...      2  \n",
       "4  We have a 7 week old... He had gas and constip...      4  "
      ]
     },
     "execution_count": 6,
     "metadata": {},
     "output_type": "execute_result"
    }
   ],
   "source": [
    "data_ml.head()"
   ]
  },
  {
   "cell_type": "code",
   "execution_count": 95,
   "id": "7857c162",
   "metadata": {
    "ExecuteTime": {
     "end_time": "2022-12-23T11:35:38.260091Z",
     "start_time": "2022-12-23T11:35:38.253178Z"
    }
   },
   "outputs": [],
   "source": [
    "import swifter"
   ]
  },
  {
   "cell_type": "code",
   "execution_count": 96,
   "id": "b828540f",
   "metadata": {
    "ExecuteTime": {
     "end_time": "2022-12-23T11:35:43.627919Z",
     "start_time": "2022-12-23T11:35:39.403215Z"
    }
   },
   "outputs": [
    {
     "data": {
      "application/vnd.jupyter.widget-view+json": {
       "model_id": "f38e55388cb14b28bebb58c0d8fab500",
       "version_major": 2,
       "version_minor": 0
      },
      "text/plain": [
       "Dask Apply:   0%|          | 0/16 [00:00<?, ?it/s]"
      ]
     },
     "metadata": {},
     "output_type": "display_data"
    },
    {
     "name": "stderr",
     "output_type": "stream",
     "text": [
      "C:\\Users\\Murali Krishna\\AppData\\Local\\Temp\\ipykernel_29500\\4252756319.py:1: SettingWithCopyWarning: \n",
      "A value is trying to be set on a copy of a slice from a DataFrame.\n",
      "Try using .loc[row_indexer,col_indexer] = value instead\n",
      "\n",
      "See the caveats in the documentation: https://pandas.pydata.org/pandas-docs/stable/user_guide/indexing.html#returning-a-view-versus-a-copy\n",
      "  data_ml['Score'] = data_ml['Score'].swifter.apply(lambda x : \"Bad Score(1-2 stars)\" if(x<3) else \"average (3 star)\" if(x==3) else \"Good (4-5 stars)\")\n"
     ]
    }
   ],
   "source": [
    "data_ml['Score'] = data_ml['Score'].swifter.apply(lambda x : \"Bad Score(1-2 stars)\" if(x<3) else \"average (3 star)\" if(x==3) else \"Good (4-5 stars)\")"
   ]
  },
  {
   "cell_type": "code",
   "execution_count": 9,
   "id": "fa8b091e",
   "metadata": {
    "ExecuteTime": {
     "end_time": "2022-12-22T14:40:41.862595Z",
     "start_time": "2022-12-22T14:40:41.847259Z"
    }
   },
   "outputs": [],
   "source": [
    "## splitting target and input features\n",
    "## Test and train data splitting"
   ]
  },
  {
   "cell_type": "code",
   "execution_count": 97,
   "id": "66d81d23",
   "metadata": {
    "ExecuteTime": {
     "end_time": "2022-12-23T11:35:55.277009Z",
     "start_time": "2022-12-23T11:35:55.225274Z"
    }
   },
   "outputs": [
    {
     "name": "stdout",
     "output_type": "stream",
     "text": [
      "Index(['ReviewSummary', 'ReviewText'], dtype='object') 0             Good (4-5 stars)\n",
      "1             Good (4-5 stars)\n",
      "2         Bad Score(1-2 stars)\n",
      "3         Bad Score(1-2 stars)\n",
      "4             Good (4-5 stars)\n",
      "                  ...         \n",
      "568125        Good (4-5 stars)\n",
      "568126        Good (4-5 stars)\n",
      "568127        Good (4-5 stars)\n",
      "568128        Good (4-5 stars)\n",
      "568129        Good (4-5 stars)\n",
      "Name: Score, Length: 568130, dtype: object\n"
     ]
    }
   ],
   "source": [
    "y = data_ml['Score']\n",
    "\n",
    "x = data_ml.drop('Score',axis=1)\n",
    "\n",
    "print(x.columns, y)"
   ]
  },
  {
   "cell_type": "code",
   "execution_count": 98,
   "id": "5d34171d",
   "metadata": {
    "ExecuteTime": {
     "end_time": "2022-12-23T11:35:57.776345Z",
     "start_time": "2022-12-23T11:35:57.769223Z"
    }
   },
   "outputs": [],
   "source": [
    "import sklearn"
   ]
  },
  {
   "cell_type": "code",
   "execution_count": 99,
   "id": "6a45199b",
   "metadata": {
    "ExecuteTime": {
     "end_time": "2022-12-23T11:35:59.482696Z",
     "start_time": "2022-12-23T11:35:58.837383Z"
    }
   },
   "outputs": [],
   "source": [
    "from sklearn.model_selection import train_test_split\n",
    "\n",
    "X_train, X_test, y_train, y_test = train_test_split(x,y, test_size=0.25, stratify=data_ml['Score'], random_state=73)"
   ]
  },
  {
   "cell_type": "code",
   "execution_count": 13,
   "id": "57a57fab",
   "metadata": {
    "ExecuteTime": {
     "end_time": "2022-12-23T01:47:59.622584Z",
     "start_time": "2022-12-23T01:47:59.604446Z"
    }
   },
   "outputs": [
    {
     "data": {
      "text/plain": [
       "((426097, 2), (142033, 2))"
      ]
     },
     "execution_count": 13,
     "metadata": {},
     "output_type": "execute_result"
    }
   ],
   "source": [
    "X_train.shape,X_test.shape"
   ]
  },
  {
   "cell_type": "code",
   "execution_count": 14,
   "id": "38cf9e86",
   "metadata": {
    "ExecuteTime": {
     "end_time": "2022-12-23T01:48:03.450690Z",
     "start_time": "2022-12-23T01:48:03.433594Z"
    }
   },
   "outputs": [
    {
     "data": {
      "text/plain": [
       "(426097, 142033)"
      ]
     },
     "execution_count": 14,
     "metadata": {},
     "output_type": "execute_result"
    }
   ],
   "source": [
    "y_train.size,y_test.size"
   ]
  },
  {
   "cell_type": "code",
   "execution_count": 15,
   "id": "ebe40d5f",
   "metadata": {
    "ExecuteTime": {
     "end_time": "2022-12-23T01:48:04.891022Z",
     "start_time": "2022-12-23T01:48:04.875916Z"
    }
   },
   "outputs": [],
   "source": [
    "## Data PreProcessing -- Removal of unwanted text/char"
   ]
  },
  {
   "cell_type": "code",
   "execution_count": 16,
   "id": "52929e6a",
   "metadata": {
    "ExecuteTime": {
     "end_time": "2022-12-23T01:48:06.301799Z",
     "start_time": "2022-12-23T01:48:05.670737Z"
    }
   },
   "outputs": [],
   "source": [
    "import re\n",
    "import nltk\n",
    "from nltk.tokenize import word_tokenize\n",
    "from nltk.corpus import stopwords\n",
    "from nltk.stem.porter import PorterStemmer\n",
    "from nltk.stem import WordNetLemmatizer"
   ]
  },
  {
   "cell_type": "code",
   "execution_count": 17,
   "id": "7ce25cab",
   "metadata": {
    "ExecuteTime": {
     "end_time": "2022-12-23T01:48:07.449360Z",
     "start_time": "2022-12-23T01:48:07.416428Z"
    }
   },
   "outputs": [
    {
     "name": "stdout",
     "output_type": "stream",
     "text": [
      "179 {'does', 'were', 'a', 'after', \"that'll\", 'more', 'further', 'but', 'you', 've', \"didn't\", 'when', 'an', 'y', 'than', \"aren't\", 'haven', 'itself', 'off', 'why', 'yourselves', 'into', 'few', 'couldn', 'before', 'other', 'them', 'm', 'from', 'about', 'those', 'of', 'ourselves', 'is', 'during', 'until', 'where', 'll', 'are', 'out', 'their', 'some', 'these', \"you'd\", 'hasn', 'both', 'very', 'while', 'not', 're', 'too', 'any', 'hadn', 'there', 'was', 'been', 'being', 'for', \"won't\", \"she's\", 'her', 'himself', 'i', 'do', 'can', 'own', \"doesn't\", 'will', 'theirs', 'if', \"you'll\", 'your', 'this', \"mustn't\", \"needn't\", \"mightn't\", \"weren't\", 'wouldn', 'mustn', 'didn', 'have', 'don', 'has', 'on', 'isn', 'over', 'against', 'then', 'having', 't', 'weren', \"you've\", 'below', 'through', 'just', 'yours', 'o', \"you're\", 'to', 'how', 'him', 'ours', 'won', 'd', 'myself', 'who', 'ma', 'down', 'aren', 'what', 'that', 'at', 'once', 'most', 'doing', 'be', 'it', 'ain', \"it's\", 'needn', 'here', 'because', \"shouldn't\", 'such', \"couldn't\", 'all', 'had', \"should've\", 'wasn', 'by', 'his', 'up', 'my', \"isn't\", 'whom', 'he', 'should', \"hadn't\", 'she', \"shan't\", 'with', 'between', 'shan', 'we', 'above', 'under', \"wouldn't\", 'or', 'so', 'herself', 'did', 'they', 'no', 'and', \"wasn't\", 'as', 'same', 'themselves', 'doesn', 'yourself', 'in', 'only', 'our', \"hasn't\", 'now', 'nor', \"don't\", 'which', 'mightn', 'again', 'shouldn', \"haven't\", 'hers', 'the', 'each', 'its', 'me', 'am', 's'}\n"
     ]
    }
   ],
   "source": [
    "nltk_stopwords = set(stopwords.words('english'))\n",
    "print(len(nltk_stopwords),nltk_stopwords)"
   ]
  },
  {
   "cell_type": "code",
   "execution_count": 20,
   "id": "7282fab5",
   "metadata": {
    "ExecuteTime": {
     "end_time": "2022-12-23T01:48:40.994856Z",
     "start_time": "2022-12-23T01:48:40.971681Z"
    }
   },
   "outputs": [
    {
     "data": {
      "text/html": [
       "<div>\n",
       "<style scoped>\n",
       "    .dataframe tbody tr th:only-of-type {\n",
       "        vertical-align: middle;\n",
       "    }\n",
       "\n",
       "    .dataframe tbody tr th {\n",
       "        vertical-align: top;\n",
       "    }\n",
       "\n",
       "    .dataframe thead th {\n",
       "        text-align: right;\n",
       "    }\n",
       "</style>\n",
       "<table border=\"1\" class=\"dataframe\">\n",
       "  <thead>\n",
       "    <tr style=\"text-align: right;\">\n",
       "      <th></th>\n",
       "      <th>ReviewSummary</th>\n",
       "      <th>ReviewText</th>\n",
       "    </tr>\n",
       "  </thead>\n",
       "  <tbody>\n",
       "    <tr>\n",
       "      <th>15784</th>\n",
       "      <td>Great Mushrooms!</td>\n",
       "      <td>These mushrooms are wonderful!  They taste ric...</td>\n",
       "    </tr>\n",
       "    <tr>\n",
       "      <th>219831</th>\n",
       "      <td>Better Than Buttermilk</td>\n",
       "      <td>It doesn't happen often that I say this but th...</td>\n",
       "    </tr>\n",
       "    <tr>\n",
       "      <th>431816</th>\n",
       "      <td>Best Cappuccino buy</td>\n",
       "      <td>Actually this is for my wife who ordered these...</td>\n",
       "    </tr>\n",
       "    <tr>\n",
       "      <th>533305</th>\n",
       "      <td>Great protein!</td>\n",
       "      <td>Easy way to have a snack on hand that adds pro...</td>\n",
       "    </tr>\n",
       "    <tr>\n",
       "      <th>413755</th>\n",
       "      <td>Nice Coffee, Pods Didn't Work for Us</td>\n",
       "      <td>I really love the idea of this coffee from the...</td>\n",
       "    </tr>\n",
       "  </tbody>\n",
       "</table>\n",
       "</div>"
      ],
      "text/plain": [
       "                               ReviewSummary  \\\n",
       "15784                       Great Mushrooms!   \n",
       "219831                Better Than Buttermilk   \n",
       "431816                   Best Cappuccino buy   \n",
       "533305                        Great protein!   \n",
       "413755  Nice Coffee, Pods Didn't Work for Us   \n",
       "\n",
       "                                               ReviewText  \n",
       "15784   These mushrooms are wonderful!  They taste ric...  \n",
       "219831  It doesn't happen often that I say this but th...  \n",
       "431816  Actually this is for my wife who ordered these...  \n",
       "533305  Easy way to have a snack on hand that adds pro...  \n",
       "413755  I really love the idea of this coffee from the...  "
      ]
     },
     "execution_count": 20,
     "metadata": {},
     "output_type": "execute_result"
    }
   ],
   "source": [
    "X_train.head()"
   ]
  },
  {
   "cell_type": "code",
   "execution_count": 33,
   "id": "465dcb40",
   "metadata": {
    "ExecuteTime": {
     "end_time": "2022-12-23T01:50:27.911265Z",
     "start_time": "2022-12-23T01:50:27.903124Z"
    },
    "scrolled": true
   },
   "outputs": [
    {
     "name": "stdout",
     "output_type": "stream",
     "text": [
      "It seems like every time I find a really good product, the manufacturer stops making it. (The garbage products keep getting made year after year).  This product is no longer available at any of the stores around me.<br /><br />Luzianne makes great green tea.  It is, of course, not as strong as black tea. The taste is smooth.  The caffeine level is not too bad.  I like making sun tea with the larger bags. 4 bags to the gallon and 4 hours of sunshine makes fantastic tea.  If you want it stronger just squeeze excess liquids from the bags when removing.<br /><br />I just hope Amazon keeps selling this stuff in bulk.  The price ($25/case) is very good.  This is the only food product I have ever bought online.\n"
     ]
    }
   ],
   "source": [
    "print(X_train[\"ReviewText\"].iloc[8])"
   ]
  },
  {
   "cell_type": "code",
   "execution_count": 35,
   "id": "a1f45d71",
   "metadata": {
    "ExecuteTime": {
     "end_time": "2022-12-23T01:50:51.894509Z",
     "start_time": "2022-12-23T01:50:51.878058Z"
    }
   },
   "outputs": [
    {
     "name": "stdout",
     "output_type": "stream",
     "text": [
      "It seems like every time I find a really good product  the manufacturer stops making it   The garbage products keep getting made year after year    This product is no longer available at any of the stores around me   Luzianne makes great green tea   It is  of course  not as strong as black tea  The taste is smooth   The caffeine level is not too bad   I like making sun tea with the larger bags    bags to the gallon and   hours of sunshine makes fantastic tea   If you want it stronger just squeeze excess liquids from the bags when removing   I just hope Amazon keeps selling this stuff in bulk   The price      case  is very good   This is the only food product I have ever bought online \n"
     ]
    }
   ],
   "source": [
    "print(re.sub('<.*?>|[^a-zA-Z]',\" \",X_train[\"ReviewText\"].iloc[8]))"
   ]
  },
  {
   "cell_type": "code",
   "execution_count": 42,
   "id": "fc589035",
   "metadata": {
    "ExecuteTime": {
     "end_time": "2022-12-23T01:52:34.473771Z",
     "start_time": "2022-12-23T01:52:34.455949Z"
    }
   },
   "outputs": [],
   "source": [
    "## initialise the inbuilt Stemmer\n",
    "stemmer = PorterStemmer()\n",
    "\n",
    "## We can also use Lemmatizer instead of Stemmer\n",
    "lemmatizer = WordNetLemmatizer()\n",
    "\n",
    "\n",
    "def preprocess(raw_text, flag):\n",
    "    #Removes html tags\n",
    "    # Removing special characters and digits\n",
    "    sentence = re.sub(\"<.*?>|[^a-zA-Z]\", \" \", raw_text)\n",
    "    \n",
    "    # change sentence to lower case\n",
    "    sentence = sentence.lower()\n",
    "\n",
    "    # tokenize into words\n",
    "    tokens = sentence.split()\n",
    "    \n",
    "    # remove stop words                \n",
    "    clean_tokens = [t.strip() for t in tokens if t not in nltk_stopwords]\n",
    "    \n",
    "    # Stemming/Lemmatization\n",
    "    if(flag == 'stem'):\n",
    "        clean_tokens = [stemmer.stem(word) for word in clean_tokens]\n",
    "    elif(flag == 'lemm'):\n",
    "        clean_tokens = [lemmatizer.lemmatize(word) for word in clean_tokens]\n",
    "    else:\n",
    "        raise Exception(\"Invalid Flag!! Pass 'stem / lemm' as falg value!!\")\n",
    "    return pd.Series([\" \".join(clean_tokens)])"
   ]
  },
  {
   "cell_type": "code",
   "execution_count": 43,
   "id": "d8f573b2",
   "metadata": {
    "ExecuteTime": {
     "end_time": "2022-12-23T01:52:39.097890Z",
     "start_time": "2022-12-23T01:52:36.732585Z"
    }
   },
   "outputs": [
    {
     "name": "stdout",
     "output_type": "stream",
     "text": [
      "0    best instant noodle tried spicy yes like spicy...\n",
      "dtype: object ReviewSummary                                Not hot, not habanero\n",
      "ReviewText       I have to admit, I was a sucker for the large ...\n",
      "Score                                         Bad Score(1-2 stars)\n",
      "Name: 3, dtype: object\n"
     ]
    }
   ],
   "source": [
    "print(preprocess(data_ml[\"ReviewText\"].iloc[8],flag=\"lemm\"),data_ml.iloc[3])"
   ]
  },
  {
   "cell_type": "code",
   "execution_count": 44,
   "id": "23d8b502",
   "metadata": {
    "ExecuteTime": {
     "end_time": "2022-12-23T01:52:45.601289Z",
     "start_time": "2022-12-23T01:52:45.594543Z"
    }
   },
   "outputs": [],
   "source": [
    "## speeder version of apply\n",
    "## run in cmd prompt with admin user\n",
    "\n",
    "### conda install -c conda-forge swifter"
   ]
  },
  {
   "cell_type": "code",
   "execution_count": 46,
   "id": "6fb28778",
   "metadata": {
    "ExecuteTime": {
     "end_time": "2022-12-23T01:56:49.483269Z",
     "start_time": "2022-12-23T01:52:58.546962Z"
    }
   },
   "outputs": [
    {
     "data": {
      "application/vnd.jupyter.widget-view+json": {
       "model_id": "411258f020804ffd80e474b05ee01e81",
       "version_major": 2,
       "version_minor": 0
      },
      "text/plain": [
       "Pandas Apply:   0%|          | 0/426097 [00:00<?, ?it/s]"
      ]
     },
     "metadata": {},
     "output_type": "display_data"
    }
   ],
   "source": [
    "temp_df = pd.DataFrame()\n",
    "temp_df['text_SW'] = X_train['ReviewText'].swifter.apply(preprocess,flag='lemm')"
   ]
  },
  {
   "cell_type": "code",
   "execution_count": 47,
   "id": "07065e95",
   "metadata": {
    "ExecuteTime": {
     "end_time": "2022-12-23T01:57:08.362577Z",
     "start_time": "2022-12-23T01:57:08.331996Z"
    }
   },
   "outputs": [],
   "source": [
    "X_train['ReviewText'] = temp_df['text_SW']"
   ]
  },
  {
   "cell_type": "code",
   "execution_count": 48,
   "id": "a8c9e683",
   "metadata": {
    "ExecuteTime": {
     "end_time": "2022-12-23T01:57:09.707373Z",
     "start_time": "2022-12-23T01:57:09.695348Z"
    },
    "scrolled": true
   },
   "outputs": [
    {
     "name": "stdout",
     "output_type": "stream",
     "text": [
      "(426097, 2)\n"
     ]
    },
    {
     "data": {
      "text/html": [
       "<div>\n",
       "<style scoped>\n",
       "    .dataframe tbody tr th:only-of-type {\n",
       "        vertical-align: middle;\n",
       "    }\n",
       "\n",
       "    .dataframe tbody tr th {\n",
       "        vertical-align: top;\n",
       "    }\n",
       "\n",
       "    .dataframe thead th {\n",
       "        text-align: right;\n",
       "    }\n",
       "</style>\n",
       "<table border=\"1\" class=\"dataframe\">\n",
       "  <thead>\n",
       "    <tr style=\"text-align: right;\">\n",
       "      <th></th>\n",
       "      <th>ReviewSummary</th>\n",
       "      <th>ReviewText</th>\n",
       "    </tr>\n",
       "  </thead>\n",
       "  <tbody>\n",
       "    <tr>\n",
       "      <th>15784</th>\n",
       "      <td>Great Mushrooms!</td>\n",
       "      <td>mushroom wonderful taste rich woodsy add real ...</td>\n",
       "    </tr>\n",
       "    <tr>\n",
       "      <th>219831</th>\n",
       "      <td>Better Than Buttermilk</td>\n",
       "      <td>happen often say product saco cultured butterm...</td>\n",
       "    </tr>\n",
       "    <tr>\n",
       "      <th>431816</th>\n",
       "      <td>Best Cappuccino buy</td>\n",
       "      <td>actually wife ordered k cup already ststed reo...</td>\n",
       "    </tr>\n",
       "    <tr>\n",
       "      <th>533305</th>\n",
       "      <td>Great protein!</td>\n",
       "      <td>easy way snack hand add protein curb sugar low</td>\n",
       "    </tr>\n",
       "    <tr>\n",
       "      <th>413755</th>\n",
       "      <td>Nice Coffee, Pods Didn't Work for Us</td>\n",
       "      <td>really love idea coffee family bob marley howe...</td>\n",
       "    </tr>\n",
       "  </tbody>\n",
       "</table>\n",
       "</div>"
      ],
      "text/plain": [
       "                               ReviewSummary  \\\n",
       "15784                       Great Mushrooms!   \n",
       "219831                Better Than Buttermilk   \n",
       "431816                   Best Cappuccino buy   \n",
       "533305                        Great protein!   \n",
       "413755  Nice Coffee, Pods Didn't Work for Us   \n",
       "\n",
       "                                               ReviewText  \n",
       "15784   mushroom wonderful taste rich woodsy add real ...  \n",
       "219831  happen often say product saco cultured butterm...  \n",
       "431816  actually wife ordered k cup already ststed reo...  \n",
       "533305     easy way snack hand add protein curb sugar low  \n",
       "413755  really love idea coffee family bob marley howe...  "
      ]
     },
     "execution_count": 48,
     "metadata": {},
     "output_type": "execute_result"
    }
   ],
   "source": [
    "print(X_train.shape)\n",
    "X_train.head()"
   ]
  },
  {
   "cell_type": "code",
   "execution_count": 49,
   "id": "e5bd0b7a",
   "metadata": {
    "ExecuteTime": {
     "end_time": "2022-12-23T01:58:25.993154Z",
     "start_time": "2022-12-23T01:57:10.744872Z"
    }
   },
   "outputs": [
    {
     "data": {
      "application/vnd.jupyter.widget-view+json": {
       "model_id": "8de8e2c7696f4e48a1c7139a7c3862b5",
       "version_major": 2,
       "version_minor": 0
      },
      "text/plain": [
       "Pandas Apply:   0%|          | 0/142033 [00:00<?, ?it/s]"
      ]
     },
     "metadata": {},
     "output_type": "display_data"
    }
   ],
   "source": [
    "temp_df = pd.DataFrame()\n",
    "temp_df['text_SW'] = X_test['ReviewText'].swifter.apply(preprocess,flag='lemm')"
   ]
  },
  {
   "cell_type": "code",
   "execution_count": 51,
   "id": "072391b1",
   "metadata": {
    "ExecuteTime": {
     "end_time": "2022-12-23T01:58:59.709486Z",
     "start_time": "2022-12-23T01:58:59.694994Z"
    }
   },
   "outputs": [],
   "source": [
    "X_test['ReviewText'] = temp_df['text_SW']"
   ]
  },
  {
   "cell_type": "code",
   "execution_count": 52,
   "id": "695bbc71",
   "metadata": {
    "ExecuteTime": {
     "end_time": "2022-12-23T01:59:00.690008Z",
     "start_time": "2022-12-23T01:59:00.668774Z"
    }
   },
   "outputs": [
    {
     "name": "stdout",
     "output_type": "stream",
     "text": [
      "(142033, 2)\n"
     ]
    },
    {
     "data": {
      "text/html": [
       "<div>\n",
       "<style scoped>\n",
       "    .dataframe tbody tr th:only-of-type {\n",
       "        vertical-align: middle;\n",
       "    }\n",
       "\n",
       "    .dataframe tbody tr th {\n",
       "        vertical-align: top;\n",
       "    }\n",
       "\n",
       "    .dataframe thead th {\n",
       "        text-align: right;\n",
       "    }\n",
       "</style>\n",
       "<table border=\"1\" class=\"dataframe\">\n",
       "  <thead>\n",
       "    <tr style=\"text-align: right;\">\n",
       "      <th></th>\n",
       "      <th>ReviewSummary</th>\n",
       "      <th>ReviewText</th>\n",
       "    </tr>\n",
       "  </thead>\n",
       "  <tbody>\n",
       "    <tr>\n",
       "      <th>209533</th>\n",
       "      <td>Excellent</td>\n",
       "      <td>tea smell amazing taste superb combination rea...</td>\n",
       "    </tr>\n",
       "    <tr>\n",
       "      <th>335288</th>\n",
       "      <td>GREAT guiltfree treat in 5 minutes</td>\n",
       "      <td>believe improved original adding teaspoon inst...</td>\n",
       "    </tr>\n",
       "    <tr>\n",
       "      <th>383384</th>\n",
       "      <td>Tastes good and lasts a long time!</td>\n",
       "      <td>enjoy gum taste great last much longer chew sa...</td>\n",
       "    </tr>\n",
       "    <tr>\n",
       "      <th>107772</th>\n",
       "      <td>Tasty Cookies</td>\n",
       "      <td>nana chocolate chocolate chip cooky tasty dair...</td>\n",
       "    </tr>\n",
       "    <tr>\n",
       "      <th>97554</th>\n",
       "      <td>Worked...with some unexpected side-effects.</td>\n",
       "      <td>little girl alot gas enfamil premium infant fo...</td>\n",
       "    </tr>\n",
       "  </tbody>\n",
       "</table>\n",
       "</div>"
      ],
      "text/plain": [
       "                                      ReviewSummary  \\\n",
       "209533                                    Excellent   \n",
       "335288           GREAT guiltfree treat in 5 minutes   \n",
       "383384           Tastes good and lasts a long time!   \n",
       "107772                                Tasty Cookies   \n",
       "97554   Worked...with some unexpected side-effects.   \n",
       "\n",
       "                                               ReviewText  \n",
       "209533  tea smell amazing taste superb combination rea...  \n",
       "335288  believe improved original adding teaspoon inst...  \n",
       "383384  enjoy gum taste great last much longer chew sa...  \n",
       "107772  nana chocolate chocolate chip cooky tasty dair...  \n",
       "97554   little girl alot gas enfamil premium infant fo...  "
      ]
     },
     "execution_count": 52,
     "metadata": {},
     "output_type": "execute_result"
    }
   ],
   "source": [
    "print(X_test.shape)\n",
    "X_test.head()"
   ]
  },
  {
   "cell_type": "code",
   "execution_count": 55,
   "id": "b2772bc5",
   "metadata": {
    "ExecuteTime": {
     "end_time": "2022-12-23T01:59:22.218771Z",
     "start_time": "2022-12-23T01:59:19.498403Z"
    },
    "scrolled": true
   },
   "outputs": [],
   "source": [
    "all_words_train = []\n",
    "for t in X_train['ReviewText']:\n",
    "    all_words_train.extend(t.split())"
   ]
  },
  {
   "cell_type": "code",
   "execution_count": 56,
   "id": "b2180aa4",
   "metadata": {
    "ExecuteTime": {
     "end_time": "2022-12-23T01:59:25.773339Z",
     "start_time": "2022-12-23T01:59:25.763010Z"
    }
   },
   "outputs": [],
   "source": [
    "import matplotlib.pyplot as plt"
   ]
  },
  {
   "cell_type": "code",
   "execution_count": 57,
   "id": "38b5584b",
   "metadata": {
    "ExecuteTime": {
     "end_time": "2022-12-23T01:59:41.663773Z",
     "start_time": "2022-12-23T01:59:26.728074Z"
    },
    "scrolled": true
   },
   "outputs": [
    {
     "data": {
      "image/png": "[encoded data removed]",
      "text/plain": [
       "<Figure size 1200x500 with 1 Axes>"
      ]
     },
     "metadata": {},
     "output_type": "display_data"
    }
   ],
   "source": [
    "# Frequency Distribution\n",
    "freq_dist = nltk.FreqDist(all_words_train)\n",
    "plt.figure(figsize=(12,5))\n",
    "plt.title('Top 25 most common words')\n",
    "plt.xticks(fontsize=15)\n",
    "\n",
    "freq_dist.plot(25, cumulative=False)\n",
    "\n",
    "plt.show()"
   ]
  },
  {
   "cell_type": "code",
   "execution_count": 58,
   "id": "b393f179",
   "metadata": {
    "ExecuteTime": {
     "end_time": "2022-12-23T02:01:25.630132Z",
     "start_time": "2022-12-23T01:59:47.494457Z"
    }
   },
   "outputs": [],
   "source": [
    "# TF-IDF\n",
    "\n",
    "from sklearn.feature_extraction.text import TfidfVectorizer\n",
    "\n",
    "tfidf = TfidfVectorizer(ngram_range=(1,2))\n",
    "\n",
    "X_train_dtm = tfidf.fit_transform(X_train['ReviewText'])\n",
    "X_test_dtm = tfidf.transform(X_test['ReviewText'])"
   ]
  },
  {
   "cell_type": "code",
   "execution_count": 35,
   "id": "406385f1",
   "metadata": {
    "ExecuteTime": {
     "end_time": "2022-12-22T14:48:28.853778Z",
     "start_time": "2022-12-22T14:48:28.841060Z"
    }
   },
   "outputs": [],
   "source": [
    "## Model creation , Predection and Evalution Metrix"
   ]
  },
  {
   "cell_type": "markdown",
   "id": "8f70b989",
   "metadata": {},
   "source": [
    "## Logistic Regression"
   ]
  },
  {
   "cell_type": "code",
   "execution_count": 59,
   "id": "f6ca4a73",
   "metadata": {
    "ExecuteTime": {
     "end_time": "2022-12-23T02:08:16.634785Z",
     "start_time": "2022-12-23T02:02:24.350363Z"
    }
   },
   "outputs": [
    {
     "name": "stderr",
     "output_type": "stream",
     "text": [
      "C:\\Users\\Murali Krishna\\AppData\\Roaming\\Python\\Python39\\site-packages\\sklearn\\linear_model\\_logistic.py:444: ConvergenceWarning: lbfgs failed to converge (status=1):\n",
      "STOP: TOTAL NO. of ITERATIONS REACHED LIMIT.\n",
      "\n",
      "Increase the number of iterations (max_iter) or scale the data as shown in:\n",
      "    https://scikit-learn.org/stable/modules/preprocessing.html\n",
      "Please also refer to the documentation for alternative solver options:\n",
      "    https://scikit-learn.org/stable/modules/linear_model.html#logistic-regression\n",
      "  n_iter_i = _check_optimize_result(\n"
     ]
    },
    {
     "data": {
      "text/html": [
       "<style>#sk-container-id-1 {color: black;background-color: white;}#sk-container-id-1 pre{padding: 0;}#sk-container-id-1 div.sk-toggleable {background-color: white;}#sk-container-id-1 label.sk-toggleable__label {cursor: pointer;display: block;width: 100%;margin-bottom: 0;padding: 0.3em;box-sizing: border-box;text-align: center;}#sk-container-id-1 label.sk-toggleable__label-arrow:before {content: \"▸\";float: left;margin-right: 0.25em;color: #696969;}#sk-container-id-1 label.sk-toggleable__label-arrow:hover:before {color: black;}#sk-container-id-1 div.sk-estimator:hover label.sk-toggleable__label-arrow:before {color: black;}#sk-container-id-1 div.sk-toggleable__content {max-height: 0;max-width: 0;overflow: hidden;text-align: left;background-color: #f0f8ff;}#sk-container-id-1 div.sk-toggleable__content pre {margin: 0.2em;color: black;border-radius: 0.25em;background-color: #f0f8ff;}#sk-container-id-1 input.sk-toggleable__control:checked~div.sk-toggleable__content {max-height: 200px;max-width: 100%;overflow: auto;}#sk-container-id-1 input.sk-toggleable__control:checked~label.sk-toggleable__label-arrow:before {content: \"▾\";}#sk-container-id-1 div.sk-estimator input.sk-toggleable__control:checked~label.sk-toggleable__label {background-color: #d4ebff;}#sk-container-id-1 div.sk-label input.sk-toggleable__control:checked~label.sk-toggleable__label {background-color: #d4ebff;}#sk-container-id-1 input.sk-hidden--visually {border: 0;clip: rect(1px 1px 1px 1px);clip: rect(1px, 1px, 1px, 1px);height: 1px;margin: -1px;overflow: hidden;padding: 0;position: absolute;width: 1px;}#sk-container-id-1 div.sk-estimator {font-family: monospace;background-color: #f0f8ff;border: 1px dotted black;border-radius: 0.25em;box-sizing: border-box;margin-bottom: 0.5em;}#sk-container-id-1 div.sk-estimator:hover {background-color: #d4ebff;}#sk-container-id-1 div.sk-parallel-item::after {content: \"\";width: 100%;border-bottom: 1px solid gray;flex-grow: 1;}#sk-container-id-1 div.sk-label:hover label.sk-toggleable__label {background-color: #d4ebff;}#sk-container-id-1 div.sk-serial::before {content: \"\";position: absolute;border-left: 1px solid gray;box-sizing: border-box;top: 0;bottom: 0;left: 50%;z-index: 0;}#sk-container-id-1 div.sk-serial {display: flex;flex-direction: column;align-items: center;background-color: white;padding-right: 0.2em;padding-left: 0.2em;position: relative;}#sk-container-id-1 div.sk-item {position: relative;z-index: 1;}#sk-container-id-1 div.sk-parallel {display: flex;align-items: stretch;justify-content: center;background-color: white;position: relative;}#sk-container-id-1 div.sk-item::before, #sk-container-id-1 div.sk-parallel-item::before {content: \"\";position: absolute;border-left: 1px solid gray;box-sizing: border-box;top: 0;bottom: 0;left: 50%;z-index: -1;}#sk-container-id-1 div.sk-parallel-item {display: flex;flex-direction: column;z-index: 1;position: relative;background-color: white;}#sk-container-id-1 div.sk-parallel-item:first-child::after {align-self: flex-end;width: 50%;}#sk-container-id-1 div.sk-parallel-item:last-child::after {align-self: flex-start;width: 50%;}#sk-container-id-1 div.sk-parallel-item:only-child::after {width: 0;}#sk-container-id-1 div.sk-dashed-wrapped {border: 1px dashed gray;margin: 0 0.4em 0.5em 0.4em;box-sizing: border-box;padding-bottom: 0.4em;background-color: white;}#sk-container-id-1 div.sk-label label {font-family: monospace;font-weight: bold;display: inline-block;line-height: 1.2em;}#sk-container-id-1 div.sk-label-container {text-align: center;}#sk-container-id-1 div.sk-container {/* jupyter's `normalize.less` sets `[hidden] { display: none; }` but bootstrap.min.css set `[hidden] { display: none !important; }` so we also need the `!important` here to be able to override the default hidden behavior on the sphinx rendered scikit-learn.org. See: https://github.com/scikit-learn/scikit-learn/issues/21755 */display: inline-block !important;position: relative;}#sk-container-id-1 div.sk-text-repr-fallback {display: none;}</style><div id=\"sk-container-id-1\" class=\"sk-top-container\"><div class=\"sk-text-repr-fallback\"><pre>LogisticRegression()</pre><b>In a Jupyter environment, please rerun this cell to show the HTML representation or trust the notebook. <br />On GitHub, the HTML representation is unable to render, please try loading this page with nbviewer.org.</b></div><div class=\"sk-container\" hidden><div class=\"sk-item\"><div class=\"sk-estimator sk-toggleable\"><input class=\"sk-toggleable__control sk-hidden--visually\" id=\"sk-estimator-id-1\" type=\"checkbox\" checked><label for=\"sk-estimator-id-1\" class=\"sk-toggleable__label sk-toggleable__label-arrow\">LogisticRegression</label><div class=\"sk-toggleable__content\"><pre>LogisticRegression()</pre></div></div></div></div></div>"
      ],
      "text/plain": [
       "LogisticRegression()"
      ]
     },
     "execution_count": 59,
     "metadata": {},
     "output_type": "execute_result"
    }
   ],
   "source": [
    "from sklearn.linear_model import LogisticRegression\n",
    "\n",
    "logistic_reg = LogisticRegression()\n",
    "logistic_reg.fit(X_train_dtm, y_train)\n"
   ]
  },
  {
   "cell_type": "code",
   "execution_count": 60,
   "id": "75de1bc4",
   "metadata": {
    "ExecuteTime": {
     "end_time": "2022-12-23T02:08:23.428985Z",
     "start_time": "2022-12-23T02:08:23.064230Z"
    }
   },
   "outputs": [],
   "source": [
    "y_test_pred = logistic_reg.predict(X_test_dtm)"
   ]
  },
  {
   "cell_type": "code",
   "execution_count": 64,
   "id": "9dc3c951",
   "metadata": {
    "ExecuteTime": {
     "end_time": "2022-12-23T02:10:04.177777Z",
     "start_time": "2022-12-23T02:10:03.456214Z"
    }
   },
   "outputs": [
    {
     "name": "stdout",
     "output_type": "stream",
     "text": [
      "Accuracy:  0.9018115508367773\n"
     ]
    },
    {
     "data": {
      "image/png": "[encoded data removed]",
      "text/plain": [
       "<Figure size 640x480 with 1 Axes>"
      ]
     },
     "metadata": {},
     "output_type": "display_data"
    }
   ],
   "source": [
    "import seaborn as sns\n",
    "import sklearn.metrics as metrics\n",
    "sns.histplot(y_test, color='blue', alpha=0.5)\n",
    "sns.histplot(y_test_pred, color='red', alpha=0.5)\n",
    "\n",
    "\n",
    "print('Accuracy: ', metrics.accuracy_score(y_test, y_test_pred))"
   ]
  },
  {
   "cell_type": "code",
   "execution_count": 78,
   "id": "858e3335",
   "metadata": {
    "ExecuteTime": {
     "end_time": "2022-12-23T02:52:48.072494Z",
     "start_time": "2022-12-23T02:52:48.056369Z"
    }
   },
   "outputs": [],
   "source": [
    "import pickle"
   ]
  },
  {
   "cell_type": "code",
   "execution_count": 83,
   "id": "5218f011",
   "metadata": {
    "ExecuteTime": {
     "end_time": "2022-12-23T02:58:59.533835Z",
     "start_time": "2022-12-23T02:58:56.547876Z"
    }
   },
   "outputs": [],
   "source": [
    "# save the model to disk\n",
    "filename = 'model.pkl'\n",
    "vectorname = 'vector.pkl'\n",
    "\n",
    "pickle.dump(logistic_reg, open(filename, 'wb'))\n",
    "pickle.dump(tfidf,open(vectorname,'wb'))"
   ]
  },
  {
   "cell_type": "code",
   "execution_count": 125,
   "id": "6b9aefff",
   "metadata": {
    "ExecuteTime": {
     "end_time": "2022-12-23T12:14:25.914824Z",
     "start_time": "2022-12-23T12:14:23.680224Z"
    },
    "scrolled": true
   },
   "outputs": [
    {
     "name": "stdout",
     "output_type": "stream",
     "text": [
      "['Bad Score(1-2 stars)']\n"
     ]
    }
   ],
   "source": [
    "# load the model from disk\n",
    "loaded_model = pickle.load(open(filename, 'rb'))\n",
    "vector = pickle.load(open(vectorname,'rb'))\n",
    "x = data_ml[\"ReviewText\"].iloc[2]\n",
    "x_trans = preprocess(x,\"lemm\")\n",
    "result = loaded_model.predict(vector.transform(x_trans))\n",
    "print(result)"
   ]
  },
  {
   "cell_type": "code",
   "execution_count": 77,
   "id": "84f0861b",
   "metadata": {
    "ExecuteTime": {
     "end_time": "2022-12-23T02:28:34.944670Z",
     "start_time": "2022-12-23T02:28:34.922020Z"
    }
   },
   "outputs": [
    {
     "data": {
      "text/plain": [
       "ReviewSummary                                                  Bad\n",
       "ReviewText       I fed this to my Golden Retriever and he hated...\n",
       "Score                                         Bad Score(1-2 stars)\n",
       "Name: 2, dtype: object"
      ]
     },
     "execution_count": 77,
     "metadata": {},
     "output_type": "execute_result"
    }
   ],
   "source": [
    "data_ml.iloc[2]"
   ]
  },
  {
   "cell_type": "code",
   "execution_count": 123,
   "id": "5ed92a8f",
   "metadata": {
    "ExecuteTime": {
     "end_time": "2022-12-23T11:42:19.527414Z",
     "start_time": "2022-12-23T11:42:19.500560Z"
    }
   },
   "outputs": [
    {
     "name": "stdout",
     "output_type": "stream",
     "text": [
      "108978    Bad Score(1-2 stars)\n",
      "128056    Bad Score(1-2 stars)\n",
      "218925    Bad Score(1-2 stars)\n",
      "310464    Bad Score(1-2 stars)\n",
      "472997    Bad Score(1-2 stars)\n",
      "                  ...         \n",
      "316694    Bad Score(1-2 stars)\n",
      "274665    Bad Score(1-2 stars)\n",
      "271842    Bad Score(1-2 stars)\n",
      "289153    Bad Score(1-2 stars)\n",
      "377834    Bad Score(1-2 stars)\n",
      "Name: Score, Length: 20492, dtype: object\n"
     ]
    }
   ],
   "source": [
    "i=15\n",
    "print(y_test[y_test =='Bad Score(1-2 stars)'])\n"
   ]
  },
  {
   "cell_type": "code",
   "execution_count": 124,
   "id": "056d7c22",
   "metadata": {
    "ExecuteTime": {
     "end_time": "2022-12-23T11:42:30.720185Z",
     "start_time": "2022-12-23T11:42:30.705682Z"
    }
   },
   "outputs": [
    {
     "name": "stdout",
     "output_type": "stream",
     "text": [
      "The smell and taste of the Lickety Stik was an instant success with our dog.<br />But the dispensing ball dosen't move easily, very much of the time,<br />and it's a nuisance for us to keep helping the ball turn for our dog to get this treat.<br />We get more on our hands then our Golden gets in his mouth.<br />When we try to turn the ball for our dog, even we find it difficult.<br /><br />The roller BALL is a concern, we don't consider it 'pet safe'.<br />If our Golden Retriver got this bottle,<br />he could easily bite this roller ball out and would try to eat it.<br /><br />The ball requires a strong tounge to move it, even at that it gets stuck.<br />We can't imagine this stik being at all compatible with small dogs.<br />If you squeeze the bottle to force the liquid out around the ball<br />most of that drops to the ground between licks.<br /><br />This would be a great idea if it worked, and was truely 'pet safe'.\n"
     ]
    }
   ],
   "source": [
    "print(X_test['ReviewText'].loc[310464])"
   ]
  },
  {
   "cell_type": "code",
   "execution_count": null,
   "id": "136d1c92",
   "metadata": {},
   "outputs": [],
   "source": []
  }
 ],
 "metadata": {
  "kernelspec": {
   "display_name": "Python 3 (ipykernel)",
   "language": "python",
   "name": "python3"
  },
  "language_info": {
   "codemirror_mode": {
    "name": "ipython",
    "version": 3
   },
   "file_extension": ".py",
   "mimetype": "text/x-python",
   "name": "python",
   "nbconvert_exporter": "python",
   "pygments_lexer": "ipython3",
   "version": "3.9.13"
  }
 },
 "nbformat": 4,
 "nbformat_minor": 5
}
